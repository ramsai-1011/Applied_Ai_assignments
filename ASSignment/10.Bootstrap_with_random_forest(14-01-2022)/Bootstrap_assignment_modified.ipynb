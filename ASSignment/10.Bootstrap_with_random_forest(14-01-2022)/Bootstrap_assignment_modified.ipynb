{
 "cells": [
  {
   "cell_type": "markdown",
   "metadata": {
    "id": "3sNKZq4XrXQh"
   },
   "source": [
    "# <font color='red'><b>Bootstrap assignment</b> </font>"
   ]
  },
  {
   "cell_type": "markdown",
   "metadata": {
    "id": "RAHap1Z3FZC-"
   },
   "source": [
    "<b>There will be some functions that start with the word \"grader\" ex: grader_sampples(), grader_30().. etc, you should not change those function definition.\n",
    "\n",
    "Every Grader function has to return True.</b>"
   ]
  },
  {
   "cell_type": "markdown",
   "metadata": {
    "id": "cuxBq_bvrwh2"
   },
   "source": [
    "<font color='blue'> <b>Importing packages</b> </font>"
   ]
  },
  {
   "cell_type": "code",
   "execution_count": 1,
   "metadata": {
    "id": "m6ag91ijrQOs"
   },
   "outputs": [],
   "source": [
    "import numpy as np # importing numpy for numerical computation\n",
    "from sklearn.datasets import load_boston # here we are using sklearn's boston dataset\n",
    "from sklearn.metrics import mean_squared_error # importing mean_squared_error metric\n"
   ]
  },
  {
   "cell_type": "code",
   "execution_count": 2,
   "metadata": {
    "id": "CcHOsONTt1K_"
   },
   "outputs": [],
   "source": [
    "boston = load_boston()\n",
    "x=boston.data #independent variables\n",
    "y=boston.target #target variable"
   ]
  },
  {
   "cell_type": "code",
   "execution_count": 3,
   "metadata": {
    "colab": {
     "base_uri": "https://localhost:8080/",
     "height": 34
    },
    "id": "pc1htEFYuLRj",
    "outputId": "f5b60712-98b3-4cdc-b629-3546c1e3859c"
   },
   "outputs": [
    {
     "data": {
      "text/plain": [
       "(506, 13)"
      ]
     },
     "execution_count": 3,
     "metadata": {},
     "output_type": "execute_result"
    }
   ],
   "source": [
    "x.shape"
   ]
  },
  {
   "cell_type": "code",
   "execution_count": 4,
   "metadata": {
    "colab": {
     "base_uri": "https://localhost:8080/",
     "height": 269
    },
    "id": "kQle3T_wuOa3",
    "outputId": "521c7bdd-5316-48d5-c534-b61d170d2c28"
   },
   "outputs": [
    {
     "data": {
      "text/plain": [
       "array([[6.3200e-03, 1.8000e+01, 2.3100e+00, 0.0000e+00, 5.3800e-01,\n",
       "        6.5750e+00, 6.5200e+01, 4.0900e+00, 1.0000e+00, 2.9600e+02,\n",
       "        1.5300e+01, 3.9690e+02, 4.9800e+00],\n",
       "       [2.7310e-02, 0.0000e+00, 7.0700e+00, 0.0000e+00, 4.6900e-01,\n",
       "        6.4210e+00, 7.8900e+01, 4.9671e+00, 2.0000e+00, 2.4200e+02,\n",
       "        1.7800e+01, 3.9690e+02, 9.1400e+00],\n",
       "       [2.7290e-02, 0.0000e+00, 7.0700e+00, 0.0000e+00, 4.6900e-01,\n",
       "        7.1850e+00, 6.1100e+01, 4.9671e+00, 2.0000e+00, 2.4200e+02,\n",
       "        1.7800e+01, 3.9283e+02, 4.0300e+00],\n",
       "       [3.2370e-02, 0.0000e+00, 2.1800e+00, 0.0000e+00, 4.5800e-01,\n",
       "        6.9980e+00, 4.5800e+01, 6.0622e+00, 3.0000e+00, 2.2200e+02,\n",
       "        1.8700e+01, 3.9463e+02, 2.9400e+00],\n",
       "       [6.9050e-02, 0.0000e+00, 2.1800e+00, 0.0000e+00, 4.5800e-01,\n",
       "        7.1470e+00, 5.4200e+01, 6.0622e+00, 3.0000e+00, 2.2200e+02,\n",
       "        1.8700e+01, 3.9690e+02, 5.3300e+00]])"
      ]
     },
     "execution_count": 4,
     "metadata": {},
     "output_type": "execute_result"
    }
   ],
   "source": [
    "x[:5]"
   ]
  },
  {
   "cell_type": "markdown",
   "metadata": {
    "id": "AEa_HqRZloH4"
   },
   "source": [
    "## <font color='red'><b>Task 1</b></font>"
   ]
  },
  {
   "cell_type": "markdown",
   "metadata": {
    "id": "YQ5q8IxHNRk3"
   },
   "source": [
    "<font color='red'> <b>Step - 1</b></font>"
   ]
  },
  {
   "cell_type": "markdown",
   "metadata": {
    "id": "GJCFCaOzl7Mr"
   },
   "source": [
    "*  <font color='blue'><b>Creating samples</b></font><br>\n",
    "    <b> Randomly create 30 samples from the whole boston data points</b>\n",
    "    *  Creating each sample: Consider any random 303(60% of 506) data points from whole data set and then replicate any 203 points from the sampled points\n",
    "    \n",
    "     For better understanding of this procedure lets check this examples, assume we have 10 data points [1,2,3,4,5,6,7,8,9,10], first we take 6 data points randomly , consider we have selected [4, 5, 7, 8, 9, 3] now we will replicate 4 points from [4, 5, 7, 8, 9, 3], consder they are [5, 8, 3,7] so our final sample will be [4, 5, 7, 8, 9, 3, 5, 8, 3,7]\n",
    "* <font color='blue'><b> Create 30 samples </b></font>\n",
    "    *  Note that as a part of the Bagging when you are taking the random samples <b>make sure each of the sample will have different set of columns</b><br>\n",
    "Ex: Assume we have 10 columns[1 ,2 ,3 ,4 ,5 ,6 ,7 ,8 ,9 ,10] for the first sample we will select [3, 4, 5, 9, 1, 2] and for the second sample  [7, 9, 1, 4, 5, 6, 2] and so on...\n",
    "Make sure each sample will have atleast 3 feautres/columns/attributes\n",
    "\n",
    "* <font color='red'><b> Note - While selecting the random 60% datapoints from the whole data, make sure that the selected datapoints are all exclusive, repetition is not allowed. </b></font>"
   ]
  },
  {
   "cell_type": "markdown",
   "metadata": {
    "id": "zUqFEBSvNjCa"
   },
   "source": [
    "<font color='red'><b>Step - 2 </b></font>"
   ]
  },
  {
   "cell_type": "markdown",
   "metadata": {
    "id": "uqi9AhCYNq3Z"
   },
   "source": [
    "<font color='blue'><b>Building High Variance Models on each of the sample and finding train MSE value</b></font>"
   ]
  },
  {
   "cell_type": "markdown",
   "metadata": {
    "id": "-lLBnZHXOFln"
   },
   "source": [
    "*  Build a regression trees on each of 30 samples.\n",
    "*  Computed the predicted values of each data point(506 data points) in your corpus.\n",
    "*  Predicted house price of $i^{th}$ data point $y^{i}_{pred} =  \\frac{1}{30}\\sum_{k=1}^{30}(\\text{predicted value of } x^{i} \\text{ with } k^{th} \\text{ model})$\n",
    "*  Now calculate the $MSE =  \\frac{1}{506}\\sum_{i=1}^{506}(y^{i} - y^{i}_{pred})^{2}$"
   ]
  },
  {
   "cell_type": "markdown",
   "metadata": {
    "id": "Kls23JLnSN23"
   },
   "source": [
    "<font color='red'> <b>Step - 3 </b></font>"
   ]
  },
  {
   "cell_type": "markdown",
   "metadata": {
    "id": "rz2GchkGSWnh"
   },
   "source": [
    "*  <font color='blue'><b>Calculating the OOB score </b></font>"
   ]
  },
  {
   "cell_type": "markdown",
   "metadata": {
    "id": "DGHkVV2kSibm"
   },
   "source": [
    "*  Predicted house price of $i^{th}$ data point $y^{i}_{pred} =  \\frac{1}{k}\\sum_{\\text{k= model which was buit on samples not included } x^{i}}(\\text{predicted value of } x^{i} \\text{ with } k^{th} \\text{ model})$.\n",
    "*  Now calculate the $OOB Score =  \\frac{1}{506}\\sum_{i=1}^{506}(y^{i} - y^{i}_{pred})^{2}$."
   ]
  },
  {
   "cell_type": "markdown",
   "metadata": {
    "id": "RK860ocxTyoz"
   },
   "source": [
    "# <font color='red'><b>Task 2</b></font>"
   ]
  },
  {
   "cell_type": "markdown",
   "metadata": {
    "id": "1dme-N6TUCrY"
   },
   "source": [
    "*  <font color='blue'><b>Computing CI of OOB Score and Train MSE</b></font>\n",
    "  *   Repeat Task 1 for 35 times, and for each iteration store the Train MSE and OOB score </li>\n",
    "<li> After this we will have 35 Train MSE values and 35 OOB scores </li>\n",
    "<li> using these 35 values (assume like a sample) find the confidence intravels of MSE and OOB Score </li>\n",
    "<li> you need to report CI of MSE and CI of OOB Score </li>\n",
    "<li> Note: Refer the Central_Limit_theorem.ipynb to check how to find the confidence intravel</li>\n",
    "</ol>"
   ]
  },
  {
   "cell_type": "markdown",
   "metadata": {
    "id": "O6UcH1x9Uwrj"
   },
   "source": [
    "# <font color='red'><b>Task 3</b></font>"
   ]
  },
  {
   "cell_type": "markdown",
   "metadata": {
    "id": "bOC_AgsLU7OH"
   },
   "source": [
    "*  <font color='blue'><b>Given a single query point predict the price of house.</b></font>"
   ]
  },
  {
   "cell_type": "markdown",
   "metadata": {
    "id": "HYs5jSFdVILe"
   },
   "source": [
    "Consider xq= [0.18,20.0,5.00,0.0,0.421,5.60,72.2,7.95,7.0,30.0,19.1,372.13,18.60] \n",
    "Predict the house price for this point as mentioned in the step 2 of Task 1."
   ]
  },
  {
   "cell_type": "markdown",
   "metadata": {
    "id": "u6rShd89t552"
   },
   "source": [
    "## <font color='red'><b>A few key points</b></font>"
   ]
  },
  {
   "cell_type": "markdown",
   "metadata": {
    "id": "XdgTUXTouHEd"
   },
   "source": [
    "* Remember that the datapoints used for calculating MSE score contain some datapoints that were initially used while training the base learners (the 60% sampling). This makes these datapoints partially seen (i.e. the datapoints used for calculating the MSE score are a mixture of seen and unseen data).\n",
    "Whereas, the datapoints used for calculating OOB score have only the unseen data. This makes these datapoints completely unseen and therefore appropriate for testing the model's performance on unseen data.\n",
    "\n",
    "* Given the information above, if your logic is correct, the calculated MSE score should be less than the OOB score.\n",
    "\n",
    "* The MSE score must lie between 0 and 10.\n",
    "* The OOB score must lie between 10 and 35.\n",
    "\n",
    "* The difference between the left nad right confidence-interval values must not be more than 10. Make sure this is true for both MSE and OOB confidence-interval values."
   ]
  },
  {
   "cell_type": "markdown",
   "metadata": {
    "id": "V2fHTdS_zpgG"
   },
   "source": [
    "# <font color='blue'> <b>Task - 1</b></font>"
   ]
  },
  {
   "cell_type": "markdown",
   "metadata": {
    "id": "e0yGBuryOwHz"
   },
   "source": [
    "<font color='blue'><b>Step - 1</b></font>"
   ]
  },
  {
   "cell_type": "markdown",
   "metadata": {
    "id": "lJXX8vf3z073"
   },
   "source": [
    "*  <font color='blue'> <b>Creating samples</b></font>"
   ]
  },
  {
   "cell_type": "markdown",
   "metadata": {
    "id": "CSVaWG1F4uCZ"
   },
   "source": [
    "<font color='Orange'><b>Algorithm</b></font>\n",
    "\n",
    "![alt text](https://i.imgur.com/OfcFrUP.jpg/)"
   ]
  },
  {
   "cell_type": "markdown",
   "metadata": {
    "id": "f_oWoN97BhDY"
   },
   "source": [
    "*  <font color='blue'><b> Write code for generating samples</b></font>"
   ]
  },
  {
   "cell_type": "code",
   "execution_count": 5,
   "metadata": {},
   "outputs": [],
   "source": [
    "#Modules used\n",
    "from sklearn.tree import DecisionTreeRegressor\n",
    "import pandas as pd\n",
    "from math import sqrt\n",
    "import numpy as np"
   ]
  },
  {
   "cell_type": "code",
   "execution_count": 6,
   "metadata": {
    "id": "Ph_6D2SDzz7F"
   },
   "outputs": [],
   "source": [
    "def generating_samples(input_data, target_data):\n",
    "\n",
    "    '''In this function, we will write code for generating 30 samples '''\n",
    "    # you can use random.choice to generate random indices without replacement\n",
    "    # Please have a look at this link https://docs.scipy.org/doc/numpy-1.16.0/reference/generated/numpy.random.choice.html for more details\n",
    "    # Please follow above pseudo code for generating samples \n",
    "    \n",
    "\n",
    "    # return sampled_input_data , sampled_target_data,selected_rows,selected_columns\n",
    "    #note please return as lists\n",
    "    \n",
    "    Selecting_rows=np.random.choice(np.arange(input_data.shape[0]),size=303,replace=False)\n",
    "    Replacing_rows=np.random.choice(np.arange(Selecting_rows.shape[0]),size=203,replace=False)\n",
    "    Selecting_columns=np.random.choice(np.arange(input_data.shape[1]),size=np.random.randint(4,13),replace=False)\n",
    "    sample_data=input_data[Selecting_rows[:,None],Selecting_columns]\n",
    "    target_of_sample_data=target_data[Selecting_rows]\n",
    "    #Replacted data\n",
    "    Replicated_sample_data=sample_data[Replacing_rows]\n",
    "    target_of_replicated_sample_data=target_of_sample_data[Replacing_rows]\n",
    "    #concantacing the data\n",
    "    final_sample_data=np.vstack([sample_data,Replicated_sample_data])\n",
    "    final_target_data=np.vstack([target_of_sample_data.reshape(-1,1),target_of_replicated_sample_data.reshape(-1,1)])\n",
    "    return list(final_sample_data),list(final_target_data),list(Selecting_rows),list(Selecting_columns)\n",
    "\n"
   ]
  },
  {
   "cell_type": "code",
   "execution_count": null,
   "metadata": {},
   "outputs": [],
   "source": []
  },
  {
   "cell_type": "markdown",
   "metadata": {
    "id": "MivEQFlm7iOg"
   },
   "source": [
    "<font color='cyan'> <b> Grader function - 1 </b> </fongt>"
   ]
  },
  {
   "cell_type": "code",
   "execution_count": 7,
   "metadata": {
    "id": "AVvuhNzm7uld"
   },
   "outputs": [
    {
     "data": {
      "text/plain": [
       "True"
      ]
     },
     "execution_count": 7,
     "metadata": {},
     "output_type": "execute_result"
    }
   ],
   "source": [
    "def grader_samples(a,b,c,d):\n",
    "    length = (len(a)==506  and len(b)==506)\n",
    "    sampled = (len(a)-len(set([str(i) for i in a]))==203)\n",
    "    rows_length = (len(c)==303)\n",
    "    column_length= (len(d)>=3)\n",
    "    assert(length and sampled and rows_length and column_length)\n",
    "    return True\n",
    "a,b,c,d = generating_samples(x, y)\n",
    "grader_samples(a,b,c,d)\n"
   ]
  },
  {
   "cell_type": "markdown",
   "metadata": {
    "id": "b4LSsmn4Jn2_"
   },
   "source": [
    "*  <font color='blue'> <b>Create 30 samples </b>"
   ]
  },
  {
   "cell_type": "markdown",
   "metadata": {
    "id": "3ec7MN6sL2BZ"
   },
   "source": [
    "![alt text](https://i.imgur.com/p8eZaWL.jpg)"
   ]
  },
  {
   "cell_type": "code",
   "execution_count": 8,
   "metadata": {
    "id": "XXlKWjCcBvTk"
   },
   "outputs": [],
   "source": [
    "# Use generating_samples function to create 30 samples \n",
    "# store these created samples in a list\n",
    "list_input_data =[]\n",
    "list_output_data =[]\n",
    "list_selected_row= []\n",
    "list_selected_columns=[]\n",
    "for i in range(0,30):\n",
    "    a,b,c,d = generating_samples(x, y)\n",
    "    list_input_data.append(a)\n",
    "    list_output_data.append(b)\n",
    "    list_selected_row.append(c)\n",
    "    list_selected_columns.append(d)\n",
    "    \n"
   ]
  },
  {
   "cell_type": "markdown",
   "metadata": {
    "id": "MXUz9VFiMQkh"
   },
   "source": [
    "<font color='cyan'> <b>Grader function - 2 </b></font>"
   ]
  },
  {
   "cell_type": "code",
   "execution_count": 9,
   "metadata": {
    "id": "hCvIq8NuMWOC"
   },
   "outputs": [
    {
     "data": {
      "text/plain": [
       "True"
      ]
     },
     "execution_count": 9,
     "metadata": {},
     "output_type": "execute_result"
    }
   ],
   "source": [
    "def grader_30(a):\n",
    "    assert(len(a)==30 and len(a[0])==506)\n",
    "    return True\n",
    "grader_30(list_input_data)"
   ]
  },
  {
   "cell_type": "markdown",
   "metadata": {
    "id": "7Pv-mkZkO6dh"
   },
   "source": [
    "<br>"
   ]
  },
  {
   "cell_type": "markdown",
   "metadata": {
    "id": "whaHCPB0O8qF"
   },
   "source": [
    "<font color='red'><b>Step - 2 </b></font>"
   ]
  },
  {
   "cell_type": "markdown",
   "metadata": {
    "id": "XBy4zXSWPtU8"
   },
   "source": [
    "<font color='orange'><b>Flowchart for building tree</b></font>"
   ]
  },
  {
   "cell_type": "markdown",
   "metadata": {
    "id": "5xvH06HPQBdP"
   },
   "source": [
    "![alt text](https://i.imgur.com/pcXfSmp.png)"
   ]
  },
  {
   "cell_type": "markdown",
   "metadata": {
    "id": "WRwPO_uHQjul"
   },
   "source": [
    "*  <font color='blue'><b> Write code for building regression trees</b></font>"
   ]
  },
  {
   "cell_type": "code",
   "execution_count": 10,
   "metadata": {
    "id": "YWQp6tRwMthq"
   },
   "outputs": [],
   "source": [
    "list_of_all_models=[]\n",
    "def Tree(input_data,target_data):\n",
    "    clf=DecisionTreeRegressor(max_depth=None)\n",
    "    clf.fit(input_data,target_data)\n",
    "    return clf\n",
    "for i in range(0,30):# Forming 30 differnet base trees\n",
    "    X=list_input_data[i]\n",
    "    Y=list_output_data[i]\n",
    "    T=Tree(X,Y)\n",
    "    list_of_all_models.append(T)\n",
    "\n"
   ]
  },
  {
   "cell_type": "markdown",
   "metadata": {
    "id": "21j8BKfAQ1U8"
   },
   "source": [
    "<font color='orange'><b>Flowchart for calculating MSE </b></font>"
   ]
  },
  {
   "cell_type": "markdown",
   "metadata": {
    "id": "8Q0mTBD2RBx_"
   },
   "source": [
    "![alt text](https://i.imgur.com/sPEE618.png)"
   ]
  },
  {
   "cell_type": "markdown",
   "metadata": {
    "id": "6e-UamlHRjPy"
   },
   "source": [
    "After getting predicted_y for each data point, we can use sklearns mean_squared_error to calculate the MSE between predicted_y and actual_y."
   ]
  },
  {
   "cell_type": "markdown",
   "metadata": {
    "id": "TnIMT7_oR312"
   },
   "source": [
    "*  <font color='blue'><b> Write code for calculating MSE</b></font>"
   ]
  },
  {
   "cell_type": "code",
   "execution_count": 11,
   "metadata": {
    "id": "qWhcvMRWRA9b"
   },
   "outputs": [
    {
     "name": "stdout",
     "output_type": "stream",
     "text": [
      "Mean Square ERROR 2.0956678902552084\n"
     ]
    }
   ],
   "source": [
    "list_of_all_predcts=[]\n",
    "for i in range(0,506):\n",
    "    temp_y_pred=[]\n",
    "    for j in range(0,30):\n",
    "        pred=x[i,list_selected_columns[j]].reshape(1,-1)\n",
    "        y_pred=list_of_all_models[j].predict(pred)#predcit y_value from model j which dont have that point\n",
    "        temp_y_pred.append(y_pred)  \n",
    "    list_of_all_predcts.append((1/30)*np.sum(np.array(temp_y_pred)))\n",
    "MSE=(1/506)*np.sum((y-list_of_all_predcts)**2)\n",
    "print(f'Mean Square ERROR {MSE}' )"
   ]
  },
  {
   "cell_type": "markdown",
   "metadata": {
    "id": "RuclPDMnSz8F"
   },
   "source": [
    "<font color='blue'><b>Step - 3 </b></font>"
   ]
  },
  {
   "cell_type": "markdown",
   "metadata": {
    "id": "ESb9FSIDTM5V"
   },
   "source": [
    "<font color='orange'><b>Flowchart for calculating OOB score</b></font>"
   ]
  },
  {
   "cell_type": "markdown",
   "metadata": {
    "id": "HB-d6NMETbd9"
   },
   "source": [
    "![alt text](https://i.imgur.com/95S5Mtm.png)"
   ]
  },
  {
   "cell_type": "markdown",
   "metadata": {
    "id": "WW3GOcFzTqbt"
   },
   "source": [
    "Now calculate the $OOB Score =  \\frac{1}{506}\\sum_{i=1}^{506}(y^{i} - y^{i}_{pred})^{2}$."
   ]
  },
  {
   "cell_type": "markdown",
   "metadata": {
    "id": "zBqcS03pUYSZ"
   },
   "source": [
    "*  <font color='blue'><b> Write code for calculating OOB score </b></font>"
   ]
  },
  {
   "cell_type": "code",
   "execution_count": 12,
   "metadata": {
    "id": "Fog_6DNdS-h_"
   },
   "outputs": [],
   "source": [
    "#input_data should be a dataframe \n",
    "#point_check should be a array with len of columns\n",
    "#columns should be indexes of columns that are present\n",
    "def check_point(df,pc,col):#Return True if the row is found in that input_data set\n",
    "    df=pd.DataFrame(df)\n",
    "    a=np.array(pc[col])\n",
    "    return (df==a).all(1).any()\n",
    "    \n"
   ]
  },
  {
   "cell_type": "code",
   "execution_count": 13,
   "metadata": {},
   "outputs": [],
   "source": [
    "list_of_new_y_pred=[]\n",
    "\n",
    "\n",
    "for i in range(0,506):\n",
    "    some_model_predcts=[]#used to store the moddel outputs for a point i from dataset X\n",
    "    found_tree=False#Just to check whether a datapoint is found a tree without that datapoint\n",
    "    k=0\n",
    "    for j in range(0,30):\n",
    "        a=check_point(list_input_data[j],x[i],list_selected_columns[j])#check whether a point exists in the jth model\n",
    "        if a:#If exists pass\n",
    "            pass\n",
    "        else:#else pred the value for that datapoint \n",
    "            found_tree=True\n",
    "            k=k+1\n",
    "            pred=x[i,list_selected_columns[j]].reshape(1,-1)\n",
    "            y_pred=list_of_all_models[j].predict(pred)#predcit y_value from model j which dont have that point\n",
    "            some_model_predcts.append(y_pred)#stroing all the predicted values for ith point    \n",
    "    list_of_new_y_pred.append((1/k)*np.sum(np.array(some_model_predcts)))"
   ]
  },
  {
   "cell_type": "code",
   "execution_count": 14,
   "metadata": {},
   "outputs": [
    {
     "name": "stdout",
     "output_type": "stream",
     "text": [
      "The OOBScore is 12.288839332109914\n"
     ]
    }
   ],
   "source": [
    "OOB=(1/506)*np.sum((np.array(y)-np.array(list_of_new_y_pred))**2)\n",
    "print(f'The OOBScore is {OOB}')"
   ]
  },
  {
   "cell_type": "markdown",
   "metadata": {
    "id": "sbuiwX3OUjUI"
   },
   "source": [
    "# <font color='blue'><b>Task 2</b></font>"
   ]
  },
  {
   "cell_type": "code",
   "execution_count": 15,
   "metadata": {
    "id": "ceW5-D88Uswi"
   },
   "outputs": [
    {
     "name": "stdout",
     "output_type": "stream",
     "text": [
      "0 1 2 3 4 5 6 7 8 9 10 11 12 13 14 15 16 17 18 19 20 21 22 23 24 25 26 27 28 29 30 31 32 33 34 "
     ]
    }
   ],
   "source": [
    "#Repeating task1 For 35 times\n",
    "MSE_35=[]\n",
    "OOB_35=[]\n",
    "for _ in range(0,35):\n",
    "    # Use generating_samples function to create 30 samples \n",
    "    # store these created samples in a list\n",
    "    list_input_data_35 =[]\n",
    "    list_output_data_35 =[]\n",
    "    list_selected_row_35= []\n",
    "    list_selected_columns_35=[]\n",
    "    for i in range(0,30):\n",
    "        a,b,c,d = generating_samples(x, y)\n",
    "        list_input_data_35.append(a)\n",
    "        list_output_data_35.append(b)\n",
    "        list_selected_row_35.append(c)\n",
    "        list_selected_columns_35.append(d)\n",
    "    list_of_all_models_35=[]\n",
    "    def Tree(input_data,target_data):\n",
    "        clf=DecisionTreeRegressor(max_depth=None)\n",
    "        clf.fit(input_data,target_data)\n",
    "        return clf\n",
    "    for i in range(0,30):\n",
    "        X=list_input_data_35[i]\n",
    "        Y=list_output_data_35[i]\n",
    "        T=Tree(X,Y)\n",
    "        list_of_all_models_35.append(T)\n",
    "    list_of_all_predcts_35=[]\n",
    "    for i in range(0,506):\n",
    "        temp_y_pred_35=[]\n",
    "        for j in range(0,30):\n",
    "            pred=x[i,list_selected_columns_35[j]].reshape(1,-1)\n",
    "            y_pred=list_of_all_models_35[j].predict(pred)#predcit y_value from model j which dont have that point\n",
    "            temp_y_pred_35.append(y_pred)  \n",
    "        list_of_all_predcts_35.append((1/30)*np.sum(np.array(temp_y_pred_35)))\n",
    "    MSE=(1/506)*np.sum((np.array(y)-np.array(list_of_all_predcts_35))**2)\n",
    "    #print(f'The MSE score is {MSE}')\n",
    "    MSE_35.append(MSE)\n",
    "    list_of_new_y_pred_35=[]\n",
    "    for i in range(0,506):\n",
    "        some_model_predcts_35=[]#used to store the moddel outputs for a point i from dataset X\n",
    "        found_tree=False\n",
    "        k=0\n",
    "        for j in range(0,30):\n",
    "            a=check_point(list_input_data_35[j],x[i],list_selected_columns_35[j])#check whether a point exists in the jth model\n",
    "            if a:#If exists pass\n",
    "                pass\n",
    "            else:#else pred the value for that datapoint \n",
    "                found_tree=True\n",
    "                k=k+1\n",
    "                pred=x[i,list_selected_columns_35[j]].reshape(1,-1)\n",
    "                y_pred=list_of_all_models_35[j].predict(pred)#predcit y_value from model j which dont have that point\n",
    "                some_model_predcts_35.append(y_pred)#stroing all the predicted values for ith point\n",
    "        list_of_new_y_pred_35.append((1/k)*np.sum(np.array(some_model_predcts_35)))#find mean of the points and store in a new array\n",
    "    OOB=(1/506)*np.sum((np.array(y)-np.array(list_of_new_y_pred_35))**2)\n",
    "    #print(f'The OOB score is {OOB}')\n",
    "    OOB_35.append(OOB)\n",
    "    print(f'{_}', end=' ')\n",
    "    \n",
    "\n",
    "\n",
    "\n",
    "\n",
    "    \n"
   ]
  },
  {
   "cell_type": "code",
   "execution_count": 16,
   "metadata": {},
   "outputs": [
    {
     "name": "stdout",
     "output_type": "stream",
     "text": [
      "[13.851426226748801, 13.448073027656783, 12.558260261587503, 13.672198242439741, 11.884333794890965, 14.067577550053254, 12.649400054228744, 13.641431683249365, 14.363030086444452, 14.277909113694674, 15.456461855139315, 14.44697205495984, 13.489906754108379, 15.092412901532821, 11.605218582644417, 13.885719970579938, 13.84268656940532, 14.307102281613947, 14.642076539555324, 16.88380249374791, 14.696349530746028, 14.151338012295108, 13.423881447757719, 13.164984463342053, 15.279193139103945, 12.6425369128406, 13.567132715542039, 15.356227055581536, 15.351175802113401, 14.267427883373157, 11.984782599173311, 13.704549773912065, 14.70050516610204, 12.828463287961071, 13.606294762288092]\n",
      "[2.25068308629776, 2.190505307910018, 2.5246168900982404, 2.291803683721269, 2.04580164690382, 2.3123905357927095, 2.0121528546332885, 2.758933383527988, 2.46655966231156, 2.5826427768018343, 2.8019691279005845, 2.463394397935833, 2.3613526053042495, 2.5328084114087726, 1.7465541501976274, 2.252641168713654, 2.1606913665641923, 2.7757870297784604, 2.801895597228321, 2.600298145873888, 2.4585574771690326, 2.4981203107672947, 2.3821162139930343, 2.2889391749621817, 2.7737661187114613, 2.281520138544569, 2.2155091128678084, 2.502558680314806, 2.427236209925339, 2.2020905717806087, 1.8268674700553502, 2.2974526127824126, 2.8648773425322815, 2.294777592348606, 2.2581529016005457]\n"
     ]
    }
   ],
   "source": [
    "print(OOB_35)\n",
    "print(MSE_35)"
   ]
  },
  {
   "cell_type": "code",
   "execution_count": 17,
   "metadata": {},
   "outputs": [],
   "source": [
    "# OOB_35=[14.404254247090917, 11.356516121696368, 13.231594747137741, 16.010466855943655, 13.756024396771558, 14.092364041828846, 12.000842528238277, 12.228644015500443, 12.724409477424867, 13.675533012774283, 13.461754138807702, 15.882330176406231, 12.535342670899487, 12.91609056553524, 13.648605832625213, 12.186551114017549, 15.601432083560157, 16.117555504270996, 14.72697681045974, 14.843027697447456, 13.137709418908834, 13.144077743388069, 13.214407889395822, 14.102543165507502, 11.625610307940105, 13.199508888876453, 13.599603026929593, 12.715818174136315, 13.380952201608265, 13.321829738149802, 13.062092418260068, 13.669982027330427, 13.853030496090033, 14.609245414632484, 12.41141432282715]\n",
    "# MSE_35=[2.4604760679442155, 1.9940492319054686, 2.215918712800015, 2.81720723641689, 2.2205558123505575, 2.2496287623544964, 1.8501277231050526, 2.133561784170205, 2.2836874798424094, 2.2932995872298845, 2.265011699604743, 2.767477865612648, 2.104581966388839, 2.104823999733923, 2.711341384211375, 2.1935291233988634, 2.489833441382423, 2.780805406114283, 2.5594912599485182, 2.618517318108622, 2.155851427316645, 2.048832800548992, 2.39240750238745, 2.2267518664909973, 1.9145948671497584, 2.2098879122078277, 2.046554731030108, 2.2646062700475853, 2.1225702290520636, 2.256176859903381, 2.2520874341238466, 2.513829489139292, 2.215134742441796, 2.55256592818346, 2.039630126479502]"
   ]
  },
  {
   "cell_type": "code",
   "execution_count": 18,
   "metadata": {},
   "outputs": [
    {
     "name": "stdout",
     "output_type": "stream",
     "text": [
      "Confidence Interval of MSE is [2.2969856011565746, 2.4747871849725342]\n",
      "Confidence interval of OOB is [13.536496023269269, 14.280123553668659]\n"
     ]
    }
   ],
   "source": [
    "def find_CI(li):#Find confidence interval for the given sampled data\n",
    "    m=np.mean(li)\n",
    "    se=np.std(li)/sqrt(len(li))\n",
    "    CI=[m-(2*se),m+(2*se)]\n",
    "    return CI\n",
    "print(f'Confidence Interval of MSE is {find_CI(MSE_35)}')\n",
    "print(f'Confidence interval of OOB is {find_CI(OOB_35)}')\n"
   ]
  },
  {
   "cell_type": "markdown",
   "metadata": {
    "id": "jKTnJdiBVS_e"
   },
   "source": [
    "# <font color='blue'><b>Task 3</b></font>"
   ]
  },
  {
   "cell_type": "markdown",
   "metadata": {
    "id": "eXxrvZqHV1Fr"
   },
   "source": [
    "<font color='orange'><b>Flowchart for Task 3</b></font>"
   ]
  },
  {
   "cell_type": "markdown",
   "metadata": {
    "id": "NyjwEJ62V6a6"
   },
   "source": [
    "<b>Hint: </b> We created 30 models by using 30 samples in TASK-1. Here, we need send query point \"xq\"  to 30 models and perform the regression on the output generated by 30 models."
   ]
  },
  {
   "cell_type": "markdown",
   "metadata": {
    "id": "0emSwLL7VurD"
   },
   "source": [
    "![alt text](https://i.imgur.com/Y5cNhQk.png)"
   ]
  },
  {
   "cell_type": "markdown",
   "metadata": {
    "id": "29hjwKlWWDfo"
   },
   "source": [
    "*  <font color='blue'><b> Write code for TASK 3 </b></font>"
   ]
  },
  {
   "cell_type": "code",
   "execution_count": 19,
   "metadata": {
    "id": "i_pUlSD-VYD1"
   },
   "outputs": [
    {
     "name": "stdout",
     "output_type": "stream",
     "text": [
      "19.32333333333333\n"
     ]
    }
   ],
   "source": [
    "#Predicting the Point using task1\n",
    "temp_y_pred_=[]\n",
    "xq= np.array([0.18,20.0,5.00,0.0,0.421,5.60,72.2,7.95,7.0,30.0,19.1,372.13,18.60])\n",
    "for j in range(0,30):\n",
    "        pred=xq[list_selected_columns[j]].reshape(1,-1)\n",
    "        y_pred=list_of_all_models[j].predict(pred)#predcit y_value from model j which dont have that point\n",
    "        temp_y_pred_.append((y_pred))\n",
    "print((1/30)*np.sum(np.asarray(temp_y_pred_)))"
   ]
  },
  {
   "cell_type": "markdown",
   "metadata": {
    "id": "DJHTGEZgWJjR"
   },
   "source": [
    "<br><br><br>"
   ]
  },
  {
   "cell_type": "markdown",
   "metadata": {
    "id": "IOdUi-0xWOJ9"
   },
   "source": [
    "<font color='red'><b>Write observations for task 1, task 2, task 3 indetail</b></font>"
   ]
  },
  {
   "cell_type": "code",
   "execution_count": null,
   "metadata": {
    "id": "AIcax45hWKT-"
   },
   "outputs": [],
   "source": [
    "#Observations\n",
    "#For Task-1\n",
    "#1.In task one we have build a random forest with 30-base trees\n",
    "#2. In this task-1 we have calculated the MSE and OOB for the given RandomForest\n",
    "\n",
    "#for task-2\n",
    "#In this task we have repeated task-1 for 35 times and got 35 different values of MSE and OOB\n",
    "#With that sample we have calculated the CI\n",
    "\n",
    "#for task3 \n",
    "#we have predicted the value for a given query point using the First RandomForest model we built in this.\n"
   ]
  }
 ],
 "metadata": {
  "colab": {
   "collapsed_sections": [],
   "name": "Bootstrap_assignment.ipynb",
   "provenance": []
  },
  "kernelspec": {
   "display_name": "Python 3",
   "language": "python",
   "name": "python3"
  },
  "language_info": {
   "codemirror_mode": {
    "name": "ipython",
    "version": 3
   },
   "file_extension": ".py",
   "mimetype": "text/x-python",
   "name": "python",
   "nbconvert_exporter": "python",
   "pygments_lexer": "ipython3",
   "version": "3.8.8"
  }
 },
 "nbformat": 4,
 "nbformat_minor": 1
}
