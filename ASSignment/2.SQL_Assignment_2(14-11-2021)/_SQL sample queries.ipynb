{
 "cells": [
  {
   "cell_type": "markdown",
   "metadata": {
    "id": "hmzI5oZ6E_Hp"
   },
   "source": [
    "# SQL Assignment"
   ]
  },
  {
   "cell_type": "code",
   "execution_count": 18,
   "metadata": {
    "executionInfo": {
     "elapsed": 3,
     "status": "ok",
     "timestamp": 1635177847613,
     "user": {
      "displayName": "Ram Sai",
      "photoUrl": "https://lh3.googleusercontent.com/a/default-user=s64",
      "userId": "06377951066656742255"
     },
     "user_tz": -330
    },
    "id": "wso5pGwnE_Ht"
   },
   "outputs": [],
   "source": [
    "import pandas as pd\n",
    "import sqlite3\n",
    "\n",
    "from IPython.display import display, HTML"
   ]
  },
  {
   "cell_type": "code",
   "execution_count": 19,
   "metadata": {
    "id": "uMYMAPLm23sp"
   },
   "outputs": [],
   "source": [
    "# Note that this is not the same db we have used in course videos, please download from this link\n",
    "# https://drive.google.com/file/d/1O-1-L1DdNxEK6O6nG2jS31MbrMh-OnXM/view?usp=sharing"
   ]
  },
  {
   "cell_type": "code",
   "execution_count": 20,
   "metadata": {
    "id": "xrUl9ShkE_H0"
   },
   "outputs": [],
   "source": [
    "conn = sqlite3.connect(\"Db-IMDB-Assignment.db\")\n",
    "c=conn.cursor()"
   ]
  },
  {
   "cell_type": "markdown",
   "metadata": {
    "id": "Z_ADQl2BE_H6"
   },
   "source": [
    "#### Overview of all tables"
   ]
  },
  {
   "cell_type": "code",
   "execution_count": 21,
   "metadata": {
    "id": "7ZfheusYE_H7",
    "scrolled": true
   },
   "outputs": [],
   "source": [
    "tables = pd.read_sql_query(\"SELECT NAME AS 'Table_Name' FROM sqlite_master WHERE type='table'\",conn)\n",
    "tables = tables[\"Table_Name\"].values.tolist()"
   ]
  },
  {
   "cell_type": "code",
   "execution_count": 22,
   "metadata": {
    "colab": {
     "base_uri": "https://localhost:8080/",
     "height": 1000
    },
    "executionInfo": {
     "elapsed": 1573,
     "status": "ok",
     "timestamp": 1609076958858,
     "user": {
      "displayName": "Applied AI Course",
      "photoUrl": "https://lh3.googleusercontent.com/a-/AOh14GhuSQ5tWcMSEyUXWi5GYagbq0BttLJf6r6PPxrB=s64",
      "userId": "00484516897554883881"
     },
     "user_tz": -330
    },
    "id": "f3zLh5FGE_H_",
    "outputId": "a443d072-a22f-4d15-bff8-0b8a4ee78d5c",
    "scrolled": true
   },
   "outputs": [
    {
     "name": "stdout",
     "output_type": "stream",
     "text": [
      "Schema of Movie\n"
     ]
    },
    {
     "data": {
      "text/html": [
       "<div>\n",
       "<style scoped>\n",
       "    .dataframe tbody tr th:only-of-type {\n",
       "        vertical-align: middle;\n",
       "    }\n",
       "\n",
       "    .dataframe tbody tr th {\n",
       "        vertical-align: top;\n",
       "    }\n",
       "\n",
       "    .dataframe thead th {\n",
       "        text-align: right;\n",
       "    }\n",
       "</style>\n",
       "<table border=\"1\" class=\"dataframe\">\n",
       "  <thead>\n",
       "    <tr style=\"text-align: right;\">\n",
       "      <th></th>\n",
       "      <th>cid</th>\n",
       "      <th>name</th>\n",
       "      <th>type</th>\n",
       "      <th>notnull</th>\n",
       "      <th>dflt_value</th>\n",
       "      <th>pk</th>\n",
       "    </tr>\n",
       "  </thead>\n",
       "  <tbody>\n",
       "    <tr>\n",
       "      <th>0</th>\n",
       "      <td>0</td>\n",
       "      <td>index</td>\n",
       "      <td>INTEGER</td>\n",
       "      <td>0</td>\n",
       "      <td>None</td>\n",
       "      <td>0</td>\n",
       "    </tr>\n",
       "    <tr>\n",
       "      <th>1</th>\n",
       "      <td>1</td>\n",
       "      <td>MID</td>\n",
       "      <td>TEXT</td>\n",
       "      <td>0</td>\n",
       "      <td>None</td>\n",
       "      <td>0</td>\n",
       "    </tr>\n",
       "    <tr>\n",
       "      <th>2</th>\n",
       "      <td>2</td>\n",
       "      <td>title</td>\n",
       "      <td>TEXT</td>\n",
       "      <td>0</td>\n",
       "      <td>None</td>\n",
       "      <td>0</td>\n",
       "    </tr>\n",
       "    <tr>\n",
       "      <th>3</th>\n",
       "      <td>3</td>\n",
       "      <td>year</td>\n",
       "      <td>TEXT</td>\n",
       "      <td>0</td>\n",
       "      <td>None</td>\n",
       "      <td>0</td>\n",
       "    </tr>\n",
       "    <tr>\n",
       "      <th>4</th>\n",
       "      <td>4</td>\n",
       "      <td>rating</td>\n",
       "      <td>REAL</td>\n",
       "      <td>0</td>\n",
       "      <td>None</td>\n",
       "      <td>0</td>\n",
       "    </tr>\n",
       "    <tr>\n",
       "      <th>5</th>\n",
       "      <td>5</td>\n",
       "      <td>num_votes</td>\n",
       "      <td>INTEGER</td>\n",
       "      <td>0</td>\n",
       "      <td>None</td>\n",
       "      <td>0</td>\n",
       "    </tr>\n",
       "  </tbody>\n",
       "</table>\n",
       "</div>"
      ],
      "text/plain": [
       "   cid       name     type  notnull dflt_value  pk\n",
       "0    0      index  INTEGER        0       None   0\n",
       "1    1        MID     TEXT        0       None   0\n",
       "2    2      title     TEXT        0       None   0\n",
       "3    3       year     TEXT        0       None   0\n",
       "4    4     rating     REAL        0       None   0\n",
       "5    5  num_votes  INTEGER        0       None   0"
      ]
     },
     "metadata": {},
     "output_type": "display_data"
    },
    {
     "name": "stdout",
     "output_type": "stream",
     "text": [
      "----------------------------------------------------------------------------------------------------\n",
      "\n",
      "\n",
      "Schema of Genre\n"
     ]
    },
    {
     "data": {
      "text/html": [
       "<div>\n",
       "<style scoped>\n",
       "    .dataframe tbody tr th:only-of-type {\n",
       "        vertical-align: middle;\n",
       "    }\n",
       "\n",
       "    .dataframe tbody tr th {\n",
       "        vertical-align: top;\n",
       "    }\n",
       "\n",
       "    .dataframe thead th {\n",
       "        text-align: right;\n",
       "    }\n",
       "</style>\n",
       "<table border=\"1\" class=\"dataframe\">\n",
       "  <thead>\n",
       "    <tr style=\"text-align: right;\">\n",
       "      <th></th>\n",
       "      <th>cid</th>\n",
       "      <th>name</th>\n",
       "      <th>type</th>\n",
       "      <th>notnull</th>\n",
       "      <th>dflt_value</th>\n",
       "      <th>pk</th>\n",
       "    </tr>\n",
       "  </thead>\n",
       "  <tbody>\n",
       "    <tr>\n",
       "      <th>0</th>\n",
       "      <td>0</td>\n",
       "      <td>index</td>\n",
       "      <td>INTEGER</td>\n",
       "      <td>0</td>\n",
       "      <td>None</td>\n",
       "      <td>0</td>\n",
       "    </tr>\n",
       "    <tr>\n",
       "      <th>1</th>\n",
       "      <td>1</td>\n",
       "      <td>Name</td>\n",
       "      <td>TEXT</td>\n",
       "      <td>0</td>\n",
       "      <td>None</td>\n",
       "      <td>0</td>\n",
       "    </tr>\n",
       "    <tr>\n",
       "      <th>2</th>\n",
       "      <td>2</td>\n",
       "      <td>GID</td>\n",
       "      <td>INTEGER</td>\n",
       "      <td>0</td>\n",
       "      <td>None</td>\n",
       "      <td>0</td>\n",
       "    </tr>\n",
       "  </tbody>\n",
       "</table>\n",
       "</div>"
      ],
      "text/plain": [
       "   cid   name     type  notnull dflt_value  pk\n",
       "0    0  index  INTEGER        0       None   0\n",
       "1    1   Name     TEXT        0       None   0\n",
       "2    2    GID  INTEGER        0       None   0"
      ]
     },
     "metadata": {},
     "output_type": "display_data"
    },
    {
     "name": "stdout",
     "output_type": "stream",
     "text": [
      "----------------------------------------------------------------------------------------------------\n",
      "\n",
      "\n",
      "Schema of Language\n"
     ]
    },
    {
     "data": {
      "text/html": [
       "<div>\n",
       "<style scoped>\n",
       "    .dataframe tbody tr th:only-of-type {\n",
       "        vertical-align: middle;\n",
       "    }\n",
       "\n",
       "    .dataframe tbody tr th {\n",
       "        vertical-align: top;\n",
       "    }\n",
       "\n",
       "    .dataframe thead th {\n",
       "        text-align: right;\n",
       "    }\n",
       "</style>\n",
       "<table border=\"1\" class=\"dataframe\">\n",
       "  <thead>\n",
       "    <tr style=\"text-align: right;\">\n",
       "      <th></th>\n",
       "      <th>cid</th>\n",
       "      <th>name</th>\n",
       "      <th>type</th>\n",
       "      <th>notnull</th>\n",
       "      <th>dflt_value</th>\n",
       "      <th>pk</th>\n",
       "    </tr>\n",
       "  </thead>\n",
       "  <tbody>\n",
       "    <tr>\n",
       "      <th>0</th>\n",
       "      <td>0</td>\n",
       "      <td>index</td>\n",
       "      <td>INTEGER</td>\n",
       "      <td>0</td>\n",
       "      <td>None</td>\n",
       "      <td>0</td>\n",
       "    </tr>\n",
       "    <tr>\n",
       "      <th>1</th>\n",
       "      <td>1</td>\n",
       "      <td>Name</td>\n",
       "      <td>TEXT</td>\n",
       "      <td>0</td>\n",
       "      <td>None</td>\n",
       "      <td>0</td>\n",
       "    </tr>\n",
       "    <tr>\n",
       "      <th>2</th>\n",
       "      <td>2</td>\n",
       "      <td>LAID</td>\n",
       "      <td>INTEGER</td>\n",
       "      <td>0</td>\n",
       "      <td>None</td>\n",
       "      <td>0</td>\n",
       "    </tr>\n",
       "  </tbody>\n",
       "</table>\n",
       "</div>"
      ],
      "text/plain": [
       "   cid   name     type  notnull dflt_value  pk\n",
       "0    0  index  INTEGER        0       None   0\n",
       "1    1   Name     TEXT        0       None   0\n",
       "2    2   LAID  INTEGER        0       None   0"
      ]
     },
     "metadata": {},
     "output_type": "display_data"
    },
    {
     "name": "stdout",
     "output_type": "stream",
     "text": [
      "----------------------------------------------------------------------------------------------------\n",
      "\n",
      "\n",
      "Schema of Country\n"
     ]
    },
    {
     "data": {
      "text/html": [
       "<div>\n",
       "<style scoped>\n",
       "    .dataframe tbody tr th:only-of-type {\n",
       "        vertical-align: middle;\n",
       "    }\n",
       "\n",
       "    .dataframe tbody tr th {\n",
       "        vertical-align: top;\n",
       "    }\n",
       "\n",
       "    .dataframe thead th {\n",
       "        text-align: right;\n",
       "    }\n",
       "</style>\n",
       "<table border=\"1\" class=\"dataframe\">\n",
       "  <thead>\n",
       "    <tr style=\"text-align: right;\">\n",
       "      <th></th>\n",
       "      <th>cid</th>\n",
       "      <th>name</th>\n",
       "      <th>type</th>\n",
       "      <th>notnull</th>\n",
       "      <th>dflt_value</th>\n",
       "      <th>pk</th>\n",
       "    </tr>\n",
       "  </thead>\n",
       "  <tbody>\n",
       "    <tr>\n",
       "      <th>0</th>\n",
       "      <td>0</td>\n",
       "      <td>index</td>\n",
       "      <td>INTEGER</td>\n",
       "      <td>0</td>\n",
       "      <td>None</td>\n",
       "      <td>0</td>\n",
       "    </tr>\n",
       "    <tr>\n",
       "      <th>1</th>\n",
       "      <td>1</td>\n",
       "      <td>Name</td>\n",
       "      <td>TEXT</td>\n",
       "      <td>0</td>\n",
       "      <td>None</td>\n",
       "      <td>0</td>\n",
       "    </tr>\n",
       "    <tr>\n",
       "      <th>2</th>\n",
       "      <td>2</td>\n",
       "      <td>CID</td>\n",
       "      <td>INTEGER</td>\n",
       "      <td>0</td>\n",
       "      <td>None</td>\n",
       "      <td>0</td>\n",
       "    </tr>\n",
       "  </tbody>\n",
       "</table>\n",
       "</div>"
      ],
      "text/plain": [
       "   cid   name     type  notnull dflt_value  pk\n",
       "0    0  index  INTEGER        0       None   0\n",
       "1    1   Name     TEXT        0       None   0\n",
       "2    2    CID  INTEGER        0       None   0"
      ]
     },
     "metadata": {},
     "output_type": "display_data"
    },
    {
     "name": "stdout",
     "output_type": "stream",
     "text": [
      "----------------------------------------------------------------------------------------------------\n",
      "\n",
      "\n",
      "Schema of Location\n"
     ]
    },
    {
     "data": {
      "text/html": [
       "<div>\n",
       "<style scoped>\n",
       "    .dataframe tbody tr th:only-of-type {\n",
       "        vertical-align: middle;\n",
       "    }\n",
       "\n",
       "    .dataframe tbody tr th {\n",
       "        vertical-align: top;\n",
       "    }\n",
       "\n",
       "    .dataframe thead th {\n",
       "        text-align: right;\n",
       "    }\n",
       "</style>\n",
       "<table border=\"1\" class=\"dataframe\">\n",
       "  <thead>\n",
       "    <tr style=\"text-align: right;\">\n",
       "      <th></th>\n",
       "      <th>cid</th>\n",
       "      <th>name</th>\n",
       "      <th>type</th>\n",
       "      <th>notnull</th>\n",
       "      <th>dflt_value</th>\n",
       "      <th>pk</th>\n",
       "    </tr>\n",
       "  </thead>\n",
       "  <tbody>\n",
       "    <tr>\n",
       "      <th>0</th>\n",
       "      <td>0</td>\n",
       "      <td>index</td>\n",
       "      <td>INTEGER</td>\n",
       "      <td>0</td>\n",
       "      <td>None</td>\n",
       "      <td>0</td>\n",
       "    </tr>\n",
       "    <tr>\n",
       "      <th>1</th>\n",
       "      <td>1</td>\n",
       "      <td>Name</td>\n",
       "      <td>TEXT</td>\n",
       "      <td>0</td>\n",
       "      <td>None</td>\n",
       "      <td>0</td>\n",
       "    </tr>\n",
       "    <tr>\n",
       "      <th>2</th>\n",
       "      <td>2</td>\n",
       "      <td>LID</td>\n",
       "      <td>INTEGER</td>\n",
       "      <td>0</td>\n",
       "      <td>None</td>\n",
       "      <td>0</td>\n",
       "    </tr>\n",
       "  </tbody>\n",
       "</table>\n",
       "</div>"
      ],
      "text/plain": [
       "   cid   name     type  notnull dflt_value  pk\n",
       "0    0  index  INTEGER        0       None   0\n",
       "1    1   Name     TEXT        0       None   0\n",
       "2    2    LID  INTEGER        0       None   0"
      ]
     },
     "metadata": {},
     "output_type": "display_data"
    },
    {
     "name": "stdout",
     "output_type": "stream",
     "text": [
      "----------------------------------------------------------------------------------------------------\n",
      "\n",
      "\n",
      "Schema of M_Location\n"
     ]
    },
    {
     "data": {
      "text/html": [
       "<div>\n",
       "<style scoped>\n",
       "    .dataframe tbody tr th:only-of-type {\n",
       "        vertical-align: middle;\n",
       "    }\n",
       "\n",
       "    .dataframe tbody tr th {\n",
       "        vertical-align: top;\n",
       "    }\n",
       "\n",
       "    .dataframe thead th {\n",
       "        text-align: right;\n",
       "    }\n",
       "</style>\n",
       "<table border=\"1\" class=\"dataframe\">\n",
       "  <thead>\n",
       "    <tr style=\"text-align: right;\">\n",
       "      <th></th>\n",
       "      <th>cid</th>\n",
       "      <th>name</th>\n",
       "      <th>type</th>\n",
       "      <th>notnull</th>\n",
       "      <th>dflt_value</th>\n",
       "      <th>pk</th>\n",
       "    </tr>\n",
       "  </thead>\n",
       "  <tbody>\n",
       "    <tr>\n",
       "      <th>0</th>\n",
       "      <td>0</td>\n",
       "      <td>index</td>\n",
       "      <td>INTEGER</td>\n",
       "      <td>0</td>\n",
       "      <td>None</td>\n",
       "      <td>0</td>\n",
       "    </tr>\n",
       "    <tr>\n",
       "      <th>1</th>\n",
       "      <td>1</td>\n",
       "      <td>MID</td>\n",
       "      <td>TEXT</td>\n",
       "      <td>0</td>\n",
       "      <td>None</td>\n",
       "      <td>0</td>\n",
       "    </tr>\n",
       "    <tr>\n",
       "      <th>2</th>\n",
       "      <td>2</td>\n",
       "      <td>LID</td>\n",
       "      <td>REAL</td>\n",
       "      <td>0</td>\n",
       "      <td>None</td>\n",
       "      <td>0</td>\n",
       "    </tr>\n",
       "    <tr>\n",
       "      <th>3</th>\n",
       "      <td>3</td>\n",
       "      <td>ID</td>\n",
       "      <td>INTEGER</td>\n",
       "      <td>0</td>\n",
       "      <td>None</td>\n",
       "      <td>0</td>\n",
       "    </tr>\n",
       "  </tbody>\n",
       "</table>\n",
       "</div>"
      ],
      "text/plain": [
       "   cid   name     type  notnull dflt_value  pk\n",
       "0    0  index  INTEGER        0       None   0\n",
       "1    1    MID     TEXT        0       None   0\n",
       "2    2    LID     REAL        0       None   0\n",
       "3    3     ID  INTEGER        0       None   0"
      ]
     },
     "metadata": {},
     "output_type": "display_data"
    },
    {
     "name": "stdout",
     "output_type": "stream",
     "text": [
      "----------------------------------------------------------------------------------------------------\n",
      "\n",
      "\n",
      "Schema of M_Country\n"
     ]
    },
    {
     "data": {
      "text/html": [
       "<div>\n",
       "<style scoped>\n",
       "    .dataframe tbody tr th:only-of-type {\n",
       "        vertical-align: middle;\n",
       "    }\n",
       "\n",
       "    .dataframe tbody tr th {\n",
       "        vertical-align: top;\n",
       "    }\n",
       "\n",
       "    .dataframe thead th {\n",
       "        text-align: right;\n",
       "    }\n",
       "</style>\n",
       "<table border=\"1\" class=\"dataframe\">\n",
       "  <thead>\n",
       "    <tr style=\"text-align: right;\">\n",
       "      <th></th>\n",
       "      <th>cid</th>\n",
       "      <th>name</th>\n",
       "      <th>type</th>\n",
       "      <th>notnull</th>\n",
       "      <th>dflt_value</th>\n",
       "      <th>pk</th>\n",
       "    </tr>\n",
       "  </thead>\n",
       "  <tbody>\n",
       "    <tr>\n",
       "      <th>0</th>\n",
       "      <td>0</td>\n",
       "      <td>index</td>\n",
       "      <td>INTEGER</td>\n",
       "      <td>0</td>\n",
       "      <td>None</td>\n",
       "      <td>0</td>\n",
       "    </tr>\n",
       "    <tr>\n",
       "      <th>1</th>\n",
       "      <td>1</td>\n",
       "      <td>MID</td>\n",
       "      <td>TEXT</td>\n",
       "      <td>0</td>\n",
       "      <td>None</td>\n",
       "      <td>0</td>\n",
       "    </tr>\n",
       "    <tr>\n",
       "      <th>2</th>\n",
       "      <td>2</td>\n",
       "      <td>CID</td>\n",
       "      <td>REAL</td>\n",
       "      <td>0</td>\n",
       "      <td>None</td>\n",
       "      <td>0</td>\n",
       "    </tr>\n",
       "    <tr>\n",
       "      <th>3</th>\n",
       "      <td>3</td>\n",
       "      <td>ID</td>\n",
       "      <td>INTEGER</td>\n",
       "      <td>0</td>\n",
       "      <td>None</td>\n",
       "      <td>0</td>\n",
       "    </tr>\n",
       "  </tbody>\n",
       "</table>\n",
       "</div>"
      ],
      "text/plain": [
       "   cid   name     type  notnull dflt_value  pk\n",
       "0    0  index  INTEGER        0       None   0\n",
       "1    1    MID     TEXT        0       None   0\n",
       "2    2    CID     REAL        0       None   0\n",
       "3    3     ID  INTEGER        0       None   0"
      ]
     },
     "metadata": {},
     "output_type": "display_data"
    },
    {
     "name": "stdout",
     "output_type": "stream",
     "text": [
      "----------------------------------------------------------------------------------------------------\n",
      "\n",
      "\n",
      "Schema of M_Language\n"
     ]
    },
    {
     "data": {
      "text/html": [
       "<div>\n",
       "<style scoped>\n",
       "    .dataframe tbody tr th:only-of-type {\n",
       "        vertical-align: middle;\n",
       "    }\n",
       "\n",
       "    .dataframe tbody tr th {\n",
       "        vertical-align: top;\n",
       "    }\n",
       "\n",
       "    .dataframe thead th {\n",
       "        text-align: right;\n",
       "    }\n",
       "</style>\n",
       "<table border=\"1\" class=\"dataframe\">\n",
       "  <thead>\n",
       "    <tr style=\"text-align: right;\">\n",
       "      <th></th>\n",
       "      <th>cid</th>\n",
       "      <th>name</th>\n",
       "      <th>type</th>\n",
       "      <th>notnull</th>\n",
       "      <th>dflt_value</th>\n",
       "      <th>pk</th>\n",
       "    </tr>\n",
       "  </thead>\n",
       "  <tbody>\n",
       "    <tr>\n",
       "      <th>0</th>\n",
       "      <td>0</td>\n",
       "      <td>index</td>\n",
       "      <td>INTEGER</td>\n",
       "      <td>0</td>\n",
       "      <td>None</td>\n",
       "      <td>0</td>\n",
       "    </tr>\n",
       "    <tr>\n",
       "      <th>1</th>\n",
       "      <td>1</td>\n",
       "      <td>MID</td>\n",
       "      <td>TEXT</td>\n",
       "      <td>0</td>\n",
       "      <td>None</td>\n",
       "      <td>0</td>\n",
       "    </tr>\n",
       "    <tr>\n",
       "      <th>2</th>\n",
       "      <td>2</td>\n",
       "      <td>LAID</td>\n",
       "      <td>INTEGER</td>\n",
       "      <td>0</td>\n",
       "      <td>None</td>\n",
       "      <td>0</td>\n",
       "    </tr>\n",
       "    <tr>\n",
       "      <th>3</th>\n",
       "      <td>3</td>\n",
       "      <td>ID</td>\n",
       "      <td>INTEGER</td>\n",
       "      <td>0</td>\n",
       "      <td>None</td>\n",
       "      <td>0</td>\n",
       "    </tr>\n",
       "  </tbody>\n",
       "</table>\n",
       "</div>"
      ],
      "text/plain": [
       "   cid   name     type  notnull dflt_value  pk\n",
       "0    0  index  INTEGER        0       None   0\n",
       "1    1    MID     TEXT        0       None   0\n",
       "2    2   LAID  INTEGER        0       None   0\n",
       "3    3     ID  INTEGER        0       None   0"
      ]
     },
     "metadata": {},
     "output_type": "display_data"
    },
    {
     "name": "stdout",
     "output_type": "stream",
     "text": [
      "----------------------------------------------------------------------------------------------------\n",
      "\n",
      "\n",
      "Schema of M_Genre\n"
     ]
    },
    {
     "data": {
      "text/html": [
       "<div>\n",
       "<style scoped>\n",
       "    .dataframe tbody tr th:only-of-type {\n",
       "        vertical-align: middle;\n",
       "    }\n",
       "\n",
       "    .dataframe tbody tr th {\n",
       "        vertical-align: top;\n",
       "    }\n",
       "\n",
       "    .dataframe thead th {\n",
       "        text-align: right;\n",
       "    }\n",
       "</style>\n",
       "<table border=\"1\" class=\"dataframe\">\n",
       "  <thead>\n",
       "    <tr style=\"text-align: right;\">\n",
       "      <th></th>\n",
       "      <th>cid</th>\n",
       "      <th>name</th>\n",
       "      <th>type</th>\n",
       "      <th>notnull</th>\n",
       "      <th>dflt_value</th>\n",
       "      <th>pk</th>\n",
       "    </tr>\n",
       "  </thead>\n",
       "  <tbody>\n",
       "    <tr>\n",
       "      <th>0</th>\n",
       "      <td>0</td>\n",
       "      <td>index</td>\n",
       "      <td>INTEGER</td>\n",
       "      <td>0</td>\n",
       "      <td>None</td>\n",
       "      <td>0</td>\n",
       "    </tr>\n",
       "    <tr>\n",
       "      <th>1</th>\n",
       "      <td>1</td>\n",
       "      <td>MID</td>\n",
       "      <td>TEXT</td>\n",
       "      <td>0</td>\n",
       "      <td>None</td>\n",
       "      <td>0</td>\n",
       "    </tr>\n",
       "    <tr>\n",
       "      <th>2</th>\n",
       "      <td>2</td>\n",
       "      <td>GID</td>\n",
       "      <td>INTEGER</td>\n",
       "      <td>0</td>\n",
       "      <td>None</td>\n",
       "      <td>0</td>\n",
       "    </tr>\n",
       "    <tr>\n",
       "      <th>3</th>\n",
       "      <td>3</td>\n",
       "      <td>ID</td>\n",
       "      <td>INTEGER</td>\n",
       "      <td>0</td>\n",
       "      <td>None</td>\n",
       "      <td>0</td>\n",
       "    </tr>\n",
       "  </tbody>\n",
       "</table>\n",
       "</div>"
      ],
      "text/plain": [
       "   cid   name     type  notnull dflt_value  pk\n",
       "0    0  index  INTEGER        0       None   0\n",
       "1    1    MID     TEXT        0       None   0\n",
       "2    2    GID  INTEGER        0       None   0\n",
       "3    3     ID  INTEGER        0       None   0"
      ]
     },
     "metadata": {},
     "output_type": "display_data"
    },
    {
     "name": "stdout",
     "output_type": "stream",
     "text": [
      "----------------------------------------------------------------------------------------------------\n",
      "\n",
      "\n",
      "Schema of Person\n"
     ]
    },
    {
     "data": {
      "text/html": [
       "<div>\n",
       "<style scoped>\n",
       "    .dataframe tbody tr th:only-of-type {\n",
       "        vertical-align: middle;\n",
       "    }\n",
       "\n",
       "    .dataframe tbody tr th {\n",
       "        vertical-align: top;\n",
       "    }\n",
       "\n",
       "    .dataframe thead th {\n",
       "        text-align: right;\n",
       "    }\n",
       "</style>\n",
       "<table border=\"1\" class=\"dataframe\">\n",
       "  <thead>\n",
       "    <tr style=\"text-align: right;\">\n",
       "      <th></th>\n",
       "      <th>cid</th>\n",
       "      <th>name</th>\n",
       "      <th>type</th>\n",
       "      <th>notnull</th>\n",
       "      <th>dflt_value</th>\n",
       "      <th>pk</th>\n",
       "    </tr>\n",
       "  </thead>\n",
       "  <tbody>\n",
       "    <tr>\n",
       "      <th>0</th>\n",
       "      <td>0</td>\n",
       "      <td>index</td>\n",
       "      <td>INTEGER</td>\n",
       "      <td>0</td>\n",
       "      <td>None</td>\n",
       "      <td>0</td>\n",
       "    </tr>\n",
       "    <tr>\n",
       "      <th>1</th>\n",
       "      <td>1</td>\n",
       "      <td>PID</td>\n",
       "      <td>TEXT</td>\n",
       "      <td>0</td>\n",
       "      <td>None</td>\n",
       "      <td>0</td>\n",
       "    </tr>\n",
       "    <tr>\n",
       "      <th>2</th>\n",
       "      <td>2</td>\n",
       "      <td>Name</td>\n",
       "      <td>TEXT</td>\n",
       "      <td>0</td>\n",
       "      <td>None</td>\n",
       "      <td>0</td>\n",
       "    </tr>\n",
       "    <tr>\n",
       "      <th>3</th>\n",
       "      <td>3</td>\n",
       "      <td>Gender</td>\n",
       "      <td>TEXT</td>\n",
       "      <td>0</td>\n",
       "      <td>None</td>\n",
       "      <td>0</td>\n",
       "    </tr>\n",
       "  </tbody>\n",
       "</table>\n",
       "</div>"
      ],
      "text/plain": [
       "   cid    name     type  notnull dflt_value  pk\n",
       "0    0   index  INTEGER        0       None   0\n",
       "1    1     PID     TEXT        0       None   0\n",
       "2    2    Name     TEXT        0       None   0\n",
       "3    3  Gender     TEXT        0       None   0"
      ]
     },
     "metadata": {},
     "output_type": "display_data"
    },
    {
     "name": "stdout",
     "output_type": "stream",
     "text": [
      "----------------------------------------------------------------------------------------------------\n",
      "\n",
      "\n",
      "Schema of M_Producer\n"
     ]
    },
    {
     "data": {
      "text/html": [
       "<div>\n",
       "<style scoped>\n",
       "    .dataframe tbody tr th:only-of-type {\n",
       "        vertical-align: middle;\n",
       "    }\n",
       "\n",
       "    .dataframe tbody tr th {\n",
       "        vertical-align: top;\n",
       "    }\n",
       "\n",
       "    .dataframe thead th {\n",
       "        text-align: right;\n",
       "    }\n",
       "</style>\n",
       "<table border=\"1\" class=\"dataframe\">\n",
       "  <thead>\n",
       "    <tr style=\"text-align: right;\">\n",
       "      <th></th>\n",
       "      <th>cid</th>\n",
       "      <th>name</th>\n",
       "      <th>type</th>\n",
       "      <th>notnull</th>\n",
       "      <th>dflt_value</th>\n",
       "      <th>pk</th>\n",
       "    </tr>\n",
       "  </thead>\n",
       "  <tbody>\n",
       "    <tr>\n",
       "      <th>0</th>\n",
       "      <td>0</td>\n",
       "      <td>index</td>\n",
       "      <td>INTEGER</td>\n",
       "      <td>0</td>\n",
       "      <td>None</td>\n",
       "      <td>0</td>\n",
       "    </tr>\n",
       "    <tr>\n",
       "      <th>1</th>\n",
       "      <td>1</td>\n",
       "      <td>MID</td>\n",
       "      <td>TEXT</td>\n",
       "      <td>0</td>\n",
       "      <td>None</td>\n",
       "      <td>0</td>\n",
       "    </tr>\n",
       "    <tr>\n",
       "      <th>2</th>\n",
       "      <td>2</td>\n",
       "      <td>PID</td>\n",
       "      <td>TEXT</td>\n",
       "      <td>0</td>\n",
       "      <td>None</td>\n",
       "      <td>0</td>\n",
       "    </tr>\n",
       "    <tr>\n",
       "      <th>3</th>\n",
       "      <td>3</td>\n",
       "      <td>ID</td>\n",
       "      <td>INTEGER</td>\n",
       "      <td>0</td>\n",
       "      <td>None</td>\n",
       "      <td>0</td>\n",
       "    </tr>\n",
       "  </tbody>\n",
       "</table>\n",
       "</div>"
      ],
      "text/plain": [
       "   cid   name     type  notnull dflt_value  pk\n",
       "0    0  index  INTEGER        0       None   0\n",
       "1    1    MID     TEXT        0       None   0\n",
       "2    2    PID     TEXT        0       None   0\n",
       "3    3     ID  INTEGER        0       None   0"
      ]
     },
     "metadata": {},
     "output_type": "display_data"
    },
    {
     "name": "stdout",
     "output_type": "stream",
     "text": [
      "----------------------------------------------------------------------------------------------------\n",
      "\n",
      "\n",
      "Schema of M_Director\n"
     ]
    },
    {
     "data": {
      "text/html": [
       "<div>\n",
       "<style scoped>\n",
       "    .dataframe tbody tr th:only-of-type {\n",
       "        vertical-align: middle;\n",
       "    }\n",
       "\n",
       "    .dataframe tbody tr th {\n",
       "        vertical-align: top;\n",
       "    }\n",
       "\n",
       "    .dataframe thead th {\n",
       "        text-align: right;\n",
       "    }\n",
       "</style>\n",
       "<table border=\"1\" class=\"dataframe\">\n",
       "  <thead>\n",
       "    <tr style=\"text-align: right;\">\n",
       "      <th></th>\n",
       "      <th>cid</th>\n",
       "      <th>name</th>\n",
       "      <th>type</th>\n",
       "      <th>notnull</th>\n",
       "      <th>dflt_value</th>\n",
       "      <th>pk</th>\n",
       "    </tr>\n",
       "  </thead>\n",
       "  <tbody>\n",
       "    <tr>\n",
       "      <th>0</th>\n",
       "      <td>0</td>\n",
       "      <td>index</td>\n",
       "      <td>INTEGER</td>\n",
       "      <td>0</td>\n",
       "      <td>None</td>\n",
       "      <td>0</td>\n",
       "    </tr>\n",
       "    <tr>\n",
       "      <th>1</th>\n",
       "      <td>1</td>\n",
       "      <td>MID</td>\n",
       "      <td>TEXT</td>\n",
       "      <td>0</td>\n",
       "      <td>None</td>\n",
       "      <td>0</td>\n",
       "    </tr>\n",
       "    <tr>\n",
       "      <th>2</th>\n",
       "      <td>2</td>\n",
       "      <td>PID</td>\n",
       "      <td>TEXT</td>\n",
       "      <td>0</td>\n",
       "      <td>None</td>\n",
       "      <td>0</td>\n",
       "    </tr>\n",
       "    <tr>\n",
       "      <th>3</th>\n",
       "      <td>3</td>\n",
       "      <td>ID</td>\n",
       "      <td>INTEGER</td>\n",
       "      <td>0</td>\n",
       "      <td>None</td>\n",
       "      <td>0</td>\n",
       "    </tr>\n",
       "  </tbody>\n",
       "</table>\n",
       "</div>"
      ],
      "text/plain": [
       "   cid   name     type  notnull dflt_value  pk\n",
       "0    0  index  INTEGER        0       None   0\n",
       "1    1    MID     TEXT        0       None   0\n",
       "2    2    PID     TEXT        0       None   0\n",
       "3    3     ID  INTEGER        0       None   0"
      ]
     },
     "metadata": {},
     "output_type": "display_data"
    },
    {
     "name": "stdout",
     "output_type": "stream",
     "text": [
      "----------------------------------------------------------------------------------------------------\n",
      "\n",
      "\n",
      "Schema of M_Cast\n"
     ]
    },
    {
     "data": {
      "text/html": [
       "<div>\n",
       "<style scoped>\n",
       "    .dataframe tbody tr th:only-of-type {\n",
       "        vertical-align: middle;\n",
       "    }\n",
       "\n",
       "    .dataframe tbody tr th {\n",
       "        vertical-align: top;\n",
       "    }\n",
       "\n",
       "    .dataframe thead th {\n",
       "        text-align: right;\n",
       "    }\n",
       "</style>\n",
       "<table border=\"1\" class=\"dataframe\">\n",
       "  <thead>\n",
       "    <tr style=\"text-align: right;\">\n",
       "      <th></th>\n",
       "      <th>cid</th>\n",
       "      <th>name</th>\n",
       "      <th>type</th>\n",
       "      <th>notnull</th>\n",
       "      <th>dflt_value</th>\n",
       "      <th>pk</th>\n",
       "    </tr>\n",
       "  </thead>\n",
       "  <tbody>\n",
       "    <tr>\n",
       "      <th>0</th>\n",
       "      <td>0</td>\n",
       "      <td>index</td>\n",
       "      <td>INTEGER</td>\n",
       "      <td>0</td>\n",
       "      <td>None</td>\n",
       "      <td>0</td>\n",
       "    </tr>\n",
       "    <tr>\n",
       "      <th>1</th>\n",
       "      <td>1</td>\n",
       "      <td>MID</td>\n",
       "      <td>TEXT</td>\n",
       "      <td>0</td>\n",
       "      <td>None</td>\n",
       "      <td>0</td>\n",
       "    </tr>\n",
       "    <tr>\n",
       "      <th>2</th>\n",
       "      <td>2</td>\n",
       "      <td>PID</td>\n",
       "      <td>TEXT</td>\n",
       "      <td>0</td>\n",
       "      <td>None</td>\n",
       "      <td>0</td>\n",
       "    </tr>\n",
       "    <tr>\n",
       "      <th>3</th>\n",
       "      <td>3</td>\n",
       "      <td>ID</td>\n",
       "      <td>INTEGER</td>\n",
       "      <td>0</td>\n",
       "      <td>None</td>\n",
       "      <td>0</td>\n",
       "    </tr>\n",
       "  </tbody>\n",
       "</table>\n",
       "</div>"
      ],
      "text/plain": [
       "   cid   name     type  notnull dflt_value  pk\n",
       "0    0  index  INTEGER        0       None   0\n",
       "1    1    MID     TEXT        0       None   0\n",
       "2    2    PID     TEXT        0       None   0\n",
       "3    3     ID  INTEGER        0       None   0"
      ]
     },
     "metadata": {},
     "output_type": "display_data"
    },
    {
     "name": "stdout",
     "output_type": "stream",
     "text": [
      "----------------------------------------------------------------------------------------------------\n",
      "\n",
      "\n"
     ]
    }
   ],
   "source": [
    "for table in tables:\n",
    "    query = \"PRAGMA TABLE_INFO({})\".format(table)\n",
    "    schema = pd.read_sql_query(query,conn)\n",
    "    print(\"Schema of\",table)\n",
    "    display(schema)\n",
    "    print(\"-\"*100)\n",
    "    print(\"\\n\")"
   ]
  },
  {
   "cell_type": "markdown",
   "metadata": {
    "id": "O4Cj0Wdz23tA"
   },
   "source": [
    "## Useful tips:\n",
    "\n",
    "1. the year column in 'Movie' table, will have few chracters other than numbers which you need to be preprocessed, you need to get a substring of last 4 characters, its better if you convert it as int type, ex: CAST(SUBSTR(TRIM(m.year),-4) AS INTEGER)\n",
    "\n",
    "2. For almost all the TEXT columns we have show, please try to remove trailing spaces, you need to use TRIM() function\n",
    "\n",
    "3. When you are doing count(coulmn) it won't consider the \"NULL\" values, you might need to explore other alternatives like Count(*)"
   ]
  },
  {
   "cell_type": "markdown",
   "metadata": {
    "id": "jL9AmM3oE_IZ"
   },
   "source": [
    "## Q1 --- List all the directors who directed a 'Comedy' movie in a leap year. (You need to check that the genre is 'Comedy’ and year is a leap year) Your query should return director name, the movie name, and the year."
   ]
  },
  {
   "cell_type": "markdown",
   "metadata": {
    "id": "1jglmxDuE_Ib"
   },
   "source": [
    "<h4>To determine whether a year is a leap year, follow these steps:</h4>\n",
    "\n",
    "<ul>\n",
    "    <li><b>STEP-1:</b> If the year is evenly divisible by 4, go to step 2. Otherwise, go to step 5.</li>\n",
    "    <li><b>STEP-2:</b> If the year is evenly divisible by 100, go to step 3. Otherwise, go to step 4.</li>\n",
    "    <li><b>STEP-3:</b> If the year is evenly divisible by 400, go to step 4. Otherwise, go to step 5.</li>\n",
    "    <li><b>STEP-4:</b> The year is a leap year (it has 366 days).</li>\n",
    "    <li><b>STEP-5:</b> The year is not a leap year (it has 365 days).</li>\n",
    "</ul>\n",
    "\n",
    "Year 1900 is divisible by 4 and 100 but it is not divisible by 400, so it is not a leap year."
   ]
  },
  {
   "cell_type": "code",
   "execution_count": 23,
   "metadata": {
    "colab": {
     "base_uri": "https://localhost:8080/",
     "height": 606
    },
    "executionInfo": {
     "elapsed": 1695,
     "status": "error",
     "timestamp": 1600088797006,
     "user": {
      "displayName": "Applied AI Course",
      "photoUrl": "https://lh3.googleusercontent.com/a-/AOh14GhuSQ5tWcMSEyUXWi5GYagbq0BttLJf6r6PPxrB=s64",
      "userId": "00484516897554883881"
     },
     "user_tz": -330
    },
    "id": "yBo_pMrH23tD",
    "outputId": "cebe75ec-12f2-499f-854d-d33f2ab3a766"
   },
   "outputs": [
    {
     "name": "stdout",
     "output_type": "stream",
     "text": [
      "            Director                              Movie  Year\n",
      "0       Milap Zaveri                         Mastizaade  2016\n",
      "1       Danny Leiner  Harold & Kumar Go to White Castle  2004\n",
      "2     Anurag Kashyap                 Gangs of Wasseypur  2012\n",
      "3       Frank Coraci        Around the World in 80 Days  2004\n",
      "4      Griffin Dunne             The Accidental Husband  2008\n",
      "5        Anurag Basu                             Barfi!  2012\n",
      "6    Gurinder Chadha                  Bride & Prejudice  2004\n",
      "7         Mike Judge    Beavis and Butt-Head Do America  1996\n",
      "8   Tarun Mansukhani                            Dostana  2008\n",
      "9       Shakun Batra                      Kapoor & Sons  2016\n",
      "(232, 3)\n",
      "Wall time: 97.7 ms\n"
     ]
    }
   ],
   "source": [
    "%%time\n",
    "def grader_1(q1):\n",
    "    q1_results  = pd.read_sql_query(q1,conn)\n",
    "    print(q1_results.head(10))\n",
    "    print(q1_results.shape)\n",
    "    assert (q1_results.shape == (232,3))\n",
    "query1=\"\"\" select p.name Director,m.title Movie ,m.year Year from movie m join \n",
    "            M_director d on m.mid=d.mid join\n",
    "            person p on d.pid=p.pid join \n",
    "            M_genre g on g.mid=m.mid join\n",
    "            Genre ge  on g.gid=ge.gid \n",
    "            where ge.name like '%comedy%'\n",
    "            and \n",
    "            ((CAST(SUBSTR(TRIM(year),-4) AS INTEGER)%4=0 and CAST(SUBSTR(TRIM(year),-4) AS INTEGER)%100!=0)\n",
    "            or \n",
    "            (CAST(SUBSTR(TRIM(year),-4) AS INTEGER)%100=0 and CAST(SUBSTR(TRIM(year),-4) AS INTEGER)%400=0))\"\"\"\n",
    "grader_1(query1)"
   ]
  },
  {
   "cell_type": "markdown",
   "metadata": {
    "id": "LHFSrIJlE_Ih"
   },
   "source": [
    "## Q2 --- List the names of all the actors who played in the movie 'Anand' (1971)"
   ]
  },
  {
   "cell_type": "code",
   "execution_count": 24,
   "metadata": {
    "id": "5BSQOVlk23tS",
    "outputId": "c3752139-c22a-46d8-f0eb-0c23ffce7bf3"
   },
   "outputs": [
    {
     "name": "stdout",
     "output_type": "stream",
     "text": [
      "                Name\n",
      "0   Amitabh Bachchan\n",
      "1      Rajesh Khanna\n",
      "2      Sumita Sanyal\n",
      "3         Ramesh Deo\n",
      "4          Seema Deo\n",
      "5     Asit Kumar Sen\n",
      "6         Dev Kishan\n",
      "7       Atam Prakash\n",
      "8      Lalita Kumari\n",
      "9             Savita\n",
      "Wall time: 394 ms\n"
     ]
    }
   ],
   "source": [
    "%%time\n",
    "def grader_2(q2):\n",
    "    q2_results  = pd.read_sql_query(q2,conn)\n",
    "    print(q2_results.head(10))\n",
    "    assert (q2_results.shape == (17,1))\n",
    "#query2=\"\"\"select name from person where  EXISTS \n",
    "#        (select pid from m_cast where mid =\n",
    "#        (select mid from movie where title like 'Anand'  and year=1971))\"\"\"\n",
    "\n",
    "query2 = \"\"\"    select p.Name from person p \n",
    "                join m_cast c on trim(c.pid)=trim(p.pid) \n",
    "                join movie m on m.mid=c.mid \n",
    "                where m.title like 'Anand' and m.year=1971        \"\"\"  \n",
    "grader_2(query2)"
   ]
  },
  {
   "cell_type": "markdown",
   "metadata": {
    "id": "bJ-mAUMmE_Il"
   },
   "source": [
    "## Q3 --- List all the actors who acted in a film before 1970 and in a film after 1990. (That is: < 1970 and > 1990.)"
   ]
  },
  {
   "cell_type": "code",
   "execution_count": 25,
   "metadata": {
    "colab": {
     "base_uri": "https://localhost:8080/"
    },
    "executionInfo": {
     "elapsed": 1054,
     "status": "ok",
     "timestamp": 1609074911453,
     "user": {
      "displayName": "Applied AI Course",
      "photoUrl": "https://lh3.googleusercontent.com/a-/AOh14GhuSQ5tWcMSEyUXWi5GYagbq0BttLJf6r6PPxrB=s64",
      "userId": "00484516897554883881"
     },
     "user_tz": -330
    },
    "id": "HARXLaJ623tY",
    "outputId": "8f4788df-84e8-42b9-b535-520f546e3348"
   },
   "outputs": [
    {
     "name": "stdout",
     "output_type": "stream",
     "text": [
      "(4942, 1)\n",
      "(62570, 1)\n",
      "True\n",
      "Wall time: 344 ms\n"
     ]
    }
   ],
   "source": [
    "%%time\n",
    "\n",
    "def grader_3a(query_less_1970, query_more_1990):\n",
    "    q3_a = pd.read_sql_query(query_less_1970,conn)\n",
    "    print(q3_a.shape)\n",
    "    q3_b = pd.read_sql_query(query_more_1990,conn)\n",
    "    print(q3_b.shape)\n",
    "    return (q3_a.shape == (4942,1)) and (q3_b.shape == (62570,1))\n",
    "\n",
    "query_less_1970 =\"\"\" \n",
    "Select p.PID from Person p \n",
    "inner join \n",
    "(\n",
    "    select trim(mc.PID) PD, mc.MID from M_cast mc \n",
    "where mc.MID \n",
    "in \n",
    "(\n",
    "    select mv.MID from Movie mv where CAST(SUBSTR(mv.year,-4) AS Integer)<1970\n",
    ")\n",
    ") r1 \n",
    "on r1.PD=p.PID \n",
    "\"\"\"\n",
    "query_more_1990 =\"\"\" \n",
    "Select p.PID from Person p \n",
    "inner join \n",
    "(\n",
    "    select trim(mc.PID) PD, mc.MID from M_cast mc \n",
    "where mc.MID \n",
    "in \n",
    "(\n",
    "    select mv.MID from Movie mv where CAST(SUBSTR(mv.year,-4) AS Integer)>1990\n",
    ")\n",
    ") r1 \n",
    "on r1.PD=p.PID \"\"\"\n",
    "print(grader_3a(query_less_1970, query_more_1990))\n",
    "\n",
    "# using the above two queries, you can find the answer to the given question "
   ]
  },
  {
   "cell_type": "code",
   "execution_count": 26,
   "metadata": {
    "id": "sbzv0UZZ23td",
    "outputId": "2882b0b2-b49f-4203-dc67-2c0f7547bdc2"
   },
   "outputs": [
    {
     "name": "stdout",
     "output_type": "stream",
     "text": [
      "                Name\n",
      "0       Rishi Kapoor\n",
      "1   Amitabh Bachchan\n",
      "2             Asrani\n",
      "3       Zohra Sehgal\n",
      "4    Parikshat Sahni\n",
      "5      Rakesh Sharma\n",
      "6        Sanjay Dutt\n",
      "7          Ric Young\n",
      "8              Yusuf\n",
      "9     Suhasini Mulay\n",
      "True\n",
      "Wall time: 417 ms\n"
     ]
    }
   ],
   "source": [
    "%%time\n",
    "def grader_3(q3):\n",
    "    q3_results  = pd.read_sql_query(q3,conn)\n",
    "    print(q3_results.head(10))\n",
    "    print(q3_results.shape==(300,1))\n",
    "    assert (q3_results.shape == (300,1))\n",
    "\n",
    "query3 = f'select Name from person where trim(pid) in ({query_less_1970}) and trim(pid) in ({query_more_1990})'\n",
    "grader_3(query3)"
   ]
  },
  {
   "cell_type": "markdown",
   "metadata": {
    "id": "wd3tqFxaE_Ir"
   },
   "source": [
    "## Q4 --- List all directors who directed 10 movies or more, in descending order of the number of movies they directed. Return the directors' names and the number of movies each of them directed."
   ]
  },
  {
   "cell_type": "code",
   "execution_count": 27,
   "metadata": {
    "id": "aGgqAYk723th",
    "outputId": "8451f009-5585-43c6-f3bd-ae9aef0ede4a"
   },
   "outputs": [
    {
     "name": "stdout",
     "output_type": "stream",
     "text": [
      "         PID  count\n",
      "0  nm0223522     39\n",
      "1  nm0080315     35\n",
      "2  nm0890060     30\n",
      "3  nm0698184     30\n",
      "4  nm0080333     29\n",
      "5  nm0611531     27\n",
      "6  nm0007181     21\n",
      "7  nm0759662     19\n",
      "8  nm0154113     19\n",
      "9  nm0007131     18\n",
      "True\n",
      "Wall time: 12 ms\n"
     ]
    }
   ],
   "source": [
    "%%time\n",
    "def grader_4a(query_4a):\n",
    "    query_4a = pd.read_sql_query(query_4a,conn)\n",
    "    print(query_4a.head(10)) \n",
    "    return (query_4a.shape == (1462,2))\n",
    "\n",
    "query_4a =\"\"\" select pid,count(pid) as count from m_director group by pid order by count(pid) desc  \"\"\"\n",
    "print(grader_4a(query_4a))\n",
    "\n",
    "# using the above query, you can write the answer to the given question"
   ]
  },
  {
   "cell_type": "code",
   "execution_count": 28,
   "metadata": {
    "id": "xROoSzcF23tn",
    "outputId": "76366cff-58f5-4d83-d58b-017c0f7afc58"
   },
   "outputs": [
    {
     "name": "stdout",
     "output_type": "stream",
     "text": [
      "           Director_Name  Movie_count\n",
      "0           David Dhawan           39\n",
      "1           Mahesh Bhatt           35\n",
      "2        Ram Gopal Varma           30\n",
      "3           Priyadarshan           30\n",
      "4           Vikram Bhatt           29\n",
      "5   Hrishikesh Mukherjee           27\n",
      "6            Yash Chopra           21\n",
      "7         Shakti Samanta           19\n",
      "8        Basu Chatterjee           19\n",
      "9           Subhash Ghai           18\n",
      "Wall time: 22 ms\n"
     ]
    }
   ],
   "source": [
    "%%time\n",
    "def grader_4(q4):\n",
    "    q4_results  = pd.read_sql_query(q4,conn)\n",
    "    print(q4_results.head(10))\n",
    "    assert (q4_results.shape == (58,2))\n",
    "query4=\"\"\"with temp as (select d.pid,count(pid) as Movie_count from M_director d group by d.pid having count(pid) >=10)\n",
    "            select p.name Director_Name, d.Movie_count\n",
    "            from person p\n",
    "            join temp d on d.pid=p.pid order by d.movie_count desc\n",
    "        \"\"\"\n",
    "grader_4(query4)\n",
    "### with keyword ref_link=https://www.geeksforgeeks.org/sql-with-clause/"
   ]
  },
  {
   "cell_type": "markdown",
   "metadata": {
    "id": "OnulNpiOE_Iw"
   },
   "source": [
    "## Q5.a --- For each year, count the number of movies in that year that had only female actors."
   ]
  },
  {
   "cell_type": "code",
   "execution_count": 29,
   "metadata": {
    "id": "ES-gGiNG23tr",
    "outputId": "05e73aed-8917-4d9f-b746-619d1c48735b"
   },
   "outputs": [
    {
     "name": "stdout",
     "output_type": "stream",
     "text": [
      "         MID  Gender  count(*)\n",
      "0  tt0021594    None         1\n",
      "1  tt0021594  Female         3\n",
      "2  tt0021594    Male         5\n",
      "3  tt0026274    None         2\n",
      "4  tt0026274  Female        11\n",
      "5  tt0026274    Male         9\n",
      "6  tt0027256    None         2\n",
      "7  tt0027256  Female         5\n",
      "8  tt0027256    Male         8\n",
      "9  tt0028217  Female         3\n",
      "True\n",
      "         MID Gender  count(*)\n",
      "0  tt0021594   Male         5\n",
      "1  tt0026274   Male         9\n",
      "2  tt0027256   Male         8\n",
      "3  tt0028217   Male         7\n",
      "4  tt0031580   Male        27\n",
      "5  tt0033616   Male        46\n",
      "6  tt0036077   Male        11\n",
      "7  tt0038491   Male         7\n",
      "8  tt0039654   Male         6\n",
      "9  tt0040067   Male        10\n",
      "True\n",
      "Wall time: 469 ms\n"
     ]
    }
   ],
   "source": [
    "%%time\n",
    "\n",
    "# note that you don't need TRIM for person table\n",
    "\n",
    "def grader_5aa(query_5aa):\n",
    "    query_5aa = pd.read_sql_query(query_5aa,conn)\n",
    "    print(query_5aa.head(10)) \n",
    "    return (query_5aa.shape == (8846,3))\n",
    "query_5aa=\"\"\" select c.mid,p.gender,count(*) from m_cast c join person p on trim(c.pid)=p.pid group by c.mid,p.gender\"\"\"\n",
    "\n",
    "print(grader_5aa(query_5aa))\n",
    "\n",
    "def grader_5ab(query_5ab):\n",
    "    query_5ab = pd.read_sql_query(query_5ab,conn)\n",
    "    print(query_5ab.head(10)) \n",
    "    return (query_5ab.shape == (3469, 3))\n",
    "\n",
    "query_5ab =\"\"\" select c.mid,p.gender,count(*) from m_cast c join person p on trim(c.pid)=p.pid\n",
    "                group by c.mid,p.gender having p.gender like 'Male' and count(*)>=1  \"\"\"\n",
    "\n",
    "print(grader_5ab(query_5ab))\n",
    "\n",
    "\n",
    "# using the above queries, you can write the answer to the given question"
   ]
  },
  {
   "cell_type": "code",
   "execution_count": 30,
   "metadata": {
    "colab": {
     "base_uri": "https://localhost:8080/",
     "height": 153
    },
    "id": "zQOIawPME_Ix",
    "outputId": "48450a58-61f0-4bc6-f71e-ff7df4ab7f80"
   },
   "outputs": [
    {
     "name": "stdout",
     "output_type": "stream",
     "text": [
      "   year  count\n",
      "0  1939      1\n",
      "1  1999      1\n",
      "2  2000      1\n",
      "3  2018      1\n",
      "Wall time: 240 ms\n"
     ]
    }
   ],
   "source": [
    "%%time\n",
    "def grader_5a(q5a):\n",
    "    q5a_results  = pd.read_sql_query(q5a,conn)\n",
    "    print(q5a_results.head(10))\n",
    "    assert (q5a_results.shape == (4,2))\n",
    "query5a = \"\"\"with temp as (select c.mid from m_cast c join person p on trim(c.pid)=p.pid\n",
    "            group by c.mid,p.gender having p.gender like 'Male' or p.gender is null and count(*)>=1)\n",
    "            \n",
    "            \n",
    "            select CAST(SUBSTR(TRIM(m.year),-4) AS INTEGER) as year,count(*) as count from movie m \n",
    "            where m.mid not in temp  group by m.year order by year\n",
    "\"\"\"\n",
    "grader_5a(query5a)"
   ]
  },
  {
   "cell_type": "markdown",
   "metadata": {
    "id": "cTiKejUfE_I1"
   },
   "source": [
    "## Q5.b --- Now include a small change: report for each year the percentage of movies in that year with only female actors, and the total number of movies made that year. For example, one answer will be: 1990 31.81 13522 meaning that in 1990 there were 13,522 movies, and 31.81% had only female actors. You do not need to round your answer."
   ]
  },
  {
   "cell_type": "code",
   "execution_count": 31,
   "metadata": {
    "colab": {
     "base_uri": "https://localhost:8080/",
     "height": 153
    },
    "id": "Xv6iXvcZE_I2",
    "outputId": "16958703-8f35-40d8-8489-b7269cde2d70"
   },
   "outputs": [
    {
     "name": "stdout",
     "output_type": "stream",
     "text": [
      "   year  percentage  count\n",
      "0  1939    0.500000      2\n",
      "1  1999    0.015152     66\n",
      "2  2000    0.015625     64\n",
      "3  2018    0.010753     93\n",
      "Wall time: 244 ms\n"
     ]
    }
   ],
   "source": [
    "%%time\n",
    "def grader_5b(q5b):\n",
    "    q5b_results  = pd.read_sql_query(q5b,conn)\n",
    "    print(q5b_results.head(10))\n",
    "    assert (q5b_results.shape == (4,3))\n",
    "\n",
    "query5b = \"\"\" with \n",
    "                total_movies as \n",
    "                (select m.year as year,count(*) as count from movie m group by year),\n",
    "\n",
    "                temp as                \n",
    "                (select c.mid from m_cast c join person p on trim(c.pid)=p.pid\n",
    "                group by c.mid,p.gender having p.gender like 'Male' or p.gender is null and count(*)>=1),\n",
    "                \n",
    "                only_male as \n",
    "                (select CAST(SUBSTR(TRIM(m.year),-4) AS INTEGER) as year,count(*) as count from movie m \n",
    "                where m.mid not in temp  group by m.year order by year)\n",
    "                \n",
    "                select only_male.year,cast(only_male.count as float)/total_movies.count as percentage,total_movies.count\n",
    "                from only_male join\n",
    "                total_movies on only_male.year=total_movies.year \"\"\"\n",
    "grader_5b(query5b)"
   ]
  },
  {
   "cell_type": "markdown",
   "metadata": {
    "id": "d5mvJcHDE_I6"
   },
   "source": [
    "## Q6 --- Find the film(s) with the largest cast. Return the movie title and the size of the cast. By \"cast size\" we mean the number of distinct actors that played in that movie: if an actor played multiple roles, or if it simply occurs multiple times in casts, we still count her/him only once."
   ]
  },
  {
   "cell_type": "code",
   "execution_count": 32,
   "metadata": {
    "colab": {
     "base_uri": "https://localhost:8080/",
     "height": 255
    },
    "id": "vpr9gGg6E_I7",
    "outputId": "bceec796-502e-4bb1-ce5e-0f8eb703e2f5"
   },
   "outputs": [
    {
     "name": "stdout",
     "output_type": "stream",
     "text": [
      "                        title  count\n",
      "0               Ocean's Eight    238\n",
      "1                    Apaharan    233\n",
      "2                        Gold    215\n",
      "3             My Name Is Khan    213\n",
      "4  Captain America: Civil War    191\n",
      "5                    Geostorm    170\n",
      "6                     Striker    165\n",
      "7                        2012    154\n",
      "8                      Pixels    144\n",
      "9       Yamla Pagla Deewana 2    140\n",
      "Wall time: 86.8 ms\n"
     ]
    }
   ],
   "source": [
    "%%time\n",
    "def grader_6(q6):\n",
    "    q6_results  = pd.read_sql_query(q6,conn)\n",
    "    print(q6_results.head(10))\n",
    "    assert (q6_results.shape == (3473, 2))\n",
    "\n",
    "query6 = \"\"\" with \n",
    "            temp as \n",
    "            (select distinct mid,count(pid) count from m_cast group by mid)  \n",
    "            select m.title,t.count from movie m join temp t  on t.mid=m.mid order by t.count desc;  \"\"\"\n",
    "grader_6(query6)"
   ]
  },
  {
   "cell_type": "markdown",
   "metadata": {
    "id": "E6mOLxNgTby6"
   },
   "source": [
    "### Q7 --- A decade is a sequence of 10 consecutive years. \n",
    "### For example, say in your database you have movie information starting from 1931. \n",
    "### the first decade is 1931, 1932, ..., 1940,\n",
    "### the second decade is 1932, 1933, ..., 1941 and so on. \n",
    "### Find the decade D with the largest number of films and the total number of films in D"
   ]
  },
  {
   "cell_type": "code",
   "execution_count": 33,
   "metadata": {
    "id": "ZfOWt8IW23uE",
    "outputId": "2f06e789-9f45-44ed-d1d7-d628170bb6c5"
   },
   "outputs": [
    {
     "name": "stdout",
     "output_type": "stream",
     "text": [
      "  Movie_year  Total_movies\n",
      "0       1931             1\n",
      "1       1936             3\n",
      "2       1939             2\n",
      "3       1941             1\n",
      "4       1943             1\n",
      "5       1946             2\n",
      "6       1947             2\n",
      "7       1948             3\n",
      "8       1949             3\n",
      "9       1950             2\n",
      "(78, 2)\n",
      "Wall time: 11 ms\n"
     ]
    }
   ],
   "source": [
    "%%time\n",
    "def grader_7a(q7a):\n",
    "    q7a_results  = pd.read_sql_query(q7a,conn)\n",
    "    print(q7a_results.head(10))\n",
    "    print(q7a_results.shape)\n",
    "    assert (q7a_results.shape == (78, 2))\n",
    "\n",
    "query7a = \"\"\"select distinct year Movie_year,count(*) Total_movies from movie group by CAST(SUBSTR(TRIM(year),-4) AS INTEGER)\"\"\"\n",
    "grader_7a(query7a)\n",
    "\n",
    "# using the above query, you can write the answer to the given question"
   ]
  },
  {
   "cell_type": "code",
   "execution_count": 34,
   "metadata": {
    "id": "sBMzLrIY23uJ",
    "outputId": "6f40ad73-684a-44f9-a7ce-c0ec253df7e7"
   },
   "outputs": [
    {
     "name": "stdout",
     "output_type": "stream",
     "text": [
      "   Movie_year  Total_movies  Movie_year  Total_movies\n",
      "0        1931             1        1931             1\n",
      "1        1931             1        1936             3\n",
      "2        1931             1        1939             2\n",
      "3        1936             3        1936             3\n",
      "4        1936             3        1939             2\n",
      "5        1936             3        1941             1\n",
      "6        1936             3        1943             1\n",
      "7        1939             2        1939             2\n",
      "8        1939             2        1941             1\n",
      "9        1939             2        1943             1\n",
      "Wall time: 14 ms\n"
     ]
    }
   ],
   "source": [
    "%%time\n",
    "def grader_7b(q7b):\n",
    "    q7b_results  = pd.read_sql_query(q7b,conn)\n",
    "    print(q7b_results.head(10))\n",
    "    assert (q7b_results.shape == (713, 4))\n",
    "\n",
    "query7b = \"\"\" with \n",
    "                temp as \n",
    "                (select  CAST(SUBSTR(TRIM(year),-4) AS INTEGER) Movie_year,count(*) Total_movies \n",
    "                from movie group by CAST(SUBSTR(TRIM(year),-4) AS INTEGER))\n",
    "                \n",
    "                select  * from temp t1 join temp t2 on t1.movie_year+9>=t2.movie_year and \n",
    "                t1.movie_year<=t2.movie_year order by t1.movie_year\n",
    "          \"\"\"\n",
    "grader_7b(query7b)\n",
    "#refernece for self joining https://www.w3schools.com/sql/sql_join_self.asp\n",
    "# if you see the below results the first movie year is less than 2nd movie year and \n",
    "# 2nd movie year is less or equal to the first movie year+9\n",
    "\n",
    "# using the above query, you can write the answer to the given question"
   ]
  },
  {
   "cell_type": "code",
   "execution_count": 35,
   "metadata": {
    "colab": {
     "base_uri": "https://localhost:8080/",
     "height": 255
    },
    "id": "NKqbguuqE_JA",
    "outputId": "2819ceef-0787-45f9-c38f-9648ccf787f0"
   },
   "outputs": [
    {
     "name": "stdout",
     "output_type": "stream",
     "text": [
      "   start  num_movies\n",
      "0   2008        1203\n",
      "Wall time: 291 ms\n"
     ]
    }
   ],
   "source": [
    "%%time\n",
    "def grader_7(q7):\n",
    "    q7_results  = pd.read_sql_query(q7,conn)\n",
    "    print(q7_results.head(10))\n",
    "    assert (q7_results.shape == (1, 2))\n",
    "\n",
    "query7 = \"\"\" select d.year as start, count(*)\n",
    "            as num_movies from (select distinct CAST(SUBSTR(TRIM(year),-4) AS INTEGER) year from Movie) d \n",
    "            join Movie m on \n",
    "            CAST(SUBSTR(TRIM(m.year),-4) AS INTEGER)>=start and CAST(SUBSTR(TRIM(m.year),-4) AS INTEGER)<= d.year+9 \n",
    "            group by start,d.year+9 order by num_movies desc\n",
    "            limit 1\n",
    "           \"\"\"\n",
    "grader_7(query7)\n",
    "# if you check the output we are printinng all the year in that decade, its fine you can print 2008 or 2008-2017"
   ]
  },
  {
   "cell_type": "markdown",
   "metadata": {
    "id": "Jbm3Oy3hT8d9"
   },
   "source": [
    "## Q8 --- Find all the actors that made more movies with Yash Chopra than any other director."
   ]
  },
  {
   "cell_type": "code",
   "execution_count": 36,
   "metadata": {
    "id": "DZJ7WMrk23uR",
    "outputId": "6f379ab4-bfb0-4a2f-dc6a-ae221cb65a0e"
   },
   "outputs": [
    {
     "name": "stdout",
     "output_type": "stream",
     "text": [
      "        Actor   Director  Movies_count\n",
      "0   nm0000002  nm0496746             1\n",
      "1   nm0000027  nm0000180             1\n",
      "2   nm0000039  nm0896533             1\n",
      "3   nm0000042  nm0896533             1\n",
      "4   nm0000047  nm0004292             1\n",
      "5   nm0000073  nm0485943             1\n",
      "6   nm0000076  nm0000229             1\n",
      "7   nm0000092  nm0178997             1\n",
      "8   nm0000093  nm0000269             1\n",
      "9   nm0000096  nm0113819             1\n",
      "Wall time: 455 ms\n"
     ]
    }
   ],
   "source": [
    "%%time\n",
    "def grader_8a(q8a):\n",
    "    q8a_results  = pd.read_sql_query(q8a,conn)\n",
    "    print(q8a_results.head(10))\n",
    "    assert (q8a_results.shape == (73408, 3))\n",
    "\n",
    "query8a = \"\"\"select a.pid as Actor,d.pid as Director,count(*) as Movies_count from M_director d join \n",
    "                M_cast a on a.mid=d.mid group by a.pid,d.pid \"\"\"\n",
    "grader_8a(query8a)\n",
    "# using the above query, you can write the answer to the given question"
   ]
  },
  {
   "cell_type": "code",
   "execution_count": 37,
   "metadata": {
    "colab": {
     "base_uri": "https://localhost:8080/",
     "height": 255
    },
    "id": "SYMTcHixE_JH",
    "outputId": "8cc98748-cc3b-4cbf-fa99-3af323f0d094"
   },
   "outputs": [
    {
     "name": "stdout",
     "output_type": "stream",
     "text": [
      "                Name  movie_count\n",
      "0        Jagdish Raj           11\n",
      "1   Manmohan Krishna           10\n",
      "2           Iftekhar            9\n",
      "3      Shashi Kapoor            7\n",
      "4      Rakhee Gulzar            5\n",
      "5     Waheeda Rehman            5\n",
      "6           Ravikant            4\n",
      "7     Achala Sachdev            4\n",
      "8        Neetu Singh            4\n",
      "9      Leela Chitnis            3\n",
      "(245, 2)\n",
      "Wall time: 2.55 s\n"
     ]
    }
   ],
   "source": [
    "%%time\n",
    "\n",
    "def grader_8(q8):\n",
    "    q8_results  = pd.read_sql_query(q8,conn)\n",
    "    print(q8_results.head(10))\n",
    "    print(q8_results.shape)\n",
    "    assert (q8_results.shape == (245, 2))\n",
    "query8 = \"\"\" with \n",
    "\n",
    "            temp as\n",
    "            (select actor_id,director_id,movie_count from \n",
    "                (select a.pid as Actor_id,d.pid as Director_id,count(*) as Movie_count from M_director d join \n",
    "                M_cast a on a.mid=d.mid group by a.pid,d.pid)\n",
    "            where (actor_id,movie_count) in\n",
    "                    (select actor_id,max(movie_count) from \n",
    "                                (select a.pid as Actor_id,d.pid as Director_id,count(*) as Movie_count from M_director d join \n",
    "                                    M_cast a on a.mid=d.mid group by a.pid,d.pid)\n",
    "                group by actor_id) and trim(director_id)=\"nm0007181\")\n",
    "                \n",
    "                \n",
    "        select p.name,t.movie_count from person p join temp t on trim(t.actor_id)=trim(p.pid)\n",
    "        order by movie_count desc\n",
    " \n",
    "\"\"\"\n",
    "\n",
    "grader_8(query8)"
   ]
  },
  {
   "cell_type": "markdown",
   "metadata": {
    "id": "2j8Fc9jUUJ9C"
   },
   "source": [
    "## Q9 --- The Shahrukh number of an actor is the length of the shortest path between the actor and Shahrukh Khan in the \"co-acting\" graph. That is, Shahrukh Khan has Shahrukh number 0; all actors who acted in the same film as Shahrukh have Shahrukh number 1; all actors who acted in the same film as some actor with Shahrukh number 1 have Shahrukh number 2, etc. Return all actors whose Shahrukh number is 2."
   ]
  },
  {
   "cell_type": "code",
   "execution_count": 38,
   "metadata": {
    "id": "3FnJ_19z23ub",
    "outputId": "c63ac439-ad2b-4aa4-8aeb-dc0245670f34"
   },
   "outputs": [
    {
     "name": "stdout",
     "output_type": "stream",
     "text": [
      "          PID\n",
      "0   nm0004418\n",
      "1   nm1995953\n",
      "2   nm2778261\n",
      "3   nm0631373\n",
      "4   nm0241935\n",
      "5   nm0792116\n",
      "6   nm1300111\n",
      "7   nm0196375\n",
      "8   nm1464837\n",
      "9   nm2868019\n",
      "(2382, 1)\n",
      "Wall time: 82.8 ms\n"
     ]
    }
   ],
   "source": [
    "%%time\n",
    "def grader_9a(q9a):\n",
    "    q9a_results  = pd.read_sql_query(q9a,conn)\n",
    "    print(q9a_results.head(10))\n",
    "    print(q9a_results.shape)\n",
    "    assert (q9a_results.shape == (2382, 1))\n",
    "\n",
    "query9a = \"\"\"   select distinct mc.pid from m_cast mc where trim(mc.mid) in\n",
    "                (select trim(mid) from m_cast where trim(pid) in \n",
    "                (select trim(pid) from person where name like '%Shah Rukh Khan%'))\n",
    "                and trim(mc.pid) not in (select trim(p.pid) from person p where name like '%shah rukh khan%')\n",
    "\"\"\"\n",
    "grader_9a(query9a)\n",
    "# using the above query, you can write the answer to the given question\n",
    "\n",
    "# selecting actors who acted with srk (S1)\n",
    "# selecting all movies where S1 actors acted, this forms S2 movies list\n",
    "# selecting all actors who acted in S2 movies, this gives us S2 actors along with S1 actors\n",
    "# removing S1 actors from the combined list of S1 & S2 actors, so that we get only S2 actors"
   ]
  },
  {
   "cell_type": "code",
   "execution_count": 40,
   "metadata": {},
   "outputs": [
    {
     "name": "stdout",
     "output_type": "stream",
     "text": [
      "                     Name\n",
      "0            Freida Pinto\n",
      "1             Rohan Chand\n",
      "2            Damian Young\n",
      "3         Waris Ahluwalia\n",
      "4   Caroline Christl Long\n",
      "5           Rajeev Pahuja\n",
      "6       Michelle Santiago\n",
      "7         Alicia Vikander\n",
      "8            Dominic West\n",
      "9          Walton Goggins\n",
      "(25698, 1)\n",
      "Wall time: 427 ms\n"
     ]
    }
   ],
   "source": [
    "%%time\n",
    "def grader_9(q9):\n",
    "    q9_results  = pd.read_sql_query(q9,conn)\n",
    "    print(q9_results.head(10))\n",
    "    print(q9_results.shape)\n",
    "    assert (q9_results.shape == (25698, 1))\n",
    "\n",
    "query9 = \"\"\"with temp as (\n",
    "select trim(pid) from person where name like '%Shah Rukh khan%'),\n",
    "q2 as (select trim(mid) from M_cast where trim(pid) in temp),\n",
    "q3 as (select trim(pid) from m_cast where trim(mid) in q2),\n",
    "q4 as (select trim(mid) from m_cast where trim(pid) in q3),\n",
    "q5 as (select distinct trim(pid) from m_cast where trim(mid) in q4)\n",
    "select Name from person where trim(pid) in q5 and trim(pid) not in q3\n",
    "\n",
    "\"\"\"\n",
    "grader_9(query9)"
   ]
  },
  {
   "cell_type": "markdown",
   "metadata": {},
   "source": []
  },
  {
   "cell_type": "code",
   "execution_count": null,
   "metadata": {},
   "outputs": [],
   "source": []
  }
 ],
 "metadata": {
  "colab": {
   "collapsed_sections": [],
   "name": "Copy of SQL sample queries.ipynb",
   "provenance": [
    {
     "file_id": "1g5ItHEK_HBJfF7yAY2ltYGM6cozWe8dk",
     "timestamp": 1635177870914
    }
   ],
   "toc_visible": true
  },
  "kernelspec": {
   "display_name": "Python 3",
   "language": "python",
   "name": "python3"
  },
  "language_info": {
   "codemirror_mode": {
    "name": "ipython",
    "version": 3
   },
   "file_extension": ".py",
   "mimetype": "text/x-python",
   "name": "python",
   "nbconvert_exporter": "python",
   "pygments_lexer": "ipython3",
   "version": "3.8.8"
  }
 },
 "nbformat": 4,
 "nbformat_minor": 1
}
