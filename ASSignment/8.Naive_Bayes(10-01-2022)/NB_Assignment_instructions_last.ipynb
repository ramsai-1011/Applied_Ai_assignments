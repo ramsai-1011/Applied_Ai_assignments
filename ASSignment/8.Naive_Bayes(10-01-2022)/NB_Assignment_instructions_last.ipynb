{
 "cells": [
  {
   "cell_type": "markdown",
   "metadata": {
    "id": "Dnubs-Nnb3cw"
   },
   "source": [
    "# Assignment 6: Apply NB"
   ]
  },
  {
   "cell_type": "markdown",
   "metadata": {
    "id": "RW0zYHb5m_wI"
   },
   "source": [
    "<ol>\n",
    "    <li>Minimum data points need to be considered for people having 4GB RAM is <strong>50k</strong> and for 8GB RAM is <strong>100k</strong></li>\n",
    "    <li>When you are using ramdomsearchcv or gridsearchcv you need not split the data into X_train,X_cv,X_test. As the above methods use kfold. The model will learn better if train data is more so splitting to X_train,X_test will suffice.</li>\n",
    "    <li>If you are writing for loops to tune your model then you need split the data into X_train,X_cv,X_test.</li>\n",
    "    <li>While splitting the data explore stratify parameter. </li>\n",
    "    <li><strong>Apply Multinomial NB on these feature sets</strong></li>\n",
    "        <ul>\n",
    "            <li>Features that need to be considered</li> \n",
    "                <dl>\n",
    "                  <dt>essay</dt>\n",
    "                    <dd>while encoding essay, try to experiment with the max_features and n_grams parameter of vectorizers and see if it increases AUC score.</dd>\n",
    "                  <dt>categorical features</dt>\n",
    "                  <dd> - teacher_prefix</dd>\n",
    "                  <dd> - project_grade_category</dd>\n",
    "                  <dd> - school_state</dd>\n",
    "                  <dd> - clean_categories</dd>\n",
    "                  <dd> - clean_subcategories</dd>\n",
    "                  <dt>numerical features</dt>\n",
    "                  <dd> - price</dd>\n",
    "                  <dd> - teacher_number_of_previously_posted_projects</dd>\n",
    "                  <dd>while encoding the numerical features check <a href='https://imgur.com/ldZA1zg'>this</a> and <a href='https://ac-classroom-production.s3.amazonaws.com/public/COMMENT/Annotation_2020-05-21_225912_0lyZzN8.jpg'>this</a></dd>\n",
    "                </dl>    \n",
    "            <li><font color='red'>Set 1</font>: categorical, numerical features + preprocessed_eassay (BOW)</li>\n",
    "            <li><font color='red'>Set 2</font>: categorical, numerical features + preprocessed_eassay (TFIDF)</li>\n",
    "        </ul>\n",
    "    <li><strong>The hyper paramter tuning(find best alpha:smoothing parameter)</strong>\n",
    "        <ul>\n",
    "    <li>Consider alpha values in range: 10^-5 to 10^2 like [0.00001,0.0005, 0.0001,0.005,0.001,0.05,0.01,0.1,0.5,1,5,10,50,100]</li>\n",
    "    <li>Explore class_prior = [0.5, 0.5] parameter which can be present in MultinomialNB function(go through <a href='https://scikit-learn.org/stable/modules/generated/sklearn.naive_bayes.MultinomialNB.html'>this</a> ) then check how results might change.\n",
    "    <li>Find the best hyper parameter which will give the maximum <a href='https://www.appliedaicourse.com/course/applied-ai-course-online/lessons/receiver-operating-characteristic-curve-roc-curve-and-auc-1/'>AUC</a> value</li>\n",
    "    <li>For hyper parameter tuning using k-fold cross validation(use GridsearchCV or RandomsearchCV)/simple cross validation data (write for loop to iterate over hyper parameter values)</li>\n",
    "    <li>You need to plot the performance of model both on train data and cross validation data for each hyper parameter, like shown in the figure\n",
    "    <img src='https://i.imgur.com/hUv6aEy.jpg' width=300px><dd>-while plotting take log(alpha) on your X-axis so that it will be more readable</dd></li>\n",
    "    <li>Once after you found the best hyper parameter, you need to train your model with it, and find the AUC on test data and plot the ROC curve on both train and test.\n",
    "    <img src='https://imgur.com/q2P65L5.jpg' width=300px></li>\n",
    "    <li>Along with plotting ROC curve, you need to print the <a href='https://www.appliedaicourse.com/course/applied-ai-course-online/lessons/confusion-matrix-tpr-fpr-fnr-tnr-1/'>confusion matrix</a> with predicted and original labels of test data points\n",
    "        <img src='https://i.imgur.com/IdN5Ctv.png' width=300px><dd>-plot the confusion matrix in heatmaps, while plotting the confusion matrix go through the <a href='https://stackoverflow.com/questions/61748441/how-to-fix-the-values-displayed-in-a-confusion-matrix-in-exponential-form-to-nor'>link </a>\n",
    "</dd></li>\n",
    "        </ul>\n",
    "<li>find the top 20 features from either from feature <font color='red'>Set 1</font> or feature <font color='red'>Set 2</font> using values of `feature_log_prob_ ` parameter of `MultinomialNB` \n",
    "(https://scikit-learn.org/stable/modules/generated/sklearn.naive_bayes.MultinomialNB.html) and print <strong>BOTH</strong> positive as well as negative corresponding feature names. <dd> - go through the <a href='https://imgur.com/mWvE7gj'>link </a> </dd>\n",
    "    </li>\n",
    "    <li>You need to summarize the results at the end of the notebook, summarize it in the table format\n",
    "        <img src='http://i.imgur.com/YVpIGGE.jpg' width=400px>\n",
    "    </li>\n",
    "</ol>"
   ]
  },
  {
   "cell_type": "code",
   "execution_count": null,
   "metadata": {
    "id": "chpSjDaXm9KG"
   },
   "outputs": [],
   "source": []
  },
  {
   "cell_type": "markdown",
   "metadata": {
    "id": "inzYCIaib3c3"
   },
   "source": [
    "<h1>2. Naive Bayes </h1>"
   ]
  },
  {
   "cell_type": "markdown",
   "metadata": {
    "id": "FYqCIxzFb3c5"
   },
   "source": [
    "## 1.1 Loading Data"
   ]
  },
  {
   "cell_type": "code",
   "execution_count": 1,
   "metadata": {
    "id": "dA1jknyqb3c_"
   },
   "outputs": [],
   "source": [
    "#make sure you are loading atleast 50k datapoints\n",
    "#you can work with features of preprocessed_data.csv for the assignment.\n",
    "# If you want to add more features, you can add. (This is purely optional, not mandatory)\n",
    "\n",
    "import pandas\n",
    "data = pandas.read_csv('preprocessed_data.csv')"
   ]
  },
  {
   "cell_type": "markdown",
   "metadata": {
    "id": "WtVV13Fyb3dH"
   },
   "source": [
    "<h2>1.2 Splitting data into Train and cross validation(or test): Stratified Sampling</h2>"
   ]
  },
  {
   "cell_type": "code",
   "execution_count": 2,
   "metadata": {},
   "outputs": [],
   "source": [
    "# write your code in following steps for task 1\n",
    "# 1. Split your data.\n",
    "# 2. Perform Bag of Words Vectorization of text data.\n",
    "# 3. Perform tfidf vectorization of text data.\n",
    "# 4. perform one-hot encoding of categorical features.\n",
    "# 5. perform normalization of numerical features\n",
    "# 6. For set 1 stack up all the features using hstack()\n",
    "# 7. For set 2 stack up all the features using hstack()\n",
    "# 8. Perform hyperparameter tuning and represent the training and cross-validation AUC scores for different 'alpha' values, using a 2D line plot.\n",
    "# 9. Find the best hyperparameter 'alpha' and fit the model. Plot ROC-AUC curve(by obtaining the probabilities using 'predict proba' method)\n",
    "# 10. Plot confusion matrix based on the best threshold value\n",
    "# 11. Either for the model in set 1 or in set 2, print the top 20 features(you have to print the names, not the indexes) associated with the positive and negative classes each.\n",
    "# 12. Summarize your observations and compare both the models(ie., from set 1 and set 2) in terms of optimal hyperparameter value, train AUC and test AUC scores. \n",
    "# 13. You can use Prettytable or any other tabular format for comparison.\n",
    "\n",
    "\n",
    "# please write all the code with proper documentation, and proper titles for each subsection\n",
    "# go through documentations and blogs before you start coding\n",
    "# first figure out what to do, and then think about how to do.\n",
    "# reading and understanding error messages will be very much helpfull in debugging your code\n",
    "# when you plot any graph make sure you use \n",
    "    # a. Title, that describes your plot, this will be very helpful to the reader\n",
    "    # b. Legends if needed\n",
    "    # c. X-axis label\n",
    "    # d. Y-axis label\n",
    "    "
   ]
  },
  {
   "cell_type": "code",
   "execution_count": 3,
   "metadata": {},
   "outputs": [],
   "source": [
    "data.columns\n",
    "all_features=[]"
   ]
  },
  {
   "cell_type": "code",
   "execution_count": 4,
   "metadata": {},
   "outputs": [],
   "source": [
    "#separating Y values and drop y from x\n",
    "y=data['project_is_approved'].values\n",
    "X=data.drop('project_is_approved',axis=1)"
   ]
  },
  {
   "cell_type": "code",
   "execution_count": 5,
   "metadata": {},
   "outputs": [],
   "source": [
    "# 1. Split your data. for CV\n",
    "from sklearn.model_selection import train_test_split\n",
    "X_train, X_test, y_train, y_test = train_test_split(X, y, test_size=0.33, stratify=y)\n",
    "X_train, X_cv, y_train, y_cv = train_test_split(X_train, y_train, test_size=0.33, stratify=y_train)"
   ]
  },
  {
   "cell_type": "code",
   "execution_count": 6,
   "metadata": {
    "id": "i-PyprDNb3dI"
   },
   "outputs": [],
   "source": [
    "# Split the dataset \n",
    "# 1) If you want to apply simple cross-validation, split the dataset into 3 parts (ie., train, CV and test sets)\n",
    "# 2) If you want to apply K-fold CV (or) GridSearch Cross Validation (or) Randomized Search Cross Validation, just split the dataset into 2 parts (ie., train and test sets)\n",
    "\n"
   ]
  },
  {
   "cell_type": "markdown",
   "metadata": {
    "id": "EnZwVNULb3dO"
   },
   "source": [
    "<h2>1.3 Make Data Model Ready: encoding essay, and project_title</h2>"
   ]
  },
  {
   "cell_type": "code",
   "execution_count": 7,
   "metadata": {},
   "outputs": [],
   "source": [
    "# Apply Bag of Words (BOW) vectorization on 'Preprocessed_Essay' \n",
    "# Apply Bag of Words (BOW) vectorization on 'Preprocessed_Title' (Optional)\n",
    "from sklearn.feature_extraction.text import CountVectorizer\n",
    "\n",
    "vectorizer = CountVectorizer(min_df=10,ngram_range=(1,4), max_features=5000)\n",
    "vectorizer.fit(X_train['essay'].values) # fit has to happen only on train data\n",
    "all_features.append(vectorizer.get_feature_names())\n",
    "# we use the fitted CountVectorizer to convert the text to vector\n",
    "X_train_essay_bow = vectorizer.transform(X_train['essay'].values)\n",
    "X_cv_essay_bow = vectorizer.transform(X_cv['essay'].values)\n",
    "X_test_essay_bow = vectorizer.transform(X_test['essay'].values)\n",
    "\n"
   ]
  },
  {
   "cell_type": "code",
   "execution_count": 8,
   "metadata": {},
   "outputs": [],
   "source": [
    "# Apply TF-IDF vectorization on 'Preprocessed_Essay' \n",
    "# Apply TF-IDF vectorization on 'Preprocessed_Title' (Optional)\n",
    "from sklearn.feature_extraction.text import TfidfVectorizer\n",
    "vectorizer = TfidfVectorizer(min_df=10,ngram_range=(1,4), max_features=5000)\n",
    "vectorizer.fit(X_train['essay'].values)\n",
    "\n",
    "X_train_essay_Tfidf = vectorizer.transform(X_train['essay'].values)\n",
    "X_cv_essay_Tfidf = vectorizer.transform(X_cv['essay'].values)\n",
    "X_test_essay_Tfidf = vectorizer.transform(X_test['essay'].values)\n"
   ]
  },
  {
   "cell_type": "markdown",
   "metadata": {
    "id": "bGy86kgHb3dX"
   },
   "source": [
    "<h2>1.4 Make Data Model Ready: encoding numerical, categorical features</h2>"
   ]
  },
  {
   "cell_type": "code",
   "execution_count": 9,
   "metadata": {
    "id": "EfXkofX1b3da"
   },
   "outputs": [],
   "source": [
    "# Apply One-Hot Encoding on the categorical features either using OneHotEncoder() (or) CountVectorizer(binary=True)\n",
    "# Apply Normalization on the numerical features using Normalizer().\n",
    "vectorizer = CountVectorizer(binary=True)#one hot encoding\n",
    "vectorizer.fit(X_train['school_state'].values) # fit has to happen only on train data\n",
    "all_features.append(vectorizer.get_feature_names())\n",
    "\n",
    "# we use the fitted CountVectorizer to convert the text to vector\n",
    "X_train_state_ohe = vectorizer.transform(X_train['school_state'].values)\n",
    "X_cv_state_ohe = vectorizer.transform(X_cv['school_state'].values)\n",
    "X_test_state_ohe = vectorizer.transform(X_test['school_state'].values)\n",
    "\n",
    "\n"
   ]
  },
  {
   "cell_type": "code",
   "execution_count": 10,
   "metadata": {},
   "outputs": [],
   "source": [
    "vectorizer = CountVectorizer(binary=True)\n",
    "vectorizer.fit(X_train['teacher_prefix'].values) # fit has to happen only on train data\n",
    "all_features.append(vectorizer.get_feature_names())\n",
    "\n",
    "# we use the fitted CountVectorizer to convert the text to vector\n",
    "X_train_teacher_ohe = vectorizer.transform(X_train['teacher_prefix'].values)\n",
    "X_cv_teacher_ohe = vectorizer.transform(X_cv['teacher_prefix'].values)\n",
    "X_test_teacher_ohe = vectorizer.transform(X_test['teacher_prefix'].values)\n"
   ]
  },
  {
   "cell_type": "code",
   "execution_count": 11,
   "metadata": {},
   "outputs": [],
   "source": [
    "vectorizer = CountVectorizer(binary=True)\n",
    "vectorizer.fit(X_train['project_grade_category'].values) # fit has to happen only on train data\n",
    "all_features.append(vectorizer.get_feature_names())\n",
    "\n",
    "# we use the fitted CountVectorizer to convert the text to vector\n",
    "X_train_grade_ohe = vectorizer.transform(X_train['project_grade_category'].values)\n",
    "X_cv_grade_ohe = vectorizer.transform(X_cv['project_grade_category'].values)\n",
    "X_test_grade_ohe = vectorizer.transform(X_test['project_grade_category'].values)\n"
   ]
  },
  {
   "cell_type": "code",
   "execution_count": 12,
   "metadata": {},
   "outputs": [],
   "source": [
    "from sklearn.preprocessing import Normalizer\n",
    "standard_vector1=Normalizer()\n",
    "standard_vector1.fit(X_train.price.values.reshape(-1,1))\n",
    "\n",
    "X_train_price_norm=standard_vector1.transform(X_train.price.values.reshape(-1,1))\n",
    "X_cv_price_norm=standard_vector1.transform(X_cv.price.values.reshape(-1,1))\n",
    "X_test_price_norm=standard_vector1.transform(X_test.price.values.reshape(-1,1))"
   ]
  },
  {
   "cell_type": "code",
   "execution_count": 13,
   "metadata": {},
   "outputs": [],
   "source": [
    "# 6. For set 1 stack up all the features using hstack()\n",
    "from scipy.sparse import hstack\n",
    "X_tr_bow = hstack((X_train_essay_bow, X_train_state_ohe, X_train_teacher_ohe, X_train_grade_ohe, X_train_price_norm)).tocsr()\n",
    "X_cr_bow = hstack((X_cv_essay_bow, X_cv_state_ohe, X_cv_teacher_ohe, X_cv_grade_ohe, X_cv_price_norm)).tocsr()\n",
    "X_te_bow = hstack((X_test_essay_bow, X_test_state_ohe, X_test_teacher_ohe, X_test_grade_ohe, X_test_price_norm)).tocsr()\n"
   ]
  },
  {
   "cell_type": "code",
   "execution_count": 14,
   "metadata": {},
   "outputs": [],
   "source": [
    "# 7. For set 2 stack up all the features using hstack()\n",
    "X_tr_tfidf = hstack((X_train_essay_Tfidf, X_train_state_ohe, X_train_teacher_ohe, X_train_grade_ohe, X_train_price_norm)).tocsr()\n",
    "X_cr_tfidf = hstack((X_cv_essay_Tfidf, X_cv_state_ohe, X_cv_teacher_ohe, X_cv_grade_ohe, X_cv_price_norm)).tocsr()\n",
    "X_te_tfidf = hstack((X_test_essay_Tfidf, X_test_state_ohe, X_test_teacher_ohe, X_test_grade_ohe, X_test_price_norm)).tocsr()\n"
   ]
  },
  {
   "cell_type": "code",
   "execution_count": 15,
   "metadata": {},
   "outputs": [
    {
     "name": "stdout",
     "output_type": "stream",
     "text": [
      "5061\n",
      "(49041, 5061)\n"
     ]
    }
   ],
   "source": [
    "all_featrues_final=[]\n",
    "for i in all_features:\n",
    "    all_featrues_final.extend(i)\n",
    "all_featrues_final.append('Price')\n",
    "print(len(all_featrues_final))\n",
    "print(X_tr_bow.shape)"
   ]
  },
  {
   "cell_type": "markdown",
   "metadata": {
    "id": "yYHPYadYb3dh"
   },
   "source": [
    "<h2>1.5 Appling NB on different kind of featurization as mentioned in the instructions</h2>\n",
    "\n",
    "<br>Apply NB on different kind of featurization as mentioned in the instructions\n",
    "<br> For Every model that you work on make sure you do the step 2 and step 3 of instrucations"
   ]
  },
  {
   "cell_type": "markdown",
   "metadata": {
    "id": "DNwqilFxb3di"
   },
   "source": [
    "#### Set 1"
   ]
  },
  {
   "cell_type": "code",
   "execution_count": 16,
   "metadata": {},
   "outputs": [],
   "source": [
    "# Perform Hyperparameter Tuning.\n",
    "# Plot the training and the CV AUC scores, for different values of 'alpha', using a 2D line plot\n",
    "details_from_set1=['BOW','Brute']\n",
    "from sklearn.naive_bayes import MultinomialNB\n",
    "from sklearn.metrics import roc_auc_score\n",
    "from sklearn.metrics import roc_curve,auc\n",
    "import numpy as np\n",
    "def AUC_alpha(x_train,y_train,x_test,y_test):\n",
    "    AUC_train,AUC_test=[],[]\n",
    "    alpha= [0.00001,0.0005, 0.0001,0.005,0.001,0.05,0.01,0.1,0.5,1,5,10,50,100]\n",
    "    for i in alpha:\n",
    "        clf = MultinomialNB(alpha=i)\n",
    "        clf.fit(x_train,y_train)\n",
    "        y_pred_train=clf.predict(x_train)\n",
    "        AUC_train.append(roc_auc_score(y_train,y_pred_train))\n",
    "        y_pred=clf.predict(x_test)\n",
    "        AUC_test.append(roc_auc_score(y_test,y_pred))    \n",
    "    return AUC_train,AUC_test,alpha\n"
   ]
  },
  {
   "cell_type": "code",
   "execution_count": 17,
   "metadata": {},
   "outputs": [],
   "source": [
    "AUC_train,AUC_test,alpha_train=AUC_alpha(X_tr_bow,y_train,X_te_bow,y_test)\n",
    "#AUC_cv,alpha_cv=AUC_alpha(X_tr_bow,y_train)\n",
    "#AUC_test,alpha_test=AUC_alpha(X_te_bow,y_test)\n"
   ]
  },
  {
   "cell_type": "code",
   "execution_count": 18,
   "metadata": {},
   "outputs": [],
   "source": [
    "def area(tpr,fpr):\n",
    "    import numpy as np\n",
    "    area=np.trapz(tpr,fpr)\n",
    "    return area"
   ]
  },
  {
   "cell_type": "code",
   "execution_count": 19,
   "metadata": {},
   "outputs": [],
   "source": [
    "import matplotlib.pyplot as plt\n",
    "def plot(AUC_train,alpha_train,AUC_test,alpha_test):\n",
    "    plt.plot(alpha_train,AUC_train,marker='o',label=\"Train\")\n",
    "    plt.plot(alpha_test,AUC_test,label=\"Test\",marker='s')\n",
    "    plt.legend()\n",
    "    plt.xlabel('Alpha')\n",
    "    plt.ylabel('AUC')\n",
    "    plt.title(' ALPHA VS AUC')\n",
    "    plt.grid()\n",
    "    plt.show()"
   ]
  },
  {
   "cell_type": "code",
   "execution_count": 20,
   "metadata": {},
   "outputs": [
    {
     "data": {
      "image/png": "[encoded data removed]",
      "text/plain": [
       "<Figure size 432x288 with 1 Axes>"
      ]
     },
     "metadata": {
      "needs_background": "light"
     },
     "output_type": "display_data"
    }
   ],
   "source": [
    "plot(AUC_train,alpha_train,AUC_test,alpha_train)"
   ]
  },
  {
   "cell_type": "code",
   "execution_count": 21,
   "metadata": {},
   "outputs": [],
   "source": [
    "# Obtain the optimal value for 'alpha' and using the obtained optimal 'alpha' value, fit a multinomial naive bayes model, on the train data,\n",
    "# Note: If you have split the datase into 3 parts (ie., train, cv and test sets) in the beginning, then the training datafor this final model would be (train set + cv set)\n",
    "# Make class label and probability predictions on the train and test data.\n",
    "#Now from the above graph plot i am going to use alpha = 3\n",
    "a=3\n",
    "clf = MultinomialNB(alpha=a)\n",
    "details_from_set1.append(a)\n",
    "clf.fit(X_tr_bow,y_train)\n",
    "y_pred_train=clf.predict(X_tr_bow)\n",
    "y_pred_test=clf.predict(X_te_bow)\n",
    "from sklearn.metrics import confusion_matrix\n",
    "tn, fp, fn, tp=confusion_matrix(y_train,y_pred_train).ravel()\n",
    "tn_t, fp_t, fn_t, tp_t=confusion_matrix(y_test,y_pred_test).ravel()\n",
    "new_proba_train=clf.predict_proba(X_tr_bow)\n",
    "new_proba_test=clf.predict_proba(X_te_bow)"
   ]
  },
  {
   "cell_type": "code",
   "execution_count": 22,
   "metadata": {},
   "outputs": [
    {
     "name": "stdout",
     "output_type": "stream",
     "text": [
      "Best thershold value for train data is 0.8513212151145712\n",
      "Best thershold value for train data is 0.8525498387695429\n"
     ]
    }
   ],
   "source": [
    "# Pick the best threshold among the probability estimates, such that it has to yield maximum value for TPR*(1-FPR)\n",
    "from sklearn.metrics import roc_curve\n",
    "fpr,tpr,th=roc_curve(y_train,new_proba_train[:,1])\n",
    "\n",
    "fpr_t,tpr_t,th_t=roc_curve(y_test,new_proba_test[:,1])\n",
    "\n",
    "\n",
    "\n",
    "def get_max(fpr,tpr,th):\n",
    "    temp=0\n",
    "    ind=0\n",
    "    for i,j in zip(fpr,tpr):\n",
    "        temp1=abs(j*(1-i))\n",
    "        if temp<temp1:\n",
    "            temp=temp1\n",
    "            req=th[ind]\n",
    "        ind=ind+1\n",
    "    return req\n",
    "#print(fpr,tpr,th)\n",
    "#print(fpr_t,tpr_t,th_t)\n",
    "print(f'Best thershold value for train data is {get_max(fpr,tpr,th)}')\n",
    "print(f'Best thershold value for train data is {get_max(fpr_t,tpr_t,th_t)}')\n",
    "\n",
    "#print(f'Best Theshold value for test data is  {get_max(fpr_t,tpr_t,th_t)}')\n",
    "#print(f'Best Theshold value for test data is  {get_max(fpr_tn,tpr_tn,th_tn)}')\n",
    "\n",
    "\n"
   ]
  },
  {
   "cell_type": "code",
   "execution_count": 23,
   "metadata": {},
   "outputs": [
    {
     "name": "stdout",
     "output_type": "stream",
     "text": [
      "Train confusin matrix \n",
      "[[ 5075  2351]\n",
      " [14296 27319]]\n",
      "Test confusin matrix \n",
      "[[ 2917  2542]\n",
      " [ 8130 22463]]\n"
     ]
    }
   ],
   "source": [
    "# Pick the best threshold among the probability estimates, such that it has to yield maximum value for TPR*(1-FPR)\n",
    "# Plot the confusion matrices(each for train and test data) afer encoding the predicted class labels, on the basis of the best threshod probability estimate.\n",
    "y_pred_train = (clf.predict_proba(X_tr_bow)[:,1] >= get_max(fpr,tpr,th)).astype(bool)\n",
    "Y_pred_test = (clf.predict_proba(X_te_bow)[:,1] >=  get_max(fpr_t,tpr_t,th_t)).astype(bool)\n",
    "con=confusion_matrix(y_train,y_pred_train)\n",
    "con_2=confusion_matrix(y_test,y_pred_test)\n",
    "\n",
    "print(f'Train confusin matrix \\n{con}')\n",
    "print(f'Test confusin matrix \\n{con_2}')\n"
   ]
  },
  {
   "cell_type": "code",
   "execution_count": 24,
   "metadata": {},
   "outputs": [
    {
     "data": {
      "image/png": "[encoded data removed]",
      "text/plain": [
       "<Figure size 432x288 with 1 Axes>"
      ]
     },
     "metadata": {
      "needs_background": "light"
     },
     "output_type": "display_data"
    },
    {
     "name": "stdout",
     "output_type": "stream",
     "text": [
      " For train data the Roc score is 0.6699398323136956\n",
      " For Test data the Roc score  is  0.6342999418342398\n"
     ]
    }
   ],
   "source": [
    "# Plot the ROC-AUC curves using the probability predictions made on train and test data.\n",
    "from sklearn.metrics import roc_auc_score\n",
    "from sklearn.metrics import roc_curve\n",
    "plt.plot(fpr,tpr,label='train')\n",
    "plt.plot(fpr_t,tpr_t,label='test')\n",
    "plt.legend()\n",
    "plt.xlabel('FPR')\n",
    "plt.ylabel('TPR')\n",
    "plt.title('ROC_curve')\n",
    "plt.show()\n",
    "print(f' For train data the Roc score is {roc_auc_score(y_train,y_pred_train)}')\n",
    "print(f' For Test data the Roc score  is  {roc_auc_score(y_test,y_pred_test)}')\n",
    "details_from_set1.append(roc_auc_score(y_test,y_pred_test))"
   ]
  },
  {
   "cell_type": "code",
   "execution_count": 25,
   "metadata": {},
   "outputs": [
    {
     "name": "stdout",
     "output_type": "stream",
     "text": [
      " Top 20 features for set 1 associated with the possitive points \n",
      "\n",
      "['dr' 'vt' 'wy' 'nd' 'mt' 'sd' 'ne' 'ri' 'nh' 'ak' 'de' 'dc' 'hi' 'me'\n",
      " 'nm' 'wv' 'students use materials' 'these materials allow' 'my scholars'\n",
      " 'materials allow students']\n",
      "\n",
      "\n",
      "Top 20 features for set 1 associated with the negative  points  \n",
      "\n",
      "['dr' 'nd' 'vt' 'wy' 'the wobble' 'de' 'chromebooks allow' 'stools allow'\n",
      " 'calculator' 'sturdy' 'chromebooks would' 'graphing' 'stories read'\n",
      " 'these chromebooks' 'chromebooks students' 'chairs help'\n",
      " 'the chromebooks' 'chromebooks classroom' 'balance balls' 'these chairs']\n"
     ]
    }
   ],
   "source": [
    "# Either from set 1 (or) set 2, print the names of the top 20 features associated with the positive and negative classes each. (You have to print the names of the features, but not the indexes)\n",
    "#printing top 20 features from\n",
    "pos=clf.feature_log_prob_[1]\n",
    "neg=clf.feature_log_prob_[0]\n",
    "top_20_pos_index=np.argsort(pos)[:20]\n",
    "top_20_neg_index=np.argsort(neg)[:20]\n",
    "n=np.array(all_featrues_final)\n",
    "print(f' Top 20 features for set 1 associated with the possitive points \\n\\n{n[top_20_pos_index]}\\n\\n')\n",
    "print(f'Top 20 features for set 1 associated with the negative  points  \\n\\n{n[top_20_neg_index]}')"
   ]
  },
  {
   "cell_type": "markdown",
   "metadata": {},
   "source": [
    "#### Set 2"
   ]
  },
  {
   "cell_type": "code",
   "execution_count": 26,
   "metadata": {},
   "outputs": [
    {
     "data": {
      "image/png": "[encoded data removed]",
      "text/plain": [
       "<Figure size 432x288 with 1 Axes>"
      ]
     },
     "metadata": {
      "needs_background": "light"
     },
     "output_type": "display_data"
    }
   ],
   "source": [
    "# Perform Hyperparameter Tuning.\n",
    "# Plot the training and the CV AUC scores, for different values of 'alpha', using a 2D line plot\n",
    "details_from_set2=['TFIDF','Brute']\n",
    "AUC_train_TFIDF,AUC_test_TFIDF,alpha_train_TFIDF=AUC_alpha(X_tr_tfidf,y_train,X_te_tfidf,y_test)\n",
    "plot(AUC_train_TFIDF,alpha_train,AUC_test_TFIDF,alpha_train_TFIDF)"
   ]
  },
  {
   "cell_type": "code",
   "execution_count": 27,
   "metadata": {},
   "outputs": [],
   "source": [
    "# Obtain the optimal value for 'alpha' and using the obtained optimal 'alpha' value, fit a multinomial naive bayes model, on the train data,\n",
    "# Note: If you have split the datase into 3 parts (ie., train, cv and test sets) in the beginning, then the training datafor this final model would be (train set + cv set)\n",
    "# Make class label and probability predictions on the train and test data.\n",
    "a=3\n",
    "clf = MultinomialNB(alpha=a)\n",
    "details_from_set2.append(a)\n",
    "clf.fit(X_tr_tfidf,y_train)\n",
    "y_pred_train=clf.predict(X_tr_tfidf)\n",
    "y_pred_test=clf.predict(X_te_tfidf)\n",
    "from sklearn.metrics import confusion_matrix\n",
    "tn, fp, fn, tp=confusion_matrix(y_train,y_pred_train).ravel()\n",
    "tn_t, fp_t, fn_t, tp_t=confusion_matrix(y_test,y_pred_test).ravel()\n",
    "new_proba_train=clf.predict_proba(X_tr_tfidf)\n",
    "new_proba_test=clf.predict_proba(X_te_tfidf)\n",
    "\n"
   ]
  },
  {
   "cell_type": "code",
   "execution_count": 28,
   "metadata": {},
   "outputs": [
    {
     "name": "stdout",
     "output_type": "stream",
     "text": [
      "Best thershold value for train data is 0.8644287312534038\n",
      "Best Theshold value for test data is  0.8630246493413569\n"
     ]
    }
   ],
   "source": [
    "from sklearn.metrics import roc_curve\n",
    "fpr,tpr,th=roc_curve(y_train,new_proba_train[:,1])\n",
    "fpr_t,tpr_t,th_t=roc_curve(y_test,new_proba_test[:,1])\n",
    "def get_max(fpr,tpr,th):\n",
    "    temp=0\n",
    "    ind=0\n",
    "    for i,j in zip(fpr,tpr):\n",
    "        temp1=abs(j*(1-i))\n",
    "        if temp<temp1:\n",
    "            temp=temp1\n",
    "            req=th[ind]\n",
    "        ind=ind+1\n",
    "    return req\n",
    "#print(fpr,tpr,th)\n",
    "#print(fpr_t,tpr_t,th_t)\n",
    "print(f'Best thershold value for train data is {get_max(fpr,tpr,th)}')\n",
    "print(f'Best Theshold value for test data is  {get_max(fpr_t,tpr_t,th_t)}')"
   ]
  },
  {
   "cell_type": "code",
   "execution_count": 29,
   "metadata": {},
   "outputs": [
    {
     "name": "stdout",
     "output_type": "stream",
     "text": [
      "Train confusin matrix \n",
      "[[ 4919  2507]\n",
      " [14376 27239]]\n",
      "Test confusin matrix \n",
      "[[   58  5401]\n",
      " [  221 30372]]\n"
     ]
    }
   ],
   "source": [
    "# Pick the best threshold among the probability estimates, such that it has to yield maximum value for TPR*(1-FPR)\n",
    "# Plot the confusion matrices(each for train and test data) afer encoding the predicted class labels, on the basis of the best threshod probability estimate.\n",
    "\n",
    "y_pred_train = (clf.predict_proba(X_tr_tfidf)[:,1] >= get_max(fpr,tpr,th)).astype(bool)\n",
    "Y_pred_test = (clf.predict_proba(X_te_tfidf)[:,1] >=  get_max(fpr_t,tpr_t,th_t)).astype(bool)\n",
    "con=confusion_matrix(y_train,y_pred_train)\n",
    "con_2=confusion_matrix(y_test,y_pred_test)\n",
    "print(f'Train confusin matrix \\n{con}')\n",
    "print(f'Test confusin matrix \\n{con_2}')"
   ]
  },
  {
   "cell_type": "code",
   "execution_count": 30,
   "metadata": {},
   "outputs": [
    {
     "data": {
      "image/png": "[encoded data removed]",
      "text/plain": [
       "<Figure size 432x288 with 1 Axes>"
      ]
     },
     "metadata": {
      "needs_background": "light"
     },
     "output_type": "display_data"
    },
    {
     "name": "stdout",
     "output_type": "stream",
     "text": [
      " For train data the Roc score is 0.6584750045618107\n",
      " For Test data the Roc score  is  0.501700390893956\n"
     ]
    }
   ],
   "source": [
    "# Plot the ROC-AUC curves using the probability predictions made on train and test data.\n",
    "plt.plot(fpr,tpr,label='train')\n",
    "plt.plot(fpr_t,tpr_t,label='test')\n",
    "plt.legend()\n",
    "plt.xlabel('FPR')\n",
    "plt.ylabel('TPR')\n",
    "plt.title('ROC_curve')\n",
    "plt.show()\n",
    "print(f' For train data the Roc score is {roc_auc_score(y_train,y_pred_train)}')\n",
    "print(f' For Test data the Roc score  is  {roc_auc_score(y_test,y_pred_test)}')\n",
    "details_from_set2.append(roc_auc_score(y_test,y_pred_test))"
   ]
  },
  {
   "cell_type": "markdown",
   "metadata": {
    "id": "lS9hIHdib3dp"
   },
   "source": [
    "<h1>3. Summary</h1>\n",
    "\n",
    "<br> as mentioned in the step 5 of instructions"
   ]
  },
  {
   "cell_type": "code",
   "execution_count": 31,
   "metadata": {},
   "outputs": [],
   "source": [
    "#Summarize your assignment work here in a few points, and also compare the final models (from set 1 and set 2), in terms of optimal hyperparameter value 'alpha', training AUC and test AUC scores.\n",
    "# You can either use a pretty table or any other tabular structure.\n",
    "# Reference Link for Pretty table:  https://pypi.org/project/prettytable/\n",
    "req_details=['Vectorizer','Model','Hyperparameter','AUC']"
   ]
  },
  {
   "cell_type": "code",
   "execution_count": 32,
   "metadata": {},
   "outputs": [],
   "source": [
    "from prettytable import PrettyTable\n",
    "x = PrettyTable()\n"
   ]
  },
  {
   "cell_type": "code",
   "execution_count": 33,
   "metadata": {},
   "outputs": [],
   "source": [
    "x.field_names=req_details\n",
    "x.add_row(details_from_set1)\n",
    "x.add_row(details_from_set2)"
   ]
  },
  {
   "cell_type": "code",
   "execution_count": 34,
   "metadata": {},
   "outputs": [
    {
     "name": "stdout",
     "output_type": "stream",
     "text": [
      "+------------+-------+----------------+--------------------+\n",
      "| Vectorizer | Model | Hyperparameter |        AUC         |\n",
      "+------------+-------+----------------+--------------------+\n",
      "|    BOW     | Brute |       3        | 0.6342999418342398 |\n",
      "|   TFIDF    | Brute |       3        | 0.501700390893956  |\n",
      "+------------+-------+----------------+--------------------+\n"
     ]
    }
   ],
   "source": [
    "print(x)"
   ]
  },
  {
   "cell_type": "markdown",
   "metadata": {},
   "source": [
    "#summary:\n",
    "1.From the above plots i can say that BOW worked more effectively than the TFIDF\n",
    "2.We can improve the performance of the model by using other techniques such as w2v\n"
   ]
  }
 ],
 "metadata": {
  "colab": {
   "collapsed_sections": [],
   "name": "6_Assignment_NB_Instructions.ipynb",
   "provenance": []
  },
  "kernelspec": {
   "display_name": "Python 3",
   "language": "python",
   "name": "python3"
  },
  "language_info": {
   "codemirror_mode": {
    "name": "ipython",
    "version": 3
   },
   "file_extension": ".py",
   "mimetype": "text/x-python",
   "name": "python",
   "nbconvert_exporter": "python",
   "pygments_lexer": "ipython3",
   "version": "3.8.8"
  }
 },
 "nbformat": 4,
 "nbformat_minor": 1
}
