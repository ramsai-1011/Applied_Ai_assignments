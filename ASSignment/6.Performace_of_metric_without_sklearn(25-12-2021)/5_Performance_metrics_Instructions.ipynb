{
 "cells": [
  {
   "cell_type": "markdown",
   "metadata": {
    "id": "s0Ej_bXyQvnV"
   },
   "source": [
    "# Compute performance metrics for the given Y and Y_score without sklearn"
   ]
  },
  {
   "cell_type": "code",
   "execution_count": 26,
   "metadata": {
    "id": "4CHb6NE7Qvnc"
   },
   "outputs": [],
   "source": [
    "import numpy as np\n",
    "import pandas as pd\n",
    "# other than these two you should not import any other packages"
   ]
  },
  {
   "cell_type": "markdown",
   "metadata": {
    "id": "KbsWXuDaQvnq"
   },
   "source": [
    "\n",
    "## A. Compute performance metrics for the given data '5_a.csv'\n",
    " <pre>  <b>Note 1:</b> in this data you can see number of positive points >> number of negatives points\n",
    "   <b>Note 2:</b> use pandas or numpy to read the data from <b>5_a.csv</b>\n",
    "   <b>Note 3:</b> you need to derive the class labels from given score</pre> $y^{pred}= \\text{[0 if y_score < 0.5 else 1]}$\n",
    "\n",
    "<pre>\n",
    "<ol>\n",
    "<li> Compute Confusion Matrix </li>\n",
    "<li> Compute F1 Score </li>\n",
    "<li> Compute AUC Score, you need to compute different thresholds and for each threshold compute tpr,fpr and then use               numpy.trapz(tpr_array, fpr_array) <a href='https://stackoverflow.com/q/53603376/4084039'>https://stackoverflow.com/q/53603376/4084039</a>, <a href='https://stackoverflow.com/a/39678975/4084039'>https://stackoverflow.com/a/39678975/4084039</a> Note: it should be numpy.trapz(tpr_array, fpr_array) not numpy.trapz(fpr_array, tpr_array)\n",
    "Note- Make sure that you arrange your probability scores in descending order while calculating AUC</li>\n",
    "<li> Compute Accuracy Score </li>\n",
    "</ol>\n",
    "</pre>"
   ]
  },
  {
   "cell_type": "code",
   "execution_count": 27,
   "metadata": {
    "id": "WaFLW7oBQvnt"
   },
   "outputs": [],
   "source": [
    "df_a=pd.read_csv('5_a.csv')\n",
    "df_a.head(10)\n",
    "copy_df_a=df_a.copy()"
   ]
  },
  {
   "cell_type": "code",
   "execution_count": 28,
   "metadata": {},
   "outputs": [],
   "source": [
    "df_a.proba[df_a.proba>=0.5]=1 # replacing proba value greater than 0.5 as 1\n",
    "df_a.proba[df_a.proba<0.5]=0 # replacing proba value less than 0.5 as 0"
   ]
  },
  {
   "cell_type": "code",
   "execution_count": 29,
   "metadata": {},
   "outputs": [
    {
     "name": "stdout",
     "output_type": "stream",
     "text": [
      "1.0    10100\n",
      "Name: proba, dtype: int64\n",
      "1.0    10000\n",
      "0.0      100\n",
      "Name: y, dtype: int64\n"
     ]
    }
   ],
   "source": [
    "print(df_a['proba'].value_counts())# After replacing prob i.e predicted\n",
    "print(df_a['y'].value_counts()) # Before predicting y values"
   ]
  },
  {
   "cell_type": "code",
   "execution_count": 30,
   "metadata": {},
   "outputs": [
    {
     "data": {
      "text/html": [
       "<div>\n",
       "<style scoped>\n",
       "    .dataframe tbody tr th:only-of-type {\n",
       "        vertical-align: middle;\n",
       "    }\n",
       "\n",
       "    .dataframe tbody tr th {\n",
       "        vertical-align: top;\n",
       "    }\n",
       "\n",
       "    .dataframe thead th {\n",
       "        text-align: right;\n",
       "    }\n",
       "</style>\n",
       "<table border=\"1\" class=\"dataframe\">\n",
       "  <thead>\n",
       "    <tr style=\"text-align: right;\">\n",
       "      <th></th>\n",
       "      <th>y</th>\n",
       "      <th>proba</th>\n",
       "    </tr>\n",
       "  </thead>\n",
       "  <tbody>\n",
       "    <tr>\n",
       "      <th>0</th>\n",
       "      <td>1.0</td>\n",
       "      <td>1.0</td>\n",
       "    </tr>\n",
       "    <tr>\n",
       "      <th>1</th>\n",
       "      <td>1.0</td>\n",
       "      <td>1.0</td>\n",
       "    </tr>\n",
       "    <tr>\n",
       "      <th>2</th>\n",
       "      <td>1.0</td>\n",
       "      <td>1.0</td>\n",
       "    </tr>\n",
       "    <tr>\n",
       "      <th>3</th>\n",
       "      <td>1.0</td>\n",
       "      <td>1.0</td>\n",
       "    </tr>\n",
       "    <tr>\n",
       "      <th>4</th>\n",
       "      <td>1.0</td>\n",
       "      <td>1.0</td>\n",
       "    </tr>\n",
       "  </tbody>\n",
       "</table>\n",
       "</div>"
      ],
      "text/plain": [
       "     y  proba\n",
       "0  1.0    1.0\n",
       "1  1.0    1.0\n",
       "2  1.0    1.0\n",
       "3  1.0    1.0\n",
       "4  1.0    1.0"
      ]
     },
     "execution_count": 30,
     "metadata": {},
     "output_type": "execute_result"
    }
   ],
   "source": [
    "df_a.head(5)"
   ]
  },
  {
   "cell_type": "code",
   "execution_count": 31,
   "metadata": {},
   "outputs": [],
   "source": [
    "df_a=df_a.rename(columns={'proba':'Y_pred'},inplace=False)# renaming proba as y_pred\n"
   ]
  },
  {
   "cell_type": "code",
   "execution_count": 32,
   "metadata": {},
   "outputs": [
    {
     "data": {
      "text/html": [
       "<div>\n",
       "<style scoped>\n",
       "    .dataframe tbody tr th:only-of-type {\n",
       "        vertical-align: middle;\n",
       "    }\n",
       "\n",
       "    .dataframe tbody tr th {\n",
       "        vertical-align: top;\n",
       "    }\n",
       "\n",
       "    .dataframe thead th {\n",
       "        text-align: right;\n",
       "    }\n",
       "</style>\n",
       "<table border=\"1\" class=\"dataframe\">\n",
       "  <thead>\n",
       "    <tr style=\"text-align: right;\">\n",
       "      <th></th>\n",
       "      <th>y</th>\n",
       "      <th>Y_pred</th>\n",
       "    </tr>\n",
       "  </thead>\n",
       "  <tbody>\n",
       "    <tr>\n",
       "      <th>0</th>\n",
       "      <td>1.0</td>\n",
       "      <td>1.0</td>\n",
       "    </tr>\n",
       "    <tr>\n",
       "      <th>1</th>\n",
       "      <td>1.0</td>\n",
       "      <td>1.0</td>\n",
       "    </tr>\n",
       "  </tbody>\n",
       "</table>\n",
       "</div>"
      ],
      "text/plain": [
       "     y  Y_pred\n",
       "0  1.0     1.0\n",
       "1  1.0     1.0"
      ]
     },
     "execution_count": 32,
     "metadata": {},
     "output_type": "execute_result"
    }
   ],
   "source": [
    "df_a.head(2)"
   ]
  },
  {
   "cell_type": "code",
   "execution_count": 33,
   "metadata": {
    "id": "yg8uUJvGAfCM"
   },
   "outputs": [],
   "source": [
    "# write your code here for task A"
   ]
  },
  {
   "cell_type": "code",
   "execution_count": 34,
   "metadata": {},
   "outputs": [
    {
     "name": "stdout",
     "output_type": "stream",
     "text": [
      "1.0    10100\n",
      "Name: Y_pred, dtype: int64\n",
      "1.0    10000\n",
      "0.0      100\n",
      "Name: y, dtype: int64\n"
     ]
    }
   ],
   "source": [
    "print(df_a['Y_pred'].value_counts())\n",
    "print(df_a['y'].value_counts())"
   ]
  },
  {
   "cell_type": "code",
   "execution_count": 35,
   "metadata": {},
   "outputs": [],
   "source": [
    "def Get_confusion_matrix(df_a): # Return a confusion matrix for a given dataset with y and y_pred columns\n",
    "    True_possitive=0\n",
    "    True_negative=0\n",
    "    False_negative=0\n",
    "    False_possitive=0\n",
    "    for i in range(len(df_a)):\n",
    "        y=df_a.loc[i,'y']\n",
    "        Y_pred=df_a.loc[i,'Y_pred']\n",
    "        if y==1 and Y_pred==1:\n",
    "            True_possitive+=1\n",
    "        elif y==1 and Y_pred==0:\n",
    "            False_negative+=1\n",
    "        elif y==0 and Y_pred==1:\n",
    "            False_possitive+=1\n",
    "        elif y==0 and Y_pred==0:\n",
    "            True_negative+=1\n",
    "    #print(True_possitive,True_negative,False_possitive,False_negative)\n",
    "    confusion_matrix=[[True_negative,False_negative],\n",
    "                     [False_possitive,True_possitive]]\n",
    "    return confusion_matrix"
   ]
  },
  {
   "cell_type": "code",
   "execution_count": 36,
   "metadata": {},
   "outputs": [
    {
     "name": "stdout",
     "output_type": "stream",
     "text": [
      "[[0, 0], [100, 10000]]\n"
     ]
    }
   ],
   "source": [
    "confusion_matrix=Get_confusion_matrix(df_a)\n",
    "print(confusion_matrix)"
   ]
  },
  {
   "cell_type": "code",
   "execution_count": 37,
   "metadata": {},
   "outputs": [],
   "source": [
    "def f1_score(confusion_matrix):#Return F! function for a given confusion matrix\n",
    "    precision=(confusion_matrix[1][1])/(confusion_matrix[1][0]+confusion_matrix[1][1])\n",
    "    recall=(confusion_matrix[1][1])/(confusion_matrix[0][1]+confusion_matrix[1][1])\n",
    "    f1_score=(2*precision*recall/(precision+recall))\n",
    "    return f1_score\n",
    "    #print(precision,recall)"
   ]
  },
  {
   "cell_type": "code",
   "execution_count": 38,
   "metadata": {},
   "outputs": [
    {
     "data": {
      "text/plain": [
       "0.9950248756218906"
      ]
     },
     "execution_count": 38,
     "metadata": {},
     "output_type": "execute_result"
    }
   ],
   "source": [
    "f1_score(confusion_matrix)#F1 score for a given confusion matrix"
   ]
  },
  {
   "cell_type": "code",
   "execution_count": 39,
   "metadata": {},
   "outputs": [],
   "source": [
    "def accuracy(df_a):#Take a dataset and return accuracy of that dataset , dataset should have colums with name y and y_pred\n",
    "    total=0\n",
    "    count=0\n",
    "    for i in range(len(df_a)):\n",
    "        y=df_a.loc[i,'y']\n",
    "        Y_pred=df_a.loc[i,'Y_pred']\n",
    "        total=total+1\n",
    "        if y==Y_pred:\n",
    "            count=count+1\n",
    "    return count/total"
   ]
  },
  {
   "cell_type": "code",
   "execution_count": 40,
   "metadata": {},
   "outputs": [
    {
     "name": "stdout",
     "output_type": "stream",
     "text": [
      "0.9900990099009901\n"
     ]
    }
   ],
   "source": [
    "print(accuracy(df_a))"
   ]
  },
  {
   "cell_type": "code",
   "execution_count": 41,
   "metadata": {},
   "outputs": [
    {
     "data": {
      "text/html": [
       "<div>\n",
       "<style scoped>\n",
       "    .dataframe tbody tr th:only-of-type {\n",
       "        vertical-align: middle;\n",
       "    }\n",
       "\n",
       "    .dataframe tbody tr th {\n",
       "        vertical-align: top;\n",
       "    }\n",
       "\n",
       "    .dataframe thead th {\n",
       "        text-align: right;\n",
       "    }\n",
       "</style>\n",
       "<table border=\"1\" class=\"dataframe\">\n",
       "  <thead>\n",
       "    <tr style=\"text-align: right;\">\n",
       "      <th></th>\n",
       "      <th>y</th>\n",
       "      <th>proba</th>\n",
       "    </tr>\n",
       "  </thead>\n",
       "  <tbody>\n",
       "    <tr>\n",
       "      <th>0</th>\n",
       "      <td>1.0</td>\n",
       "      <td>0.637387</td>\n",
       "    </tr>\n",
       "    <tr>\n",
       "      <th>1</th>\n",
       "      <td>1.0</td>\n",
       "      <td>0.635165</td>\n",
       "    </tr>\n",
       "    <tr>\n",
       "      <th>2</th>\n",
       "      <td>1.0</td>\n",
       "      <td>0.766586</td>\n",
       "    </tr>\n",
       "    <tr>\n",
       "      <th>3</th>\n",
       "      <td>1.0</td>\n",
       "      <td>0.724564</td>\n",
       "    </tr>\n",
       "    <tr>\n",
       "      <th>4</th>\n",
       "      <td>1.0</td>\n",
       "      <td>0.889199</td>\n",
       "    </tr>\n",
       "    <tr>\n",
       "      <th>5</th>\n",
       "      <td>1.0</td>\n",
       "      <td>0.601600</td>\n",
       "    </tr>\n",
       "    <tr>\n",
       "      <th>6</th>\n",
       "      <td>1.0</td>\n",
       "      <td>0.666323</td>\n",
       "    </tr>\n",
       "    <tr>\n",
       "      <th>7</th>\n",
       "      <td>1.0</td>\n",
       "      <td>0.567012</td>\n",
       "    </tr>\n",
       "    <tr>\n",
       "      <th>8</th>\n",
       "      <td>1.0</td>\n",
       "      <td>0.650230</td>\n",
       "    </tr>\n",
       "    <tr>\n",
       "      <th>9</th>\n",
       "      <td>1.0</td>\n",
       "      <td>0.829346</td>\n",
       "    </tr>\n",
       "  </tbody>\n",
       "</table>\n",
       "</div>"
      ],
      "text/plain": [
       "     y     proba\n",
       "0  1.0  0.637387\n",
       "1  1.0  0.635165\n",
       "2  1.0  0.766586\n",
       "3  1.0  0.724564\n",
       "4  1.0  0.889199\n",
       "5  1.0  0.601600\n",
       "6  1.0  0.666323\n",
       "7  1.0  0.567012\n",
       "8  1.0  0.650230\n",
       "9  1.0  0.829346"
      ]
     },
     "execution_count": 41,
     "metadata": {},
     "output_type": "execute_result"
    }
   ],
   "source": [
    "copy_df_a.head(10)"
   ]
  },
  {
   "cell_type": "code",
   "execution_count": 42,
   "metadata": {},
   "outputs": [],
   "source": [
    "final_df=copy_df_a.sort_values(by=['proba'],ascending=False,ignore_index=True)# dataset is sorted in descending order based on proba column"
   ]
  },
  {
   "cell_type": "code",
   "execution_count": 43,
   "metadata": {},
   "outputs": [],
   "source": [
    "\n",
    "global x,y\n",
    "x=[]\n",
    "y=[]\n",
    "\n",
    "def final_cal(temp_df,proa):#This function will return True possitive rate and False possitive rate for a given dataset\n",
    "    new=[]\n",
    "    for i in range(len(temp_df)):\n",
    "        if temp_df.loc[i,'proba']<=proa:\n",
    "            new.append(0)\n",
    "        else:\n",
    "            new.append(1)\n",
    "    temp_df['new']=new\n",
    "    temp_df=temp_df.rename(columns={'new':'Y_pred'},inplace=False)\n",
    "    confusion_matrix=Get_confusion_matrix(temp_df)\n",
    "    TPR=confusion_matrix[1][1]/(confusion_matrix[0][1]+confusion_matrix[1][1])\n",
    "    FPR=confusion_matrix[0][1]/(confusion_matrix[0][1]+confusion_matrix[1][1])\n",
    "    return TPR,FPR\n",
    "\n",
    "\n",
    "    "
   ]
  },
  {
   "cell_type": "code",
   "execution_count": 44,
   "metadata": {},
   "outputs": [
    {
     "name": "stdout",
     "output_type": "stream",
     "text": [
      "0\n",
      "0.8999653487823838\n",
      "500\n",
      "0.8791240623276378\n",
      "1000\n",
      "0.8590080612538507\n",
      "1500\n",
      "0.8373168946051712\n",
      "2000\n",
      "0.8159932794504626\n",
      "2500\n",
      "0.7949220935853838\n",
      "3000\n",
      "0.7743252112201882\n",
      "3500\n",
      "0.755482568935378\n",
      "4000\n",
      "0.7368709011091215\n",
      "4500\n",
      "0.7172746189553424\n",
      "5000\n",
      "0.6987738984053377\n",
      "5500\n",
      "0.6799145909531205\n",
      "6000\n",
      "0.661502140072926\n",
      "6500\n",
      "0.6415840864108876\n",
      "7000\n",
      "0.6225734860427463\n",
      "7500\n",
      "0.6032707857199351\n",
      "8000\n",
      "0.5819224876370167\n",
      "8500\n",
      "0.562993382011199\n",
      "9000\n",
      "0.5432465020287633\n",
      "9500\n",
      "0.5220242820927757\n",
      "10000\n",
      "0.5044086485903945\n"
     ]
    }
   ],
   "source": [
    "for i in range(len(final_df)):\n",
    "    proa=final_df.loc[i,'proba']\n",
    "    if i%500==0 or i==0:\n",
    "        print(i)\n",
    "        print(proa) \n",
    "    \n",
    "    TPR,FPR=final_cal(final_df,proa)\n",
    "    x.append(FPR)\n",
    "    y.append(TPR)\n",
    "    "
   ]
  },
  {
   "cell_type": "code",
   "execution_count": 45,
   "metadata": {},
   "outputs": [
    {
     "name": "stdout",
     "output_type": "stream",
     "text": [
      "-0.499900005\n"
     ]
    }
   ],
   "source": [
    "\n",
    "trapz=np.trapz(y,x)#Return area under the curve for the given points\n",
    "print(trapz)"
   ]
  },
  {
   "cell_type": "markdown",
   "metadata": {
    "id": "V5KZem1BQvn2"
   },
   "source": [
    "\n",
    "\n",
    "## B. Compute performance metrics for the given data '5_b.csv'\n",
    "<pre>\n",
    "   <b>Note 1:</b> in this data you can see number of positive points << number of negatives points\n",
    "   <b>Note 2:</b> use pandas or numpy to read the data from <b>5_b.csv</b>\n",
    "   <b>Note 3:</b> you need to derive the class labels from given score</pre> $y^{pred}= \\text{[0 if y_score < 0.5 else 1]}$\n",
    "\n",
    "<pre>\n",
    "<ol>\n",
    "<li> Compute Confusion Matrix </li>\n",
    "<li> Compute F1 Score </li>\n",
    "<li> Compute AUC Score, you need to compute different thresholds and for each threshold compute tpr,fpr and then use               numpy.trapz(tpr_array, fpr_array) <a href='https://stackoverflow.com/q/53603376/4084039'>https://stackoverflow.com/q/53603376/4084039</a>, <a href='https://stackoverflow.com/a/39678975/4084039'>https://stackoverflow.com/a/39678975/4084039</a>\n",
    "Note- Make sure that you arrange your probability scores in descending order while calculating AUC</li>\n",
    "<li> Compute Accuracy Score </li>\n",
    "</ol>\n",
    "</pre>"
   ]
  },
  {
   "cell_type": "code",
   "execution_count": 46,
   "metadata": {
    "id": "U2sKlq0YQvn5"
   },
   "outputs": [],
   "source": [
    "df_b=pd.read_csv('5_b.csv')\n",
    "df_b.head()\n",
    "df_copy_b=df_b.copy()"
   ]
  },
  {
   "cell_type": "code",
   "execution_count": 47,
   "metadata": {
    "id": "xlLVa-cVAfCS"
   },
   "outputs": [],
   "source": [
    "# write your code here for task B\n",
    "df_b.proba[df_b.proba>=0.5]=1\n",
    "df_b.proba[df_b.proba<0.5]=0\n"
   ]
  },
  {
   "cell_type": "code",
   "execution_count": 48,
   "metadata": {},
   "outputs": [
    {
     "name": "stdout",
     "output_type": "stream",
     "text": [
      "0.0    9806\n",
      "1.0     294\n",
      "Name: proba, dtype: int64\n",
      "0.0    10000\n",
      "1.0      100\n",
      "Name: y, dtype: int64\n"
     ]
    }
   ],
   "source": [
    "print(df_b['proba'].value_counts())# Predicted points\n",
    "print(df_b['y'].value_counts())# Actual given points"
   ]
  },
  {
   "cell_type": "code",
   "execution_count": 49,
   "metadata": {},
   "outputs": [
    {
     "name": "stdout",
     "output_type": "stream",
     "text": [
      "[[9761, 45], [239, 55]]\n"
     ]
    }
   ],
   "source": [
    "#Getting confusion matrix from the above function Get_confusion_matrix\n",
    "df_b=df_b.rename(columns={'proba':'Y_pred'},inplace=False)\n",
    "confusion_matrix_b=Get_confusion_matrix(df_b)\n",
    "print(confusion_matrix_b)\n"
   ]
  },
  {
   "cell_type": "code",
   "execution_count": 50,
   "metadata": {},
   "outputs": [
    {
     "name": "stdout",
     "output_type": "stream",
     "text": [
      "0.2791878172588833\n"
     ]
    }
   ],
   "source": [
    "#Getting f1 score with above function f1_score\n",
    "f1_score_b=f1_score(confusion_matrix_b)\n",
    "print(f1_score_b)"
   ]
  },
  {
   "cell_type": "code",
   "execution_count": 51,
   "metadata": {},
   "outputs": [
    {
     "name": "stdout",
     "output_type": "stream",
     "text": [
      "0.9718811881188119\n"
     ]
    }
   ],
   "source": [
    "#Getting acuuracy with the above function accuracy\n",
    "accuracy_b=accuracy(df_b)\n",
    "print(accuracy_b)"
   ]
  },
  {
   "cell_type": "code",
   "execution_count": 52,
   "metadata": {},
   "outputs": [],
   "source": [
    "final_df_b=df_copy_b.drop_duplicates(subset=['proba'],inplace=False,keep='first')#Trying to remove duplicates , but no data found with duplicates"
   ]
  },
  {
   "cell_type": "code",
   "execution_count": 53,
   "metadata": {},
   "outputs": [
    {
     "name": "stdout",
     "output_type": "stream",
     "text": [
      "10100\n"
     ]
    },
    {
     "data": {
      "text/html": [
       "<div>\n",
       "<style scoped>\n",
       "    .dataframe tbody tr th:only-of-type {\n",
       "        vertical-align: middle;\n",
       "    }\n",
       "\n",
       "    .dataframe tbody tr th {\n",
       "        vertical-align: top;\n",
       "    }\n",
       "\n",
       "    .dataframe thead th {\n",
       "        text-align: right;\n",
       "    }\n",
       "</style>\n",
       "<table border=\"1\" class=\"dataframe\">\n",
       "  <thead>\n",
       "    <tr style=\"text-align: right;\">\n",
       "      <th></th>\n",
       "      <th>y</th>\n",
       "      <th>proba</th>\n",
       "    </tr>\n",
       "  </thead>\n",
       "  <tbody>\n",
       "    <tr>\n",
       "      <th>0</th>\n",
       "      <td>1.0</td>\n",
       "      <td>0.595294</td>\n",
       "    </tr>\n",
       "    <tr>\n",
       "      <th>1</th>\n",
       "      <td>1.0</td>\n",
       "      <td>0.594808</td>\n",
       "    </tr>\n",
       "    <tr>\n",
       "      <th>2</th>\n",
       "      <td>1.0</td>\n",
       "      <td>0.592198</td>\n",
       "    </tr>\n",
       "    <tr>\n",
       "      <th>3</th>\n",
       "      <td>1.0</td>\n",
       "      <td>0.590171</td>\n",
       "    </tr>\n",
       "    <tr>\n",
       "      <th>4</th>\n",
       "      <td>1.0</td>\n",
       "      <td>0.588718</td>\n",
       "    </tr>\n",
       "    <tr>\n",
       "      <th>5</th>\n",
       "      <td>1.0</td>\n",
       "      <td>0.585175</td>\n",
       "    </tr>\n",
       "    <tr>\n",
       "      <th>6</th>\n",
       "      <td>1.0</td>\n",
       "      <td>0.583235</td>\n",
       "    </tr>\n",
       "    <tr>\n",
       "      <th>7</th>\n",
       "      <td>1.0</td>\n",
       "      <td>0.582210</td>\n",
       "    </tr>\n",
       "    <tr>\n",
       "      <th>8</th>\n",
       "      <td>1.0</td>\n",
       "      <td>0.582020</td>\n",
       "    </tr>\n",
       "    <tr>\n",
       "      <th>9</th>\n",
       "      <td>1.0</td>\n",
       "      <td>0.581772</td>\n",
       "    </tr>\n",
       "  </tbody>\n",
       "</table>\n",
       "</div>"
      ],
      "text/plain": [
       "     y     proba\n",
       "0  1.0  0.595294\n",
       "1  1.0  0.594808\n",
       "2  1.0  0.592198\n",
       "3  1.0  0.590171\n",
       "4  1.0  0.588718\n",
       "5  1.0  0.585175\n",
       "6  1.0  0.583235\n",
       "7  1.0  0.582210\n",
       "8  1.0  0.582020\n",
       "9  1.0  0.581772"
      ]
     },
     "execution_count": 53,
     "metadata": {},
     "output_type": "execute_result"
    }
   ],
   "source": [
    "print(final_df_b['proba'].count())# after removing duplicates\n",
    "df_b.count()# Before removing duplicates\n",
    "final_df_b.sort_values(by=['proba'],ascending=False,ignore_index=True,inplace=True)# sort the data in descending order\n",
    "final_df_b.head(10)\n"
   ]
  },
  {
   "cell_type": "code",
   "execution_count": 54,
   "metadata": {},
   "outputs": [
    {
     "name": "stdout",
     "output_type": "stream",
     "text": [
      "0\n",
      "0.5000185949718864\n",
      "500\n",
      "0.4911047881811058\n",
      "1000\n",
      "0.4711579715048221\n",
      "1500\n",
      "0.4511207275572831\n",
      "2000\n",
      "0.432255453828537\n",
      "2500\n",
      "0.4120429070220512\n",
      "3000\n",
      "0.3911799922542589\n",
      "3500\n",
      "0.3704636605699682\n",
      "4000\n",
      "0.3496305891130574\n",
      "4500\n",
      "0.3283548098119311\n",
      "5000\n",
      "0.3051640086545476\n",
      "5500\n",
      "0.2848868658176385\n",
      "6000\n",
      "0.2642695877504534\n",
      "6500\n",
      "0.2435032622783316\n",
      "7000\n",
      "0.2236974633593647\n",
      "7500\n",
      "0.2037631365425095\n",
      "8000\n",
      "0.1830260951795065\n",
      "8500\n",
      "0.1641683911133339\n",
      "9000\n",
      "0.1440896229197282\n",
      "9500\n",
      "0.1242476577862734\n",
      "10000\n",
      "0.104052295804322\n"
     ]
    }
   ],
   "source": [
    "# using the function  final_cal to get the list of TPR and FPR values\n",
    "global x_b,y_b\n",
    "x_b=[]\n",
    "y_b=[]\n",
    "\n",
    "for i in range(len(final_df_b)):\n",
    "    if i%500==0 or i==0:\n",
    "        print(i)\n",
    "        print(proa)\n",
    "    proa=final_df_b.loc[i,'proba']\n",
    "    TPR,FPR=final_cal(final_df_b,proa)\n",
    "    x_b.append(FPR)\n",
    "    y_b.append(TPR)\n",
    "    \n",
    "\n",
    "    "
   ]
  },
  {
   "cell_type": "code",
   "execution_count": 55,
   "metadata": {},
   "outputs": [
    {
     "name": "stdout",
     "output_type": "stream",
     "text": [
      "0.5\n"
     ]
    }
   ],
   "source": [
    "# AUC value which is the area under the AUC curve\n",
    "trapz=np.trapz(x_b,y_b)\n",
    "print(trapz)"
   ]
  },
  {
   "cell_type": "code",
   "execution_count": null,
   "metadata": {},
   "outputs": [],
   "source": []
  },
  {
   "cell_type": "markdown",
   "metadata": {
    "id": "GiPGonTzQvoB"
   },
   "source": [
    "### C. Compute the best threshold (similarly to ROC curve computation) of probability which gives lowest values of metric <b>A</b> for the given data \n",
    "<br>\n",
    "\n",
    "you will be predicting label of a data points like this: $y^{pred}= \\text{[0 if y_score < threshold  else 1]}$\n",
    "\n",
    "$ A = 500 \\times \\text{number of false negative} + 100 \\times \\text{numebr of false positive}$\n",
    "\n",
    "<pre>\n",
    "   <b>Note 1:</b> in this data you can see number of negative points > number of positive points\n",
    "   <b>Note 2:</b> use pandas or numpy to read the data from <b>5_c.csv</b>\n",
    "</pre>"
   ]
  },
  {
   "cell_type": "code",
   "execution_count": 56,
   "metadata": {
    "id": "x5HIJzq1QvoE"
   },
   "outputs": [
    {
     "data": {
      "text/html": [
       "<div>\n",
       "<style scoped>\n",
       "    .dataframe tbody tr th:only-of-type {\n",
       "        vertical-align: middle;\n",
       "    }\n",
       "\n",
       "    .dataframe tbody tr th {\n",
       "        vertical-align: top;\n",
       "    }\n",
       "\n",
       "    .dataframe thead th {\n",
       "        text-align: right;\n",
       "    }\n",
       "</style>\n",
       "<table border=\"1\" class=\"dataframe\">\n",
       "  <thead>\n",
       "    <tr style=\"text-align: right;\">\n",
       "      <th></th>\n",
       "      <th>y</th>\n",
       "      <th>proba</th>\n",
       "    </tr>\n",
       "  </thead>\n",
       "  <tbody>\n",
       "    <tr>\n",
       "      <th>0</th>\n",
       "      <td>0</td>\n",
       "      <td>0.458521</td>\n",
       "    </tr>\n",
       "    <tr>\n",
       "      <th>1</th>\n",
       "      <td>0</td>\n",
       "      <td>0.505037</td>\n",
       "    </tr>\n",
       "    <tr>\n",
       "      <th>2</th>\n",
       "      <td>0</td>\n",
       "      <td>0.418652</td>\n",
       "    </tr>\n",
       "    <tr>\n",
       "      <th>3</th>\n",
       "      <td>0</td>\n",
       "      <td>0.412057</td>\n",
       "    </tr>\n",
       "    <tr>\n",
       "      <th>4</th>\n",
       "      <td>0</td>\n",
       "      <td>0.375579</td>\n",
       "    </tr>\n",
       "  </tbody>\n",
       "</table>\n",
       "</div>"
      ],
      "text/plain": [
       "   y     proba\n",
       "0  0  0.458521\n",
       "1  0  0.505037\n",
       "2  0  0.418652\n",
       "3  0  0.412057\n",
       "4  0  0.375579"
      ]
     },
     "execution_count": 56,
     "metadata": {},
     "output_type": "execute_result"
    }
   ],
   "source": [
    "df_c=pd.read_csv('5_c.csv')\n",
    "df_c.rename(columns={'prob':'proba'},inplace=True)\n",
    "df_copy_c=df_c.copy()# making a copy of the dataset to use in feature requirement\n",
    "df_c.head()\n"
   ]
  },
  {
   "cell_type": "code",
   "execution_count": 57,
   "metadata": {
    "id": "eAPjewjzAfCa"
   },
   "outputs": [
    {
     "name": "stderr",
     "output_type": "stream",
     "text": [
      "<ipython-input-57-40262a55a381>:2: SettingWithCopyWarning: \n",
      "A value is trying to be set on a copy of a slice from a DataFrame\n",
      "\n",
      "See the caveats in the documentation: https://pandas.pydata.org/pandas-docs/stable/user_guide/indexing.html#returning-a-view-versus-a-copy\n",
      "  df_c.proba[df_c.proba>=0.5]=1\n",
      "<ipython-input-57-40262a55a381>:3: SettingWithCopyWarning: \n",
      "A value is trying to be set on a copy of a slice from a DataFrame\n",
      "\n",
      "See the caveats in the documentation: https://pandas.pydata.org/pandas-docs/stable/user_guide/indexing.html#returning-a-view-versus-a-copy\n",
      "  df_c.proba[df_c.proba<0.5]=0\n"
     ]
    }
   ],
   "source": [
    " # write your code for task C\n",
    "df_c.proba[df_c.proba>=0.5]=1\n",
    "df_c.proba[df_c.proba<0.5]=0"
   ]
  },
  {
   "cell_type": "code",
   "execution_count": 58,
   "metadata": {},
   "outputs": [
    {
     "name": "stdout",
     "output_type": "stream",
     "text": [
      "0.0    2099\n",
      "1.0     753\n",
      "Name: proba, dtype: int64\n",
      "0    1805\n",
      "1    1047\n",
      "Name: y, dtype: int64\n"
     ]
    }
   ],
   "source": [
    "print(df_c['proba'].value_counts())# Predicted points\n",
    "print(df_c['y'].value_counts())# Actual given points"
   ]
  },
  {
   "cell_type": "code",
   "execution_count": 59,
   "metadata": {},
   "outputs": [
    {
     "name": "stdout",
     "output_type": "stream",
     "text": [
      "[[1637, 462], [168, 585]]\n"
     ]
    }
   ],
   "source": [
    "#Getting confusion matrix with the function Get_confusion_matrix\n",
    "df_c=df_c.rename(columns={'proba':'Y_pred'},inplace=False)\n",
    "confusion_matrix_c=Get_confusion_matrix(df_c)\n",
    "print(confusion_matrix_c)"
   ]
  },
  {
   "cell_type": "code",
   "execution_count": 60,
   "metadata": {},
   "outputs": [],
   "source": [
    "def find_A(temp_df,proa):# Return A value for a given dataset and thershold value\n",
    "    new=[]\n",
    "    count=0\n",
    "    for i in range(len(temp_df)):\n",
    "        if temp_df.loc[i,'proba']<=proa:\n",
    "            new.append(0)\n",
    "        else:\n",
    "            new.append(1)\n",
    "    temp_df['new']=new\n",
    "    temp_df=temp_df.rename(columns={'new':'Y_pred'},inplace=False)\n",
    "    confusion_matrix=Get_confusion_matrix(temp_df)\n",
    "    False_positive=confusion_matrix[1][0]\n",
    "    False_Negative=confusion_matrix[0][1]\n",
    "    A=500*False_Negative + 100*False_positive\n",
    "    return A"
   ]
  },
  {
   "cell_type": "code",
   "execution_count": 61,
   "metadata": {},
   "outputs": [
    {
     "name": "stderr",
     "output_type": "stream",
     "text": [
      "<ipython-input-61-057247ecd039>:3: SettingWithCopyWarning: \n",
      "A value is trying to be set on a copy of a slice from a DataFrame\n",
      "\n",
      "See the caveats in the documentation: https://pandas.pydata.org/pandas-docs/stable/user_guide/indexing.html#returning-a-view-versus-a-copy\n",
      "  final_df_c.sort_values(by=['proba'],ascending=False,ignore_index=True,inplace=True)\n",
      "<ipython-input-60-fc22342ff1c1>:9: SettingWithCopyWarning: \n",
      "A value is trying to be set on a copy of a slice from a DataFrame.\n",
      "Try using .loc[row_indexer,col_indexer] = value instead\n",
      "\n",
      "See the caveats in the documentation: https://pandas.pydata.org/pandas-docs/stable/user_guide/indexing.html#returning-a-view-versus-a-copy\n",
      "  temp_df['new']=new\n"
     ]
    },
    {
     "name": "stdout",
     "output_type": "stream",
     "text": [
      "0\n",
      "0.9577467989277196\n",
      "500\n",
      "0.5684922297258634\n",
      "1000\n",
      "0.4258294327033533\n",
      "1500\n",
      "0.3135492302275993\n",
      "2000\n",
      "0.217318328449855\n",
      "2500\n",
      "0.1269036644213909\n"
     ]
    }
   ],
   "source": [
    "c_calulated_values={}#USed to store all the A values in the form of dict with thershold, A as keyvalue pair\n",
    "final_df_c=df_copy_c.drop_duplicates(subset=['proba'],keep='first',ignore_index=True)\n",
    "final_df_c.sort_values(by=['proba'],ascending=False,ignore_index=True,inplace=True)\n",
    "for i in range(len(final_df_c)):\n",
    "    proa=final_df_c.loc[i,'proba']\n",
    "    if i%500==0 or i==0:\n",
    "        print(i)\n",
    "        print(proa)\n",
    "    A=find_A(final_df_c,proa)\n",
    "    c_calulated_values[proa]=A"
   ]
  },
  {
   "cell_type": "code",
   "execution_count": 62,
   "metadata": {},
   "outputs": [],
   "source": [
    "def get_min_value(dct):# Get a value of thershold such that A is minimum\n",
    "    min_term=max(dct.values())\n",
    "    req=-1\n",
    "    for i,j in dct.items():\n",
    "        if j<min_term:\n",
    "            min_term=j\n",
    "            req=i\n",
    "    return req\n",
    "        "
   ]
  },
  {
   "cell_type": "code",
   "execution_count": 63,
   "metadata": {},
   "outputs": [
    {
     "name": "stdout",
     "output_type": "stream",
     "text": [
      "0.2501259844850849\n"
     ]
    }
   ],
   "source": [
    "print(get_min_value(c_calulated_values))"
   ]
  },
  {
   "cell_type": "code",
   "execution_count": null,
   "metadata": {},
   "outputs": [],
   "source": []
  },
  {
   "cell_type": "markdown",
   "metadata": {
    "id": "sD4CcgjXQvoL"
   },
   "source": [
    "\n",
    "## D.</b></font> Compute performance metrics(for regression) for the given data 5_d.csv\n",
    "<pre>    <b>Note 2:</b> use pandas or numpy to read the data from <b>5_d.csv</b>\n",
    "    <b>Note 1:</b> <b>5_d.csv</b> will having two columns Y and predicted_Y both are real valued features\n",
    "<ol>\n",
    "<li> Compute Mean Square Error </li>\n",
    "<li> Compute MAPE: https://www.youtube.com/watch?v=ly6ztgIkUxk</li>\n",
    "<li> Compute R^2 error: https://en.wikipedia.org/wiki/Coefficient_of_determination#Definitions </li>\n",
    "</ol>\n",
    "</pre>"
   ]
  },
  {
   "cell_type": "code",
   "execution_count": 64,
   "metadata": {
    "id": "sVOj-bF9AfCd"
   },
   "outputs": [
    {
     "data": {
      "text/html": [
       "<div>\n",
       "<style scoped>\n",
       "    .dataframe tbody tr th:only-of-type {\n",
       "        vertical-align: middle;\n",
       "    }\n",
       "\n",
       "    .dataframe tbody tr th {\n",
       "        vertical-align: top;\n",
       "    }\n",
       "\n",
       "    .dataframe thead th {\n",
       "        text-align: right;\n",
       "    }\n",
       "</style>\n",
       "<table border=\"1\" class=\"dataframe\">\n",
       "  <thead>\n",
       "    <tr style=\"text-align: right;\">\n",
       "      <th></th>\n",
       "      <th>y</th>\n",
       "      <th>pred</th>\n",
       "    </tr>\n",
       "  </thead>\n",
       "  <tbody>\n",
       "    <tr>\n",
       "      <th>0</th>\n",
       "      <td>101.0</td>\n",
       "      <td>100.0</td>\n",
       "    </tr>\n",
       "    <tr>\n",
       "      <th>1</th>\n",
       "      <td>120.0</td>\n",
       "      <td>100.0</td>\n",
       "    </tr>\n",
       "    <tr>\n",
       "      <th>2</th>\n",
       "      <td>131.0</td>\n",
       "      <td>113.0</td>\n",
       "    </tr>\n",
       "    <tr>\n",
       "      <th>3</th>\n",
       "      <td>164.0</td>\n",
       "      <td>125.0</td>\n",
       "    </tr>\n",
       "    <tr>\n",
       "      <th>4</th>\n",
       "      <td>154.0</td>\n",
       "      <td>152.0</td>\n",
       "    </tr>\n",
       "  </tbody>\n",
       "</table>\n",
       "</div>"
      ],
      "text/plain": [
       "       y   pred\n",
       "0  101.0  100.0\n",
       "1  120.0  100.0\n",
       "2  131.0  113.0\n",
       "3  164.0  125.0\n",
       "4  154.0  152.0"
      ]
     },
     "execution_count": 64,
     "metadata": {},
     "output_type": "execute_result"
    }
   ],
   "source": [
    "df_d=pd.read_csv('5_d.csv')\n",
    "df_d.head()"
   ]
  },
  {
   "cell_type": "code",
   "execution_count": 65,
   "metadata": {
    "id": "uRhL1pheAfCe"
   },
   "outputs": [
    {
     "name": "stdout",
     "output_type": "stream",
     "text": [
      "177.16569974554707\n"
     ]
    }
   ],
   "source": [
    " # write your code for task 5d\n",
    "MSE=0\n",
    "for i in range(len(df_d)):\n",
    "    y=df_d.loc[i,'y']\n",
    "    y_pred=df_d.loc[i,'pred']\n",
    "    sub=(y-y_pred)*(y-y_pred)\n",
    "    MSE=MSE+sub\n",
    "MSE=MSE/len(df_d)\n",
    "print(MSE)# mean square value "
   ]
  },
  {
   "cell_type": "code",
   "execution_count": 66,
   "metadata": {},
   "outputs": [
    {
     "name": "stdout",
     "output_type": "stream",
     "text": [
      "0.1291202994009687\n",
      "12.91202994009687\n"
     ]
    }
   ],
   "source": [
    "#mean Absolute percentage errror\n",
    "e=0\n",
    "a=0\n",
    "for i in range(len(df_d)):\n",
    "    y=df_d.loc[i,'y']\n",
    "    y_pred=df_d.loc[i,'pred']\n",
    "    temp=abs(y_pred-y)\n",
    "    e=e+temp\n",
    "    a=a+y\n",
    "MAPE=e/a\n",
    "print(MAPE)\n",
    "print(MAPE*100)# MAPE value less than 30 is always acceptable\n",
    "\n",
    "    "
   ]
  },
  {
   "cell_type": "code",
   "execution_count": 67,
   "metadata": {},
   "outputs": [
    {
     "name": "stdout",
     "output_type": "stream",
     "text": [
      "0.9146211572362986\n"
     ]
    }
   ],
   "source": [
    "#R squared values\n",
    "RR=0\n",
    "avg_y=sum(df_d['y'])/len(df_d['y'])\n",
    "sum_of_squares=0\n",
    "sum_of_resude=0\n",
    "for i in range(len(df_d)):\n",
    "    y=df_d.loc[i,'y']\n",
    "    y_pred=df_d.loc[i,'pred']\n",
    "    sum_of_squares=sum_of_squares+((y-avg_y)**2)\n",
    "    sum_of_resude=sum_of_resude + (y-y_pred)**2\n",
    "    \n",
    "RR=(1 - (sum_of_resude/sum_of_squares))**2\n",
    "print(RR)# RR value near to 1 is best model we have got around 0.91\n",
    "    \n",
    "    "
   ]
  },
  {
   "cell_type": "code",
   "execution_count": null,
   "metadata": {},
   "outputs": [],
   "source": []
  }
 ],
 "metadata": {
  "colab": {
   "collapsed_sections": [],
   "name": "5_Performance_metrics_Instructions.ipynb",
   "provenance": []
  },
  "kernelspec": {
   "display_name": "Python 3",
   "language": "python",
   "name": "python3"
  },
  "language_info": {
   "codemirror_mode": {
    "name": "ipython",
    "version": 3
   },
   "file_extension": ".py",
   "mimetype": "text/x-python",
   "name": "python",
   "nbconvert_exporter": "python",
   "pygments_lexer": "ipython3",
   "version": "3.8.8"
  }
 },
 "nbformat": 4,
 "nbformat_minor": 1
}
