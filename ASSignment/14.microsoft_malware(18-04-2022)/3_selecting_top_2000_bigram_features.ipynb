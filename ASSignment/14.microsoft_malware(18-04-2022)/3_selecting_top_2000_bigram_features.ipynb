{
 "cells": [
  {
   "cell_type": "code",
   "execution_count": 1,
   "id": "6dadb205",
   "metadata": {},
   "outputs": [],
   "source": [
    "import pandas as pd\n",
    "import sklearn as sk\n",
    "import numpy as np\n",
    "import sys"
   ]
  },
  {
   "cell_type": "code",
   "execution_count": 2,
   "id": "43fbef86",
   "metadata": {},
   "outputs": [
    {
     "name": "stdout",
     "output_type": "stream",
     "text": [
      "CPU times: total: 15min 41s\n",
      "Wall time: 16min 9s\n"
     ]
    }
   ],
   "source": [
    "%%time\n",
    "#importing the csv file That contains all the bigram features\n",
    "df=pd.read_csv(\"new_bigram_of_byte.csv\");"
   ]
  },
  {
   "cell_type": "code",
   "execution_count": 3,
   "id": "4b42f7bf",
   "metadata": {},
   "outputs": [
    {
     "data": {
      "text/plain": [
       "(10869, 66052)"
      ]
     },
     "execution_count": 3,
     "metadata": {},
     "output_type": "execute_result"
    }
   ],
   "source": [
    "df.shape"
   ]
  },
  {
   "cell_type": "code",
   "execution_count": 4,
   "id": "9036a75e",
   "metadata": {},
   "outputs": [
    {
     "data": {
      "text/plain": [
       "Index(['Unnamed: 0.1', 'Unnamed: 0', 'FileName', '00 01', '01 00', '00 02',\n",
       "       '02 00', '00 03', '03 00', '00 04',\n",
       "       ...\n",
       "       'f7 f7', 'f8 f8', 'f9 f9', 'fa fa', 'fb fb', 'fc fc', 'fd fd', 'fe fe',\n",
       "       'ff ff', '?? ??'],\n",
       "      dtype='object', length=66052)"
      ]
     },
     "execution_count": 4,
     "metadata": {},
     "output_type": "execute_result"
    }
   ],
   "source": [
    "df.columns"
   ]
  },
  {
   "cell_type": "code",
   "execution_count": null,
   "id": "9e6b612d",
   "metadata": {},
   "outputs": [],
   "source": []
  },
  {
   "cell_type": "code",
   "execution_count": 5,
   "id": "d3de09f2",
   "metadata": {},
   "outputs": [],
   "source": [
    "class_labels=pd.read_csv('trainLabels.csv')\n",
    "class_labels=class_labels[\"Class\"]\n",
    "class_labels.shape\n",
    "df=df[1:]"
   ]
  },
  {
   "cell_type": "code",
   "execution_count": 33,
   "id": "5243dd5d",
   "metadata": {},
   "outputs": [],
   "source": [
    "from sklearn.feature_selection import SelectKBest, chi2, f_regression\n",
    "select_kbest_object = SelectKBest(score_func=chi2, k=2000)\n"
   ]
  },
  {
   "cell_type": "code",
   "execution_count": 34,
   "id": "41570400",
   "metadata": {},
   "outputs": [
    {
     "name": "stdout",
     "output_type": "stream",
     "text": [
      "CPU times: total: 13.6 s\n",
      "Wall time: 13.6 s\n"
     ]
    }
   ],
   "source": [
    "%%time\n",
    "top_features=select_kbest_object.fit(df.drop('FileName',axis=1),class_labels)"
   ]
  },
  {
   "cell_type": "code",
   "execution_count": 35,
   "id": "6f3bfcc0",
   "metadata": {},
   "outputs": [],
   "source": [
    "top_features_df=pd.DataFrame(top_features.scores_)"
   ]
  },
  {
   "cell_type": "code",
   "execution_count": 36,
   "id": "697e37bb",
   "metadata": {},
   "outputs": [],
   "source": [
    "all_features_columns_df=pd.DataFrame(df.columns[1:])"
   ]
  },
  {
   "cell_type": "code",
   "execution_count": 37,
   "id": "37af2441",
   "metadata": {},
   "outputs": [],
   "source": [
    "bigram_df_imp_feature_score=pd.concat([top_features_df,all_features_columns_df],axis=1)"
   ]
  },
  {
   "cell_type": "code",
   "execution_count": 38,
   "id": "8baa8435",
   "metadata": {},
   "outputs": [
    {
     "data": {
      "text/html": [
       "<div>\n",
       "<style scoped>\n",
       "    .dataframe tbody tr th:only-of-type {\n",
       "        vertical-align: middle;\n",
       "    }\n",
       "\n",
       "    .dataframe tbody tr th {\n",
       "        vertical-align: top;\n",
       "    }\n",
       "\n",
       "    .dataframe thead th {\n",
       "        text-align: right;\n",
       "    }\n",
       "</style>\n",
       "<table border=\"1\" class=\"dataframe\">\n",
       "  <thead>\n",
       "    <tr style=\"text-align: right;\">\n",
       "      <th></th>\n",
       "      <th>0</th>\n",
       "      <th>0</th>\n",
       "    </tr>\n",
       "  </thead>\n",
       "  <tbody>\n",
       "    <tr>\n",
       "      <th>0</th>\n",
       "      <td>1.895041e+07</td>\n",
       "      <td>Unnamed: 0</td>\n",
       "    </tr>\n",
       "    <tr>\n",
       "      <th>1</th>\n",
       "      <td>1.895041e+07</td>\n",
       "      <td>FileName</td>\n",
       "    </tr>\n",
       "    <tr>\n",
       "      <th>2</th>\n",
       "      <td>9.187146e+03</td>\n",
       "      <td>00 01</td>\n",
       "    </tr>\n",
       "    <tr>\n",
       "      <th>3</th>\n",
       "      <td>9.740081e+03</td>\n",
       "      <td>01 00</td>\n",
       "    </tr>\n",
       "    <tr>\n",
       "      <th>4</th>\n",
       "      <td>1.808368e+04</td>\n",
       "      <td>00 02</td>\n",
       "    </tr>\n",
       "    <tr>\n",
       "      <th>...</th>\n",
       "      <td>...</td>\n",
       "      <td>...</td>\n",
       "    </tr>\n",
       "    <tr>\n",
       "      <th>66046</th>\n",
       "      <td>3.437062e+04</td>\n",
       "      <td>fc fc</td>\n",
       "    </tr>\n",
       "    <tr>\n",
       "      <th>66047</th>\n",
       "      <td>9.429014e+04</td>\n",
       "      <td>fd fd</td>\n",
       "    </tr>\n",
       "    <tr>\n",
       "      <th>66048</th>\n",
       "      <td>5.329319e+04</td>\n",
       "      <td>fe fe</td>\n",
       "    </tr>\n",
       "    <tr>\n",
       "      <th>66049</th>\n",
       "      <td>8.349287e+04</td>\n",
       "      <td>ff ff</td>\n",
       "    </tr>\n",
       "    <tr>\n",
       "      <th>66050</th>\n",
       "      <td>3.083854e+07</td>\n",
       "      <td>?? ??</td>\n",
       "    </tr>\n",
       "  </tbody>\n",
       "</table>\n",
       "<p>66051 rows × 2 columns</p>\n",
       "</div>"
      ],
      "text/plain": [
       "                  0           0\n",
       "0      1.895041e+07  Unnamed: 0\n",
       "1      1.895041e+07    FileName\n",
       "2      9.187146e+03       00 01\n",
       "3      9.740081e+03       01 00\n",
       "4      1.808368e+04       00 02\n",
       "...             ...         ...\n",
       "66046  3.437062e+04       fc fc\n",
       "66047  9.429014e+04       fd fd\n",
       "66048  5.329319e+04       fe fe\n",
       "66049  8.349287e+04       ff ff\n",
       "66050  3.083854e+07       ?? ??\n",
       "\n",
       "[66051 rows x 2 columns]"
      ]
     },
     "execution_count": 38,
     "metadata": {},
     "output_type": "execute_result"
    }
   ],
   "source": [
    "bigram_df_imp_feature_score"
   ]
  },
  {
   "cell_type": "code",
   "execution_count": 39,
   "id": "bb0a8ae4",
   "metadata": {},
   "outputs": [],
   "source": [
    "bigram_df_imp_feature_score.columns=[\"Byte Bigram Top 2000 Feature scores\",\"Byte Bigram Top 2000 Feature Names\"]"
   ]
  },
  {
   "cell_type": "code",
   "execution_count": 40,
   "id": "8c184d35",
   "metadata": {},
   "outputs": [],
   "source": [
    "bigram_df_imp_feature_score=bigram_df_imp_feature_score.nlargest(2000,\"Byte Bigram Top 2000 Feature scores\")"
   ]
  },
  {
   "cell_type": "code",
   "execution_count": 41,
   "id": "ee5d2242",
   "metadata": {},
   "outputs": [],
   "source": [
    "top_2000_features_Names=list(bigram_df_imp_feature_score[\"Byte Bigram Top 2000 Feature Names\"])"
   ]
  },
  {
   "cell_type": "code",
   "execution_count": 42,
   "id": "d940a1f8",
   "metadata": {},
   "outputs": [],
   "source": [
    "top_2000_byte_bigram_features=pd.concat([df[\"FileName\"],df[top_2000_features_Names]],axis=1)"
   ]
  },
  {
   "cell_type": "code",
   "execution_count": 43,
   "id": "99570e68",
   "metadata": {},
   "outputs": [],
   "source": [
    "top_2000_byte_bigram_features.to_csv(\"Bytes_final_bigram.csv\")"
   ]
  },
  {
   "cell_type": "code",
   "execution_count": 44,
   "id": "b69969fa",
   "metadata": {},
   "outputs": [
    {
     "data": {
      "text/plain": [
       "(10868, 2001)"
      ]
     },
     "execution_count": 44,
     "metadata": {},
     "output_type": "execute_result"
    }
   ],
   "source": [
    "top_2000_byte_bigram_features.shape"
   ]
  }
 ],
 "metadata": {
  "kernelspec": {
   "display_name": "Python 3 (ipykernel)",
   "language": "python",
   "name": "python3"
  },
  "language_info": {
   "codemirror_mode": {
    "name": "ipython",
    "version": 3
   },
   "file_extension": ".py",
   "mimetype": "text/x-python",
   "name": "python",
   "nbconvert_exporter": "python",
   "pygments_lexer": "ipython3",
   "version": "3.9.7"
  }
 },
 "nbformat": 4,
 "nbformat_minor": 5
}
