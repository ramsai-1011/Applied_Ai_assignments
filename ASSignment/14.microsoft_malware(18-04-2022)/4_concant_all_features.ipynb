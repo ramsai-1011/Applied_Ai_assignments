{
 "cells": [
  {
   "cell_type": "code",
   "execution_count": 1,
   "id": "1e73ed21",
   "metadata": {},
   "outputs": [],
   "source": [
    "import pandas as pd"
   ]
  },
  {
   "cell_type": "code",
   "execution_count": 2,
   "id": "36773a0e",
   "metadata": {},
   "outputs": [],
   "source": [
    "df=pd.read_csv(\"asmoutputfile.csv\")"
   ]
  },
  {
   "cell_type": "code",
   "execution_count": 3,
   "id": "af6b0b5c",
   "metadata": {},
   "outputs": [
    {
     "data": {
      "text/plain": [
       "Index(['ID', 'HEADER:', '.text:', '.Pav:', '.idata:', '.data:', '.bss:',\n",
       "       '.rdata:', '.edata:', '.rsrc:', '.tls:', '.reloc:', '.BSS:', '.CODE',\n",
       "       'jmp', 'mov', 'retf', 'push', 'pop', 'xor', 'retn', 'nop', 'sub', 'inc',\n",
       "       'dec', 'add', 'imul', 'xchg', 'or', 'shr', 'cmp', 'call', 'shl', 'ror',\n",
       "       'rol', 'jnb', 'jz', 'rtn', 'lea', 'movzx', '.dll', 'std::', ':dword',\n",
       "       'edx', 'esi', 'eax', 'ebx', 'ecx', 'edi', 'ebp', 'esp', 'eip'],\n",
       "      dtype='object')"
      ]
     },
     "execution_count": 3,
     "metadata": {},
     "output_type": "execute_result"
    }
   ],
   "source": [
    "df.columns"
   ]
  },
  {
   "cell_type": "code",
   "execution_count": 4,
   "id": "3dad567e",
   "metadata": {},
   "outputs": [
    {
     "data": {
      "text/plain": [
       "(10868, 52)"
      ]
     },
     "execution_count": 4,
     "metadata": {},
     "output_type": "execute_result"
    }
   ],
   "source": [
    "df.shape"
   ]
  },
  {
   "cell_type": "code",
   "execution_count": 5,
   "id": "77c0fa32",
   "metadata": {},
   "outputs": [],
   "source": [
    "df1=pd.read_csv(\"Bytes_final_bigram.csv\")"
   ]
  },
  {
   "cell_type": "code",
   "execution_count": 6,
   "id": "2031df17",
   "metadata": {},
   "outputs": [
    {
     "data": {
      "text/plain": [
       "Index(['Unnamed: 0.1', 'FileName', '?? ??', 'Unnamed: 0', 'FileName.1',\n",
       "       '79 4f', '4f 79', '79 2a', '2a 79', '79 6c',\n",
       "       ...\n",
       "       '7c 06', '5d 17', '7a f5', '58 34', '17 5d', '7a 7c', '4b 4c', '86 04',\n",
       "       '04 df', '47 cb'],\n",
       "      dtype='object', length=2002)"
      ]
     },
     "execution_count": 6,
     "metadata": {},
     "output_type": "execute_result"
    }
   ],
   "source": [
    "df1.columns"
   ]
  },
  {
   "cell_type": "code",
   "execution_count": 9,
   "id": "f46db6ee",
   "metadata": {},
   "outputs": [],
   "source": [
    "df1.rename(columns={'FileName':'ID'})\n",
    "df1.drop(columns=['Unnamed: 0.1','Unnamed: 0','FileName.1'],axis=1,inplace=True)"
   ]
  },
  {
   "cell_type": "code",
   "execution_count": 11,
   "id": "f6eb71c9",
   "metadata": {},
   "outputs": [],
   "source": [
    "df1.rename(columns={'FileName':'ID'},inplace=True)\n"
   ]
  },
  {
   "cell_type": "code",
   "execution_count": 12,
   "id": "e18266b6",
   "metadata": {},
   "outputs": [
    {
     "data": {
      "text/plain": [
       "Index(['ID', '?? ??', '79 4f', '4f 79', '79 2a', '2a 79', '79 6c', '04 0d',\n",
       "       '73 79', '6c 79',\n",
       "       ...\n",
       "       '7c 06', '5d 17', '7a f5', '58 34', '17 5d', '7a 7c', '4b 4c', '86 04',\n",
       "       '04 df', '47 cb'],\n",
       "      dtype='object', length=1999)"
      ]
     },
     "execution_count": 12,
     "metadata": {},
     "output_type": "execute_result"
    }
   ],
   "source": [
    "df1.columns"
   ]
  },
  {
   "cell_type": "code",
   "execution_count": 13,
   "id": "bced5b06",
   "metadata": {},
   "outputs": [
    {
     "data": {
      "text/plain": [
       "(10868, 1999)"
      ]
     },
     "execution_count": 13,
     "metadata": {},
     "output_type": "execute_result"
    }
   ],
   "source": [
    "df1.shape"
   ]
  },
  {
   "cell_type": "code",
   "execution_count": 14,
   "id": "0a3e92d6",
   "metadata": {},
   "outputs": [],
   "source": [
    "df2=pd.read_csv(\"result_with_size.csv\")"
   ]
  },
  {
   "cell_type": "code",
   "execution_count": 15,
   "id": "76c80ce8",
   "metadata": {},
   "outputs": [
    {
     "data": {
      "text/plain": [
       "Index(['Unnamed: 0', 'ID', '0', '1', '2', '3', '4', '5', '6', '7',\n",
       "       ...\n",
       "       'f9', 'fa', 'fb', 'fc', 'fd', 'fe', 'ff', '??', 'size', 'Class'],\n",
       "      dtype='object', length=261)"
      ]
     },
     "execution_count": 15,
     "metadata": {},
     "output_type": "execute_result"
    }
   ],
   "source": [
    "df2.columns"
   ]
  },
  {
   "cell_type": "code",
   "execution_count": 17,
   "id": "519efb96",
   "metadata": {},
   "outputs": [],
   "source": [
    "df2.drop(['Unnamed: 0'],axis=1,inplace=True)"
   ]
  },
  {
   "cell_type": "code",
   "execution_count": 18,
   "id": "e1e65dc7",
   "metadata": {},
   "outputs": [
    {
     "data": {
      "text/plain": [
       "Index(['ID', '0', '1', '2', '3', '4', '5', '6', '7', '8',\n",
       "       ...\n",
       "       'f9', 'fa', 'fb', 'fc', 'fd', 'fe', 'ff', '??', 'size', 'Class'],\n",
       "      dtype='object', length=260)"
      ]
     },
     "execution_count": 18,
     "metadata": {},
     "output_type": "execute_result"
    }
   ],
   "source": [
    "df2.columns"
   ]
  },
  {
   "cell_type": "code",
   "execution_count": 19,
   "id": "2d9a01af",
   "metadata": {},
   "outputs": [
    {
     "data": {
      "text/plain": [
       "(10868, 260)"
      ]
     },
     "execution_count": 19,
     "metadata": {},
     "output_type": "execute_result"
    }
   ],
   "source": [
    "df2.shape"
   ]
  },
  {
   "cell_type": "code",
   "execution_count": 20,
   "id": "12e0747b",
   "metadata": {},
   "outputs": [],
   "source": [
    "output_lables=pd.read_csv(\"trainLabels.csv\")"
   ]
  },
  {
   "cell_type": "code",
   "execution_count": 25,
   "id": "8df0d47c",
   "metadata": {},
   "outputs": [
    {
     "data": {
      "text/plain": [
       "Index(['ID', 'Class'], dtype='object')"
      ]
     },
     "execution_count": 25,
     "metadata": {},
     "output_type": "execute_result"
    }
   ],
   "source": [
    "output_lables.rename(columns={'Id':'ID'},inplace=True)\n",
    "output_lables.columns\n"
   ]
  },
  {
   "cell_type": "code",
   "execution_count": 22,
   "id": "e4b97e00",
   "metadata": {},
   "outputs": [],
   "source": [
    "df3=pd.read_csv(\"pixel_asm_file.csv\")"
   ]
  },
  {
   "cell_type": "code",
   "execution_count": 23,
   "id": "96e4d770",
   "metadata": {},
   "outputs": [
    {
     "data": {
      "text/plain": [
       "(10866, 201)"
      ]
     },
     "execution_count": 23,
     "metadata": {},
     "output_type": "execute_result"
    }
   ],
   "source": [
    "df3.shape"
   ]
  },
  {
   "cell_type": "code",
   "execution_count": 24,
   "id": "5a507ef9",
   "metadata": {},
   "outputs": [
    {
     "data": {
      "text/plain": [
       "Index(['pixel1', 'pixel2', 'pixel3', 'pixel4', 'pixel5', 'pixel6', 'pixel7',\n",
       "       'pixel8', 'pixel9', 'pixel10',\n",
       "       ...\n",
       "       'pixel192', 'pixel193', 'pixel194', 'pixel195', 'pixel196', 'pixel197',\n",
       "       'pixel198', 'pixel199', 'pixel200', 'ID'],\n",
       "      dtype='object', length=201)"
      ]
     },
     "execution_count": 24,
     "metadata": {},
     "output_type": "execute_result"
    }
   ],
   "source": [
    "df3.columns"
   ]
  },
  {
   "cell_type": "code",
   "execution_count": 32,
   "id": "66c9e6ec",
   "metadata": {},
   "outputs": [],
   "source": [
    "df4=pd.merge(df1,df2,on='ID',how='inner')"
   ]
  },
  {
   "cell_type": "code",
   "execution_count": 33,
   "id": "b3313500",
   "metadata": {},
   "outputs": [],
   "source": [
    "df5=pd.merge(df3,output_lables,on='ID',how='inner')"
   ]
  },
  {
   "cell_type": "code",
   "execution_count": 34,
   "id": "1cd9e9c6",
   "metadata": {},
   "outputs": [],
   "source": [
    "final_df=pd.merge(df4,df5,on='ID',how='inner')"
   ]
  },
  {
   "cell_type": "code",
   "execution_count": 35,
   "id": "dcbbcac6",
   "metadata": {},
   "outputs": [
    {
     "data": {
      "text/plain": [
       "(10866, 2459)"
      ]
     },
     "execution_count": 35,
     "metadata": {},
     "output_type": "execute_result"
    }
   ],
   "source": [
    "final_df.shape"
   ]
  },
  {
   "cell_type": "code",
   "execution_count": 39,
   "id": "a01f5369",
   "metadata": {},
   "outputs": [],
   "source": [
    "final_df.to_csv(\"microsoft_final_file.csv\")"
   ]
  },
  {
   "cell_type": "code",
   "execution_count": null,
   "id": "1d3aaab4",
   "metadata": {},
   "outputs": [],
   "source": []
  }
 ],
 "metadata": {
  "kernelspec": {
   "display_name": "Python 3 (ipykernel)",
   "language": "python",
   "name": "python3"
  },
  "language_info": {
   "codemirror_mode": {
    "name": "ipython",
    "version": 3
   },
   "file_extension": ".py",
   "mimetype": "text/x-python",
   "name": "python",
   "nbconvert_exporter": "python",
   "pygments_lexer": "ipython3",
   "version": "3.9.7"
  }
 },
 "nbformat": 4,
 "nbformat_minor": 5
}
