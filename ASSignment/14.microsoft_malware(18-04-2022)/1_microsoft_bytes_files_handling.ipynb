{
 "cells": [
  {
   "cell_type": "code",
   "execution_count": 151,
   "id": "eaaea2ac",
   "metadata": {},
   "outputs": [],
   "source": [
    "#Importing required libraries\n",
    "import os\n",
    "import pandas as pd\n",
    "from itertools import combinations\n",
    "import datetime as dt\n"
   ]
  },
  {
   "cell_type": "markdown",
   "id": "64c3f525",
   "metadata": {},
   "source": [
    "<h1>Main aim of this is to delete .asm file and keep .byte files for th given task</h1>\n"
   ]
  },
  {
   "cell_type": "code",
   "execution_count": 152,
   "id": "29c0f660",
   "metadata": {},
   "outputs": [],
   "source": [
    "source=\"C:\\\\Users\\\\konda\\\\Desktop\\\\MIcrosoft_data\\\\train\"\n",
    "if os.path.isdir(source):\n",
    "    data_list=os.listdir(source)\n",
    "    for file in data_list:\n",
    "        if file.endswith(\"asm\"):\n",
    "            os.remove(source+'\\\\'+file)"
   ]
  },
  {
   "cell_type": "markdown",
   "id": "e7bbbacd",
   "metadata": {},
   "source": [
    "<h6>Convert byte Files to text files</h6>"
   ]
  },
  {
   "cell_type": "code",
   "execution_count": 8,
   "id": "6343d470",
   "metadata": {},
   "outputs": [
    {
     "name": "stdout",
     "output_type": "stream",
     "text": [
      "Total byte files are 10868\n",
      "Remaning files  10800  and Remaning percentage is  99.37430990062569\n",
      "Remaning files  10700  and Remaning percentage is  98.45417740154582\n",
      "Remaning files  10600  and Remaning percentage is  97.53404490246595\n",
      "Remaning files  10500  and Remaning percentage is  96.61391240338608\n",
      "Remaning files  10400  and Remaning percentage is  95.69377990430623\n",
      "Remaning files  10300  and Remaning percentage is  94.77364740522636\n",
      "Remaning files  10200  and Remaning percentage is  93.85351490614649\n",
      "Remaning files  10100  and Remaning percentage is  92.93338240706662\n",
      "Remaning files  10000  and Remaning percentage is  92.01324990798675\n",
      "Remaning files  9900  and Remaning percentage is  91.09311740890688\n",
      "Remaning files  9800  and Remaning percentage is  90.17298490982702\n",
      "Remaning files  9700  and Remaning percentage is  89.25285241074715\n",
      "Remaning files  9600  and Remaning percentage is  88.33271991166728\n",
      "Remaning files  9500  and Remaning percentage is  87.41258741258741\n",
      "Remaning files  9400  and Remaning percentage is  86.49245491350754\n",
      "Remaning files  9300  and Remaning percentage is  85.57232241442767\n",
      "Remaning files  9200  and Remaning percentage is  84.6521899153478\n",
      "Remaning files  9100  and Remaning percentage is  83.73205741626795\n",
      "Remaning files  9000  and Remaning percentage is  82.81192491718808\n",
      "Remaning files  8900  and Remaning percentage is  81.89179241810821\n",
      "Remaning files  8800  and Remaning percentage is  80.97165991902834\n",
      "Remaning files  8700  and Remaning percentage is  80.05152741994847\n",
      "Remaning files  8600  and Remaning percentage is  79.1313949208686\n",
      "Remaning files  8500  and Remaning percentage is  78.21126242178873\n",
      "Remaning files  8400  and Remaning percentage is  77.29112992270888\n",
      "Remaning files  8300  and Remaning percentage is  76.370997423629\n",
      "Remaning files  8200  and Remaning percentage is  75.45086492454914\n",
      "Remaning files  8100  and Remaning percentage is  74.53073242546927\n",
      "Remaning files  8000  and Remaning percentage is  73.6105999263894\n",
      "Remaning files  7900  and Remaning percentage is  72.69046742730953\n",
      "Remaning files  7800  and Remaning percentage is  71.77033492822966\n",
      "Remaning files  7700  and Remaning percentage is  70.8502024291498\n",
      "Remaning files  7600  and Remaning percentage is  69.93006993006993\n",
      "Remaning files  7500  and Remaning percentage is  69.00993743099006\n",
      "Remaning files  7400  and Remaning percentage is  68.0898049319102\n",
      "Remaning files  7300  and Remaning percentage is  67.16967243283032\n",
      "Remaning files  7200  and Remaning percentage is  66.24953993375046\n",
      "Remaning files  7100  and Remaning percentage is  65.32940743467059\n",
      "Remaning files  7000  and Remaning percentage is  64.40927493559073\n",
      "Remaning files  6900  and Remaning percentage is  63.48914243651086\n",
      "Remaning files  6800  and Remaning percentage is  62.56900993743099\n",
      "Remaning files  6700  and Remaning percentage is  61.64887743835112\n",
      "Remaning files  6600  and Remaning percentage is  60.72874493927125\n",
      "Remaning files  6500  and Remaning percentage is  59.80861244019139\n",
      "Remaning files  6400  and Remaning percentage is  58.88847994111152\n",
      "Remaning files  6300  and Remaning percentage is  57.96834744203165\n",
      "Remaning files  6200  and Remaning percentage is  57.04821494295179\n",
      "Remaning files  6100  and Remaning percentage is  56.12808244387192\n",
      "Remaning files  6000  and Remaning percentage is  55.20794994479205\n",
      "Remaning files  5900  and Remaning percentage is  54.287817445712186\n",
      "Remaning files  5800  and Remaning percentage is  53.367684946632316\n",
      "Remaning files  5700  and Remaning percentage is  52.44755244755245\n",
      "Remaning files  5600  and Remaning percentage is  51.52741994847258\n",
      "Remaning files  5500  and Remaning percentage is  50.607287449392715\n",
      "Remaning files  5400  and Remaning percentage is  49.687154950312845\n",
      "Remaning files  5300  and Remaning percentage is  48.767022451232975\n",
      "Remaning files  5200  and Remaning percentage is  47.84688995215311\n",
      "Remaning files  5100  and Remaning percentage is  46.92675745307324\n",
      "Remaning files  5000  and Remaning percentage is  46.006624953993374\n",
      "Remaning files  4900  and Remaning percentage is  45.08649245491351\n",
      "Remaning files  4800  and Remaning percentage is  44.16635995583364\n",
      "Remaning files  4700  and Remaning percentage is  43.24622745675377\n",
      "Remaning files  4600  and Remaning percentage is  42.3260949576739\n",
      "Remaning files  4500  and Remaning percentage is  41.40596245859404\n",
      "Remaning files  4400  and Remaning percentage is  40.48582995951417\n",
      "Remaning files  4300  and Remaning percentage is  39.5656974604343\n",
      "Remaning files  4200  and Remaning percentage is  38.64556496135444\n",
      "Remaning files  4100  and Remaning percentage is  37.72543246227457\n",
      "Remaning files  4000  and Remaning percentage is  36.8052999631947\n",
      "Remaning files  3900  and Remaning percentage is  35.88516746411483\n",
      "Remaning files  3800  and Remaning percentage is  34.96503496503497\n",
      "Remaning files  3700  and Remaning percentage is  34.0449024659551\n",
      "Remaning files  3600  and Remaning percentage is  33.12476996687523\n",
      "Remaning files  3500  and Remaning percentage is  32.204637467795365\n",
      "Remaning files  3400  and Remaning percentage is  31.284504968715495\n",
      "Remaning files  3300  and Remaning percentage is  30.364372469635626\n",
      "Remaning files  3200  and Remaning percentage is  29.44423997055576\n",
      "Remaning files  3100  and Remaning percentage is  28.524107471475894\n",
      "Remaning files  3000  and Remaning percentage is  27.603974972396024\n",
      "Remaning files  2900  and Remaning percentage is  26.683842473316158\n",
      "Remaning files  2800  and Remaning percentage is  25.76370997423629\n",
      "Remaning files  2700  and Remaning percentage is  24.843577475156422\n",
      "Remaning files  2600  and Remaning percentage is  23.923444976076556\n",
      "Remaning files  2500  and Remaning percentage is  23.003312476996687\n",
      "Remaning files  2400  and Remaning percentage is  22.08317997791682\n",
      "Remaning files  2300  and Remaning percentage is  21.16304747883695\n",
      "Remaning files  2200  and Remaning percentage is  20.242914979757085\n",
      "Remaning files  2100  and Remaning percentage is  19.32278248067722\n",
      "Remaning files  2000  and Remaning percentage is  18.40264998159735\n",
      "Remaning files  1900  and Remaning percentage is  17.482517482517483\n",
      "Remaning files  1800  and Remaning percentage is  16.562384983437614\n",
      "Remaning files  1700  and Remaning percentage is  15.642252484357748\n",
      "Remaning files  1600  and Remaning percentage is  14.72211998527788\n",
      "Remaning files  1500  and Remaning percentage is  13.801987486198012\n",
      "Remaning files  1400  and Remaning percentage is  12.881854987118144\n",
      "Remaning files  1300  and Remaning percentage is  11.961722488038278\n",
      "Remaning files  1200  and Remaning percentage is  11.04158998895841\n",
      "Remaning files  1100  and Remaning percentage is  10.121457489878543\n",
      "Remaning files  1000  and Remaning percentage is  9.201324990798675\n",
      "Remaning files  900  and Remaning percentage is  8.281192491718807\n",
      "Remaning files  800  and Remaning percentage is  7.36105999263894\n",
      "Remaning files  700  and Remaning percentage is  6.440927493559072\n",
      "Remaning files  600  and Remaning percentage is  5.520794994479205\n",
      "Remaning files  500  and Remaning percentage is  4.600662495399337\n",
      "Remaning files  400  and Remaning percentage is  3.68052999631947\n",
      "Remaning files  300  and Remaning percentage is  2.7603974972396026\n",
      "Remaning files  200  and Remaning percentage is  1.840264998159735\n",
      "Remaning files  100  and Remaning percentage is  0.9201324990798675\n",
      "Remaning files  0  and Remaning percentage is  0.0\n"
     ]
    }
   ],
   "source": [
    "#No need to run this code keep in mind.\n",
    "#Run just once to convert byte to text file\n",
    "'''source=\"C:\\\\Users\\\\konda\\\\Desktop\\\\MIcrosoft_data\\\\train\"\n",
    "files=os.listdir(source)\n",
    "print('Total byte files are' ,len(files))\n",
    "filenames=[]\n",
    "array=[]\n",
    "temp=len(files)\n",
    "for file in files:\n",
    "    if(file.endswith('bytes')):\n",
    "        temp=temp-1\n",
    "        if temp%100==0:\n",
    "            print('Remaning files ',temp,' and Remaning percentage is ', ((temp*100)/len(files)))\n",
    "        file=file.split('.')[0]\n",
    "        text_file=open('C:\\\\Users\\\\konda\\\\Desktop\\\\MIcrosoft_data\\\\text_files\\\\'+file+'.txt','w+')\n",
    "        with open(source+'\\\\'+file+'.bytes','r') as fp:\n",
    "            lines=\"\"\n",
    "            for line in fp:\n",
    "                a=line.rstrip().split(\" \")[1:]\n",
    "                b=' '.join(a)\n",
    "                b=b+'\\n'\n",
    "                text_file.write(b)\n",
    "            fp.close()\n",
    "            os.remove('C:\\\\Users\\\\konda\\\\Desktop\\\\MIcrosoft_data\\\\train\\\\'+file+'.bytes')\n",
    "        text_file.close()\n",
    "'''"
   ]
  },
  {
   "cell_type": "markdown",
   "id": "48f6adee",
   "metadata": {},
   "source": [
    "<h1>Converting text file to bigram </h1>"
   ]
  },
  {
   "cell_type": "markdown",
   "id": "56fd19a6",
   "metadata": {},
   "source": [
    "<h6>Finding all the possible combinations of unigrams to get bigrams</h6>"
   ]
  },
  {
   "cell_type": "code",
   "execution_count": 153,
   "id": "cae9d98a",
   "metadata": {},
   "outputs": [],
   "source": [
    "l=\"00,01,02,03,04,05,06,07,08,09,0a,0b,0c,0d,0e,0f,10,11,12,13,14,15,16,17,18,19,1a,1b,1c,1d,1e,1f,20,21,22,23,24,25,26,27,28,29,2a,2b,2c,2d,2e,2f,30,31,32,33,34,35,36,37,38,39,3a,3b,3c,3d,3e,3f,40,41,42,43,44,45,46,47,48,49,4a,4b,4c,4d,4e,4f,50,51,52,53,54,55,56,57,58,59,5a,5b,5c,5d,5e,5f,60,61,62,63,64,65,66,67,68,69,6a,6b,6c,6d,6e,6f,70,71,72,73,74,75,76,77,78,79,7a,7b,7c,7d,7e,7f,80,81,82,83,84,85,86,87,88,89,8a,8b,8c,8d,8e,8f,90,91,92,93,94,95,96,97,98,99,9a,9b,9c,9d,9e,9f,a0,a1,a2,a3,a4,a5,a6,a7,a8,a9,aa,ab,ac,ad,ae,af,b0,b1,b2,b3,b4,b5,b6,b7,b8,b9,ba,bb,bc,bd,be,bf,c0,c1,c2,c3,c4,c5,c6,c7,c8,c9,ca,cb,cc,cd,ce,cf,d0,d1,d2,d3,d4,d5,d6,d7,d8,d9,da,db,dc,dd,de,df,e0,e1,e2,e3,e4,e5,e6,e7,e8,e9,ea,eb,ec,ed,ee,ef,f0,f1,f2,f3,f4,f5,f6,f7,f8,f9,fa,fb,fc,fd,fe,ff,??\"\n",
    "te=l.split(',')\n",
    "total_biagram= list(combinations(te, 2))\n",
    "def big_gram(i):\n",
    "    return i[0]+' '+i[1],i[1]+' '+i[0]\n",
    "def gg(i):\n",
    "    return i+' '+i\n",
    "total_biagrams=[]\n",
    "for i in total_biagram:\n",
    "    total_biagrams.extend(big_gram(i))\n",
    "for i in te:\n",
    "    total_biagrams.append(gg(i))\n",
    "new=['FileName']\n",
    "new.extend(total_biagrams)"
   ]
  },
  {
   "cell_type": "code",
   "execution_count": 154,
   "id": "77243a8a",
   "metadata": {},
   "outputs": [
    {
     "data": {
      "text/plain": [
       "'00 00'"
      ]
     },
     "execution_count": 154,
     "metadata": {},
     "output_type": "execute_result"
    }
   ],
   "source": [
    "gg('00')"
   ]
  },
  {
   "cell_type": "code",
   "execution_count": 155,
   "id": "5cfd7482",
   "metadata": {},
   "outputs": [],
   "source": [
    "def dicg(fileName,total_biagrams):#return a dict of file name and biagrams in the form of dict\\\n",
    "    d={}\n",
    "    d['FileName']=fileName\n",
    "    for i in total_biagrams:\n",
    "        d[i]=0\n",
    "    return d"
   ]
  },
  {
   "cell_type": "code",
   "execution_count": 156,
   "id": "7d4e8c81",
   "metadata": {},
   "outputs": [
    {
     "data": {
      "text/plain": [
       "'Found 00 00'"
      ]
     },
     "execution_count": 156,
     "metadata": {},
     "output_type": "execute_result"
    }
   ],
   "source": [
    "def find_in_it(bia,x):\n",
    "    for i in bia:\n",
    "        if i==x:\n",
    "            return \"Found \"+i\n",
    "    return -1\n",
    "find_in_it(total_biagrams,'00 00')"
   ]
  },
  {
   "cell_type": "markdown",
   "id": "ec6d0e7d",
   "metadata": {},
   "source": [
    "<h4>Creating an empty pandas dataframe</h4>"
   ]
  },
  {
   "cell_type": "code",
   "execution_count": 157,
   "id": "cf2d33d9",
   "metadata": {},
   "outputs": [],
   "source": [
    "#find the sequence combination of a list\n",
    "#l=[1,2,3,4,5] ===> 1 2  , 2 3  , 3 4  , 4 5\n",
    "def comb(lis,file,d):\n",
    "    d=d.fromkeys(d,0)\n",
    "    d['FileName']=file\n",
    "    #d={'1 2':0,'2 3':0,'3 4':0,'4 5':0}\n",
    "    #print('comb function is caled at ',dt.datetime.now())\n",
    "    for i in range(1,len(lis)):\n",
    "        t=lis[i-1]+' '+lis[i]\n",
    "        new_t=''\n",
    "        for j in t:\n",
    "            if j.isalpha():\n",
    "                new_t=new_t+j.lower()\n",
    "            else:\n",
    "                new_t=new_t+j\n",
    "        t=new_t\n",
    "        d[t]=d[t]+1\n",
    "    #print('comb function is end at ',dt.datetime.now())\n",
    "    #t=lis[len(lis)-1]+' '+lis[len(lis)]\n",
    "    #d[t]=d[t]+1\n",
    "    return d\n",
    "    \n",
    "    \n",
    "    "
   ]
  },
  {
   "cell_type": "code",
   "execution_count": 158,
   "id": "87eeaef1",
   "metadata": {},
   "outputs": [],
   "source": [
    "global df\n",
    "df=pd.DataFrame(columns=new)"
   ]
  },
  {
   "cell_type": "code",
   "execution_count": 162,
   "id": "a6d8adaa",
   "metadata": {},
   "outputs": [],
   "source": [
    "#Creating a function to convert text file data to bigrams vector\n",
    "req=dicg('xxx',total_biagrams)\n",
    "def read_text_files_to_vector(location):\n",
    "    global df\n",
    "    FileNames=os.listdir(location)\n",
    "    all_files=len(FileNames)\n",
    "    print('Total files are ',all_files)\n",
    "    done=0\n",
    "    for file in FileNames:\n",
    "        total_lines=[]\n",
    "        with open(location+'\\\\'+file) as lines:\n",
    "            for line in lines:\n",
    "                line=line.strip()\n",
    "                total_lines.extend(line.split())\n",
    "            df=df.append(comb(total_lines,file,req),ignore_index=True)\n",
    "        os.remove(location+'\\\\'+file)\n",
    "\n",
    "        if (done%500==0):\n",
    "            print(f'Completed files are {done} and Remaning per is {(all_files-done)*100/all_files}')   \n",
    "            \n",
    "        done=done+1\n",
    "    return df"
   ]
  },
  {
   "cell_type": "code",
   "execution_count": 163,
   "id": "197645f0",
   "metadata": {
    "scrolled": false
   },
   "outputs": [
    {
     "name": "stdout",
     "output_type": "stream",
     "text": [
      "Total files are  10868\n",
      "Completed files are 0 and Remaning per is 100.0\n",
      "Completed files are 500 and Remaning per is 95.39933750460067\n",
      "Completed files are 1000 and Remaning per is 90.79867500920132\n",
      "Completed files are 1500 and Remaning per is 86.19801251380198\n",
      "Completed files are 2000 and Remaning per is 81.59735001840265\n",
      "Completed files are 2500 and Remaning per is 76.99668752300332\n",
      "Completed files are 3000 and Remaning per is 72.39602502760397\n",
      "Completed files are 3500 and Remaning per is 67.79536253220463\n",
      "Completed files are 4000 and Remaning per is 63.1947000368053\n",
      "Completed files are 4500 and Remaning per is 58.59403754140596\n",
      "Completed files are 5000 and Remaning per is 53.993375046006626\n",
      "Completed files are 5500 and Remaning per is 49.392712550607285\n",
      "Completed files are 6000 and Remaning per is 44.79205005520795\n",
      "Completed files are 6500 and Remaning per is 40.19138755980861\n",
      "Completed files are 7000 and Remaning per is 35.59072506440928\n",
      "Completed files are 7500 and Remaning per is 30.990062569009936\n",
      "Completed files are 8000 and Remaning per is 26.3894000736106\n",
      "Completed files are 8500 and Remaning per is 21.78873757821126\n",
      "Completed files are 9000 and Remaning per is 17.188075082811924\n",
      "Completed files are 9500 and Remaning per is 12.587412587412587\n",
      "Completed files are 10000 and Remaning per is 7.98675009201325\n",
      "Completed files are 10500 and Remaning per is 3.3860875966139123\n",
      "Total time is 1 day, 22:02:39.509819\n"
     ]
    }
   ],
   "source": [
    "st=dt.datetime.now()\n",
    "\n",
    "read_text_files_to_vector(\"C:\\\\Users\\\\konda\\\\Desktop\\\\MIcrosoft_data\\\\text_files\")\n",
    "print(f'Total time is {dt.datetime.now()-st}')"
   ]
  },
  {
   "cell_type": "code",
   "execution_count": 165,
   "id": "0a92eaee",
   "metadata": {},
   "outputs": [],
   "source": [
    "df.to_csv('new_features_biagram.csv')"
   ]
  }
 ],
 "metadata": {
  "kernelspec": {
   "display_name": "Python 3 (ipykernel)",
   "language": "python",
   "name": "python3"
  },
  "language_info": {
   "codemirror_mode": {
    "name": "ipython",
    "version": 3
   },
   "file_extension": ".py",
   "mimetype": "text/x-python",
   "name": "python",
   "nbconvert_exporter": "python",
   "pygments_lexer": "ipython3",
   "version": "3.9.7"
  }
 },
 "nbformat": 4,
 "nbformat_minor": 5
}
